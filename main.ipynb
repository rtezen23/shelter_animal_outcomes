{
 "cells": [
  {
   "cell_type": "code",
   "execution_count": 1,
   "id": "72ca4ec5",
   "metadata": {},
   "outputs": [],
   "source": [
    "import pandas as pd\n",
    "import numpy as np"
   ]
  },
  {
   "cell_type": "code",
   "execution_count": 2,
   "id": "bcb9a27d",
   "metadata": {},
   "outputs": [
    {
     "data": {
      "application/vnd.microsoft.datawrangler.viewer.v0+json": {
       "columns": [
        {
         "name": "index",
         "rawType": "int64",
         "type": "integer"
        },
        {
         "name": "ID",
         "rawType": "int64",
         "type": "integer"
        },
        {
         "name": "Adoption",
         "rawType": "int64",
         "type": "integer"
        },
        {
         "name": "Died",
         "rawType": "int64",
         "type": "integer"
        },
        {
         "name": "Euthanasia",
         "rawType": "int64",
         "type": "integer"
        },
        {
         "name": "Return_to_owner",
         "rawType": "int64",
         "type": "integer"
        },
        {
         "name": "Transfer",
         "rawType": "int64",
         "type": "integer"
        }
       ],
       "ref": "8bee13a5-8c3e-4bdb-ade3-04239bfdd020",
       "rows": [
        [
         "0",
         "1",
         "1",
         "0",
         "0",
         "0",
         "0"
        ],
        [
         "1",
         "2",
         "1",
         "0",
         "0",
         "0",
         "0"
        ],
        [
         "2",
         "3",
         "1",
         "0",
         "0",
         "0",
         "0"
        ],
        [
         "3",
         "4",
         "1",
         "0",
         "0",
         "0",
         "0"
        ],
        [
         "4",
         "5",
         "1",
         "0",
         "0",
         "0",
         "0"
        ]
       ],
       "shape": {
        "columns": 6,
        "rows": 5
       }
      },
      "text/html": [
       "<div>\n",
       "<style scoped>\n",
       "    .dataframe tbody tr th:only-of-type {\n",
       "        vertical-align: middle;\n",
       "    }\n",
       "\n",
       "    .dataframe tbody tr th {\n",
       "        vertical-align: top;\n",
       "    }\n",
       "\n",
       "    .dataframe thead th {\n",
       "        text-align: right;\n",
       "    }\n",
       "</style>\n",
       "<table border=\"1\" class=\"dataframe\">\n",
       "  <thead>\n",
       "    <tr style=\"text-align: right;\">\n",
       "      <th></th>\n",
       "      <th>ID</th>\n",
       "      <th>Adoption</th>\n",
       "      <th>Died</th>\n",
       "      <th>Euthanasia</th>\n",
       "      <th>Return_to_owner</th>\n",
       "      <th>Transfer</th>\n",
       "    </tr>\n",
       "  </thead>\n",
       "  <tbody>\n",
       "    <tr>\n",
       "      <th>0</th>\n",
       "      <td>1</td>\n",
       "      <td>1</td>\n",
       "      <td>0</td>\n",
       "      <td>0</td>\n",
       "      <td>0</td>\n",
       "      <td>0</td>\n",
       "    </tr>\n",
       "    <tr>\n",
       "      <th>1</th>\n",
       "      <td>2</td>\n",
       "      <td>1</td>\n",
       "      <td>0</td>\n",
       "      <td>0</td>\n",
       "      <td>0</td>\n",
       "      <td>0</td>\n",
       "    </tr>\n",
       "    <tr>\n",
       "      <th>2</th>\n",
       "      <td>3</td>\n",
       "      <td>1</td>\n",
       "      <td>0</td>\n",
       "      <td>0</td>\n",
       "      <td>0</td>\n",
       "      <td>0</td>\n",
       "    </tr>\n",
       "    <tr>\n",
       "      <th>3</th>\n",
       "      <td>4</td>\n",
       "      <td>1</td>\n",
       "      <td>0</td>\n",
       "      <td>0</td>\n",
       "      <td>0</td>\n",
       "      <td>0</td>\n",
       "    </tr>\n",
       "    <tr>\n",
       "      <th>4</th>\n",
       "      <td>5</td>\n",
       "      <td>1</td>\n",
       "      <td>0</td>\n",
       "      <td>0</td>\n",
       "      <td>0</td>\n",
       "      <td>0</td>\n",
       "    </tr>\n",
       "  </tbody>\n",
       "</table>\n",
       "</div>"
      ],
      "text/plain": [
       "   ID  Adoption  Died  Euthanasia  Return_to_owner  Transfer\n",
       "0   1         1     0           0                0         0\n",
       "1   2         1     0           0                0         0\n",
       "2   3         1     0           0                0         0\n",
       "3   4         1     0           0                0         0\n",
       "4   5         1     0           0                0         0"
      ]
     },
     "execution_count": 2,
     "metadata": {},
     "output_type": "execute_result"
    }
   ],
   "source": [
    "df_1 = pd.read_csv('./data/sample_submission.csv')\n",
    "df_1.head()"
   ]
  },
  {
   "cell_type": "code",
   "execution_count": 7,
   "id": "4e07f975",
   "metadata": {},
   "outputs": [
    {
     "data": {
      "text/plain": [
       "Index(['ID', 'Adoption', 'Died', 'Euthanasia', 'Return_to_owner', 'Transfer'], dtype='object')"
      ]
     },
     "execution_count": 7,
     "metadata": {},
     "output_type": "execute_result"
    }
   ],
   "source": [
    "df_1.columns"
   ]
  },
  {
   "cell_type": "code",
   "execution_count": 3,
   "id": "404d877c",
   "metadata": {},
   "outputs": [
    {
     "data": {
      "text/plain": [
       "Index(['ID', 'Adoption', 'Died', 'Euthanasia', 'Return_to_owner', 'Transfer'], dtype='object')"
      ]
     },
     "execution_count": 3,
     "metadata": {},
     "output_type": "execute_result"
    }
   ],
   "source": [
    "df_1.sum().index"
   ]
  },
  {
   "cell_type": "code",
   "execution_count": 13,
   "id": "5ea1f5b4",
   "metadata": {},
   "outputs": [
    {
     "data": {
      "application/vnd.microsoft.datawrangler.viewer.v0+json": {
       "columns": [
        {
         "name": "index",
         "rawType": "int64",
         "type": "integer"
        },
        {
         "name": "ID",
         "rawType": "int64",
         "type": "integer"
        },
        {
         "name": "Name",
         "rawType": "object",
         "type": "unknown"
        },
        {
         "name": "DateTime",
         "rawType": "object",
         "type": "string"
        },
        {
         "name": "AnimalType",
         "rawType": "object",
         "type": "string"
        },
        {
         "name": "SexuponOutcome",
         "rawType": "object",
         "type": "string"
        },
        {
         "name": "AgeuponOutcome",
         "rawType": "object",
         "type": "string"
        },
        {
         "name": "Breed",
         "rawType": "object",
         "type": "string"
        },
        {
         "name": "Color",
         "rawType": "object",
         "type": "string"
        }
       ],
       "ref": "100df861-552c-43b5-8c70-0c3b303e73e6",
       "rows": [
        [
         "8738",
         "8739",
         "Blackie",
         "2014-10-27 14:04:00",
         "Dog",
         "Intact Male",
         "1 month",
         "Irish Setter/Pit Bull",
         "Black"
        ],
        [
         "8879",
         "8880",
         "Eleanor",
         "2015-10-21 13:40:00",
         "Cat",
         "Spayed Female",
         "1 year",
         "Domestic Shorthair Mix",
         "Cream Tabby"
        ],
        [
         "6379",
         "6380",
         "Sputnik",
         "2015-10-18 13:42:00",
         "Cat",
         "Neutered Male",
         "7 months",
         "Domestic Shorthair Mix",
         "Black"
        ],
        [
         "6708",
         "6709",
         "Simon",
         "2016-02-12 00:00:00",
         "Cat",
         "Neutered Male",
         "10 years",
         "Siamese Mix",
         "Seal Point"
        ],
        [
         "6584",
         "6585",
         null,
         "2015-07-18 12:23:00",
         "Cat",
         "Neutered Male",
         "2 months",
         "Domestic Shorthair Mix",
         "Brown Tabby/White"
        ]
       ],
       "shape": {
        "columns": 8,
        "rows": 5
       }
      },
      "text/html": [
       "<div>\n",
       "<style scoped>\n",
       "    .dataframe tbody tr th:only-of-type {\n",
       "        vertical-align: middle;\n",
       "    }\n",
       "\n",
       "    .dataframe tbody tr th {\n",
       "        vertical-align: top;\n",
       "    }\n",
       "\n",
       "    .dataframe thead th {\n",
       "        text-align: right;\n",
       "    }\n",
       "</style>\n",
       "<table border=\"1\" class=\"dataframe\">\n",
       "  <thead>\n",
       "    <tr style=\"text-align: right;\">\n",
       "      <th></th>\n",
       "      <th>ID</th>\n",
       "      <th>Name</th>\n",
       "      <th>DateTime</th>\n",
       "      <th>AnimalType</th>\n",
       "      <th>SexuponOutcome</th>\n",
       "      <th>AgeuponOutcome</th>\n",
       "      <th>Breed</th>\n",
       "      <th>Color</th>\n",
       "    </tr>\n",
       "  </thead>\n",
       "  <tbody>\n",
       "    <tr>\n",
       "      <th>8738</th>\n",
       "      <td>8739</td>\n",
       "      <td>Blackie</td>\n",
       "      <td>2014-10-27 14:04:00</td>\n",
       "      <td>Dog</td>\n",
       "      <td>Intact Male</td>\n",
       "      <td>1 month</td>\n",
       "      <td>Irish Setter/Pit Bull</td>\n",
       "      <td>Black</td>\n",
       "    </tr>\n",
       "    <tr>\n",
       "      <th>8879</th>\n",
       "      <td>8880</td>\n",
       "      <td>Eleanor</td>\n",
       "      <td>2015-10-21 13:40:00</td>\n",
       "      <td>Cat</td>\n",
       "      <td>Spayed Female</td>\n",
       "      <td>1 year</td>\n",
       "      <td>Domestic Shorthair Mix</td>\n",
       "      <td>Cream Tabby</td>\n",
       "    </tr>\n",
       "    <tr>\n",
       "      <th>6379</th>\n",
       "      <td>6380</td>\n",
       "      <td>Sputnik</td>\n",
       "      <td>2015-10-18 13:42:00</td>\n",
       "      <td>Cat</td>\n",
       "      <td>Neutered Male</td>\n",
       "      <td>7 months</td>\n",
       "      <td>Domestic Shorthair Mix</td>\n",
       "      <td>Black</td>\n",
       "    </tr>\n",
       "    <tr>\n",
       "      <th>6708</th>\n",
       "      <td>6709</td>\n",
       "      <td>Simon</td>\n",
       "      <td>2016-02-12 00:00:00</td>\n",
       "      <td>Cat</td>\n",
       "      <td>Neutered Male</td>\n",
       "      <td>10 years</td>\n",
       "      <td>Siamese Mix</td>\n",
       "      <td>Seal Point</td>\n",
       "    </tr>\n",
       "    <tr>\n",
       "      <th>6584</th>\n",
       "      <td>6585</td>\n",
       "      <td>NaN</td>\n",
       "      <td>2015-07-18 12:23:00</td>\n",
       "      <td>Cat</td>\n",
       "      <td>Neutered Male</td>\n",
       "      <td>2 months</td>\n",
       "      <td>Domestic Shorthair Mix</td>\n",
       "      <td>Brown Tabby/White</td>\n",
       "    </tr>\n",
       "  </tbody>\n",
       "</table>\n",
       "</div>"
      ],
      "text/plain": [
       "        ID     Name             DateTime AnimalType SexuponOutcome  \\\n",
       "8738  8739  Blackie  2014-10-27 14:04:00        Dog    Intact Male   \n",
       "8879  8880  Eleanor  2015-10-21 13:40:00        Cat  Spayed Female   \n",
       "6379  6380  Sputnik  2015-10-18 13:42:00        Cat  Neutered Male   \n",
       "6708  6709    Simon  2016-02-12 00:00:00        Cat  Neutered Male   \n",
       "6584  6585      NaN  2015-07-18 12:23:00        Cat  Neutered Male   \n",
       "\n",
       "     AgeuponOutcome                   Breed              Color  \n",
       "8738        1 month   Irish Setter/Pit Bull              Black  \n",
       "8879         1 year  Domestic Shorthair Mix        Cream Tabby  \n",
       "6379       7 months  Domestic Shorthair Mix              Black  \n",
       "6708       10 years             Siamese Mix         Seal Point  \n",
       "6584       2 months  Domestic Shorthair Mix  Brown Tabby/White  "
      ]
     },
     "execution_count": 13,
     "metadata": {},
     "output_type": "execute_result"
    }
   ],
   "source": [
    "df_test = pd.read_csv('./data/test.csv')\n",
    "df_test.sample(5)"
   ]
  },
  {
   "cell_type": "code",
   "execution_count": 15,
   "id": "0ddbbf6c",
   "metadata": {},
   "outputs": [
    {
     "data": {
      "text/plain": [
       "(11456, 8)"
      ]
     },
     "execution_count": 15,
     "metadata": {},
     "output_type": "execute_result"
    }
   ],
   "source": [
    "df_test.shape"
   ]
  },
  {
   "cell_type": "code",
   "execution_count": 16,
   "id": "7a00722f",
   "metadata": {},
   "outputs": [
    {
     "data": {
      "application/vnd.microsoft.datawrangler.viewer.v0+json": {
       "columns": [
        {
         "name": "index",
         "rawType": "int64",
         "type": "integer"
        },
        {
         "name": "AnimalID",
         "rawType": "object",
         "type": "string"
        },
        {
         "name": "Name",
         "rawType": "object",
         "type": "unknown"
        },
        {
         "name": "DateTime",
         "rawType": "object",
         "type": "string"
        },
        {
         "name": "OutcomeType",
         "rawType": "object",
         "type": "string"
        },
        {
         "name": "OutcomeSubtype",
         "rawType": "object",
         "type": "unknown"
        },
        {
         "name": "AnimalType",
         "rawType": "object",
         "type": "string"
        },
        {
         "name": "SexuponOutcome",
         "rawType": "object",
         "type": "string"
        },
        {
         "name": "AgeuponOutcome",
         "rawType": "object",
         "type": "string"
        },
        {
         "name": "Breed",
         "rawType": "object",
         "type": "string"
        },
        {
         "name": "Color",
         "rawType": "object",
         "type": "string"
        }
       ],
       "ref": "8e93dcbf-a701-4668-907d-34ecf22a90e0",
       "rows": [
        [
         "5679",
         "A675600",
         "Lucy",
         "2014-03-31 19:01:00",
         "Return_to_owner",
         null,
         "Dog",
         "Spayed Female",
         "5 years",
         "Beagle Mix",
         "Tricolor"
        ],
        [
         "8046",
         "A675886",
         "Jirah",
         "2014-04-02 15:48:00",
         "Return_to_owner",
         null,
         "Dog",
         "Spayed Female",
         "8 years",
         "Labrador Retriever Mix",
         "Red/White"
        ],
        [
         "20436",
         "A667374",
         "Rascal",
         "2013-11-20 17:12:00",
         "Return_to_owner",
         null,
         "Dog",
         "Neutered Male",
         "10 months",
         "Chihuahua Shorthair Mix",
         "Chocolate/White"
        ],
        [
         "11465",
         "A696145",
         "Bubba",
         "2015-03-15 15:53:00",
         "Adoption",
         null,
         "Dog",
         "Neutered Male",
         "3 years",
         "German Shepherd Mix",
         "Red/Black"
        ],
        [
         "4010",
         "A711011",
         null,
         "2015-08-31 19:24:00",
         "Transfer",
         "Partner",
         "Cat",
         "Unknown",
         "3 days",
         "Domestic Shorthair Mix",
         "Brown Tabby"
        ]
       ],
       "shape": {
        "columns": 10,
        "rows": 5
       }
      },
      "text/html": [
       "<div>\n",
       "<style scoped>\n",
       "    .dataframe tbody tr th:only-of-type {\n",
       "        vertical-align: middle;\n",
       "    }\n",
       "\n",
       "    .dataframe tbody tr th {\n",
       "        vertical-align: top;\n",
       "    }\n",
       "\n",
       "    .dataframe thead th {\n",
       "        text-align: right;\n",
       "    }\n",
       "</style>\n",
       "<table border=\"1\" class=\"dataframe\">\n",
       "  <thead>\n",
       "    <tr style=\"text-align: right;\">\n",
       "      <th></th>\n",
       "      <th>AnimalID</th>\n",
       "      <th>Name</th>\n",
       "      <th>DateTime</th>\n",
       "      <th>OutcomeType</th>\n",
       "      <th>OutcomeSubtype</th>\n",
       "      <th>AnimalType</th>\n",
       "      <th>SexuponOutcome</th>\n",
       "      <th>AgeuponOutcome</th>\n",
       "      <th>Breed</th>\n",
       "      <th>Color</th>\n",
       "    </tr>\n",
       "  </thead>\n",
       "  <tbody>\n",
       "    <tr>\n",
       "      <th>5679</th>\n",
       "      <td>A675600</td>\n",
       "      <td>Lucy</td>\n",
       "      <td>2014-03-31 19:01:00</td>\n",
       "      <td>Return_to_owner</td>\n",
       "      <td>NaN</td>\n",
       "      <td>Dog</td>\n",
       "      <td>Spayed Female</td>\n",
       "      <td>5 years</td>\n",
       "      <td>Beagle Mix</td>\n",
       "      <td>Tricolor</td>\n",
       "    </tr>\n",
       "    <tr>\n",
       "      <th>8046</th>\n",
       "      <td>A675886</td>\n",
       "      <td>Jirah</td>\n",
       "      <td>2014-04-02 15:48:00</td>\n",
       "      <td>Return_to_owner</td>\n",
       "      <td>NaN</td>\n",
       "      <td>Dog</td>\n",
       "      <td>Spayed Female</td>\n",
       "      <td>8 years</td>\n",
       "      <td>Labrador Retriever Mix</td>\n",
       "      <td>Red/White</td>\n",
       "    </tr>\n",
       "    <tr>\n",
       "      <th>20436</th>\n",
       "      <td>A667374</td>\n",
       "      <td>Rascal</td>\n",
       "      <td>2013-11-20 17:12:00</td>\n",
       "      <td>Return_to_owner</td>\n",
       "      <td>NaN</td>\n",
       "      <td>Dog</td>\n",
       "      <td>Neutered Male</td>\n",
       "      <td>10 months</td>\n",
       "      <td>Chihuahua Shorthair Mix</td>\n",
       "      <td>Chocolate/White</td>\n",
       "    </tr>\n",
       "    <tr>\n",
       "      <th>11465</th>\n",
       "      <td>A696145</td>\n",
       "      <td>Bubba</td>\n",
       "      <td>2015-03-15 15:53:00</td>\n",
       "      <td>Adoption</td>\n",
       "      <td>NaN</td>\n",
       "      <td>Dog</td>\n",
       "      <td>Neutered Male</td>\n",
       "      <td>3 years</td>\n",
       "      <td>German Shepherd Mix</td>\n",
       "      <td>Red/Black</td>\n",
       "    </tr>\n",
       "    <tr>\n",
       "      <th>4010</th>\n",
       "      <td>A711011</td>\n",
       "      <td>NaN</td>\n",
       "      <td>2015-08-31 19:24:00</td>\n",
       "      <td>Transfer</td>\n",
       "      <td>Partner</td>\n",
       "      <td>Cat</td>\n",
       "      <td>Unknown</td>\n",
       "      <td>3 days</td>\n",
       "      <td>Domestic Shorthair Mix</td>\n",
       "      <td>Brown Tabby</td>\n",
       "    </tr>\n",
       "  </tbody>\n",
       "</table>\n",
       "</div>"
      ],
      "text/plain": [
       "      AnimalID    Name             DateTime      OutcomeType OutcomeSubtype  \\\n",
       "5679   A675600    Lucy  2014-03-31 19:01:00  Return_to_owner            NaN   \n",
       "8046   A675886   Jirah  2014-04-02 15:48:00  Return_to_owner            NaN   \n",
       "20436  A667374  Rascal  2013-11-20 17:12:00  Return_to_owner            NaN   \n",
       "11465  A696145   Bubba  2015-03-15 15:53:00         Adoption            NaN   \n",
       "4010   A711011     NaN  2015-08-31 19:24:00         Transfer        Partner   \n",
       "\n",
       "      AnimalType SexuponOutcome AgeuponOutcome                    Breed  \\\n",
       "5679         Dog  Spayed Female        5 years               Beagle Mix   \n",
       "8046         Dog  Spayed Female        8 years   Labrador Retriever Mix   \n",
       "20436        Dog  Neutered Male      10 months  Chihuahua Shorthair Mix   \n",
       "11465        Dog  Neutered Male        3 years      German Shepherd Mix   \n",
       "4010         Cat        Unknown         3 days   Domestic Shorthair Mix   \n",
       "\n",
       "                 Color  \n",
       "5679          Tricolor  \n",
       "8046         Red/White  \n",
       "20436  Chocolate/White  \n",
       "11465        Red/Black  \n",
       "4010       Brown Tabby  "
      ]
     },
     "execution_count": 16,
     "metadata": {},
     "output_type": "execute_result"
    }
   ],
   "source": [
    "df_train = pd.read_csv('./data/train.csv')\n",
    "df_train.sample(5)"
   ]
  },
  {
   "cell_type": "code",
   "execution_count": 17,
   "id": "74d95d16",
   "metadata": {},
   "outputs": [
    {
     "data": {
      "text/plain": [
       "(26729, 10)"
      ]
     },
     "execution_count": 17,
     "metadata": {},
     "output_type": "execute_result"
    }
   ],
   "source": [
    "df_train.shape"
   ]
  },
  {
   "cell_type": "markdown",
   "id": "9b40a62a",
   "metadata": {},
   "source": [
    "# Search duplicates in train dataset"
   ]
  },
  {
   "cell_type": "code",
   "execution_count": 23,
   "id": "1af5f1dc",
   "metadata": {},
   "outputs": [
    {
     "data": {
      "text/plain": [
       "(26729, 10)"
      ]
     },
     "execution_count": 23,
     "metadata": {},
     "output_type": "execute_result"
    }
   ],
   "source": [
    "df_train.shape"
   ]
  },
  {
   "cell_type": "code",
   "execution_count": null,
   "id": "060775f9",
   "metadata": {},
   "outputs": [
    {
     "data": {
      "text/plain": [
       "np.int64(0)"
      ]
     },
     "execution_count": 29,
     "metadata": {},
     "output_type": "execute_result"
    }
   ],
   "source": [
    "# find current duplicates in train\n",
    "df_train.duplicated().sum()"
   ]
  },
  {
   "cell_type": "code",
   "execution_count": null,
   "id": "0c2b3f05",
   "metadata": {},
   "outputs": [
    {
     "data": {
      "text/plain": [
       "np.int64(0)"
      ]
     },
     "execution_count": 30,
     "metadata": {},
     "output_type": "execute_result"
    }
   ],
   "source": [
    "# find current duplicates in test\n",
    "df_test.duplicated().sum()"
   ]
  },
  {
   "cell_type": "code",
   "execution_count": 34,
   "id": "3004e961",
   "metadata": {},
   "outputs": [
    {
     "data": {
      "text/plain": [
       "Index(['AnimalID', 'Name', 'DateTime', 'OutcomeType', 'OutcomeSubtype',\n",
       "       'AnimalType', 'SexuponOutcome', 'AgeuponOutcome', 'Breed', 'Color'],\n",
       "      dtype='object')"
      ]
     },
     "execution_count": 34,
     "metadata": {},
     "output_type": "execute_result"
    }
   ],
   "source": [
    "df_train.columns"
   ]
  },
  {
   "cell_type": "code",
   "execution_count": 42,
   "id": "713b25b8",
   "metadata": {},
   "outputs": [
    {
     "data": {
      "text/plain": [
       "Index(['ID', 'Name', 'DateTime', 'AnimalType', 'SexuponOutcome',\n",
       "       'AgeuponOutcome', 'Breed', 'Color'],\n",
       "      dtype='object')"
      ]
     },
     "execution_count": 42,
     "metadata": {},
     "output_type": "execute_result"
    }
   ],
   "source": [
    "df_test.columns"
   ]
  },
  {
   "cell_type": "code",
   "execution_count": 36,
   "id": "5aec86ca",
   "metadata": {},
   "outputs": [],
   "source": [
    "# drop target columns from train.csv so we can find duplicated rows\n",
    "df_train_2 = df_train.drop(['OutcomeType', 'OutcomeSubtype'], axis=1)"
   ]
  },
  {
   "cell_type": "code",
   "execution_count": 45,
   "id": "ecb8ee97",
   "metadata": {},
   "outputs": [
    {
     "data": {
      "text/plain": [
       "np.int64(0)"
      ]
     },
     "execution_count": 45,
     "metadata": {},
     "output_type": "execute_result"
    }
   ],
   "source": [
    "# find if column id matches between dataframes\n",
    "df_test['ID'].isin(df_train['AnimalID']).sum()"
   ]
  },
  {
   "cell_type": "code",
   "execution_count": 46,
   "id": "a3f73c18",
   "metadata": {},
   "outputs": [],
   "source": [
    "# rename id col for matching\n",
    "df_test = df_test.rename(columns={\"ID\": 'AnimalID'})"
   ]
  },
  {
   "cell_type": "code",
   "execution_count": 47,
   "id": "baad8654",
   "metadata": {},
   "outputs": [
    {
     "data": {
      "text/plain": [
       "(38185, 8)"
      ]
     },
     "execution_count": 47,
     "metadata": {},
     "output_type": "execute_result"
    }
   ],
   "source": [
    "# we can now merge both dataframes so we get more data\n",
    "df = pd.concat([df_train_2, df_test])\n",
    "df.shape"
   ]
  },
  {
   "cell_type": "code",
   "execution_count": 38,
   "id": "04f617fa",
   "metadata": {},
   "outputs": [
    {
     "data": {
      "text/plain": [
       "np.int64(0)"
      ]
     },
     "execution_count": 38,
     "metadata": {},
     "output_type": "execute_result"
    }
   ],
   "source": [
    "# find duplicates between dataframes\n",
    "df.duplicated().sum()"
   ]
  },
  {
   "cell_type": "markdown",
   "id": "781aec69",
   "metadata": {},
   "source": [
    "# 1. EDA"
   ]
  },
  {
   "cell_type": "code",
   "execution_count": 40,
   "id": "6c2092f1",
   "metadata": {},
   "outputs": [
    {
     "name": "stdout",
     "output_type": "stream",
     "text": [
      "<class 'pandas.core.frame.DataFrame'>\n",
      "Index: 38185 entries, 0 to 11455\n",
      "Data columns (total 9 columns):\n",
      " #   Column          Non-Null Count  Dtype  \n",
      "---  ------          --------------  -----  \n",
      " 0   AnimalID        26729 non-null  object \n",
      " 1   Name            27269 non-null  object \n",
      " 2   DateTime        38185 non-null  object \n",
      " 3   AnimalType      38185 non-null  object \n",
      " 4   SexuponOutcome  38184 non-null  object \n",
      " 5   AgeuponOutcome  38161 non-null  object \n",
      " 6   Breed           38185 non-null  object \n",
      " 7   Color           38185 non-null  object \n",
      " 8   ID              11456 non-null  float64\n",
      "dtypes: float64(1), object(8)\n",
      "memory usage: 2.9+ MB\n"
     ]
    }
   ],
   "source": [
    "df.info()"
   ]
  },
  {
   "cell_type": "code",
   "execution_count": 50,
   "id": "236f5b47",
   "metadata": {},
   "outputs": [
    {
     "data": {
      "application/vnd.microsoft.datawrangler.viewer.v0+json": {
       "columns": [
        {
         "name": "index",
         "rawType": "int64",
         "type": "integer"
        },
        {
         "name": "AnimalID",
         "rawType": "object",
         "type": "unknown"
        },
        {
         "name": "Name",
         "rawType": "object",
         "type": "unknown"
        },
        {
         "name": "DateTime",
         "rawType": "object",
         "type": "string"
        },
        {
         "name": "AnimalType",
         "rawType": "object",
         "type": "string"
        },
        {
         "name": "SexuponOutcome",
         "rawType": "object",
         "type": "string"
        },
        {
         "name": "AgeuponOutcome",
         "rawType": "object",
         "type": "string"
        },
        {
         "name": "Breed",
         "rawType": "object",
         "type": "string"
        },
        {
         "name": "Color",
         "rawType": "object",
         "type": "string"
        }
       ],
       "ref": "b079b14c-c075-46c8-bdf1-935d22dc4a5c",
       "rows": [
        [
         "209",
         "A714575",
         "Isis",
         "2015-10-31 15:18:00",
         "Cat",
         "Intact Female",
         "15 years",
         "Domestic Shorthair Mix",
         "Black"
        ],
        [
         "11222",
         "A686309",
         "Paige",
         "2014-08-21 14:23:00",
         "Cat",
         "Spayed Female",
         "2 months",
         "Domestic Shorthair Mix",
         "Torbie"
        ],
        [
         "10269",
         "A718235",
         "Graziella",
         "2015-12-27 18:22:00",
         "Dog",
         "Spayed Female",
         "15 years",
         "American Eskimo",
         "White"
        ],
        [
         "2168",
         "2169",
         "Ernestine",
         "2016-02-02 15:22:00",
         "Cat",
         "Spayed Female",
         "4 months",
         "Domestic Shorthair Mix",
         "Cream Tabby/White"
        ],
        [
         "15650",
         "A686534",
         null,
         "2014-08-24 09:00:00",
         "Cat",
         "Intact Female",
         "8 months",
         "Domestic Shorthair Mix",
         "Black/White"
        ],
        [
         "10818",
         "10819",
         "Sadie",
         "2014-08-09 17:57:00",
         "Dog",
         "Spayed Female",
         "1 year",
         "German Shepherd/Labrador Retriever",
         "Black/Brown"
        ],
        [
         "25715",
         "A697897",
         null,
         "2015-03-03 09:31:00",
         "Cat",
         "Intact Male",
         "3 years",
         "Domestic Longhair Mix",
         "Brown Tabby"
        ],
        [
         "7754",
         "A664629",
         null,
         "2013-10-06 15:45:00",
         "Cat",
         "Intact Male",
         "1 weeks",
         "Domestic Medium Hair Mix",
         "Orange Tabby"
        ],
        [
         "6087",
         "6088",
         "Charlie",
         "2015-12-28 12:04:00",
         "Dog",
         "Intact Male",
         "3 years",
         "Chihuahua Shorthair/Whippet",
         "Brown"
        ],
        [
         "10978",
         "A699378",
         null,
         "2015-03-30 16:44:00",
         "Dog",
         "Spayed Female",
         "2 months",
         "Black Mouth Cur Mix",
         "Brown/White"
        ]
       ],
       "shape": {
        "columns": 8,
        "rows": 10
       }
      },
      "text/html": [
       "<div>\n",
       "<style scoped>\n",
       "    .dataframe tbody tr th:only-of-type {\n",
       "        vertical-align: middle;\n",
       "    }\n",
       "\n",
       "    .dataframe tbody tr th {\n",
       "        vertical-align: top;\n",
       "    }\n",
       "\n",
       "    .dataframe thead th {\n",
       "        text-align: right;\n",
       "    }\n",
       "</style>\n",
       "<table border=\"1\" class=\"dataframe\">\n",
       "  <thead>\n",
       "    <tr style=\"text-align: right;\">\n",
       "      <th></th>\n",
       "      <th>AnimalID</th>\n",
       "      <th>Name</th>\n",
       "      <th>DateTime</th>\n",
       "      <th>AnimalType</th>\n",
       "      <th>SexuponOutcome</th>\n",
       "      <th>AgeuponOutcome</th>\n",
       "      <th>Breed</th>\n",
       "      <th>Color</th>\n",
       "    </tr>\n",
       "  </thead>\n",
       "  <tbody>\n",
       "    <tr>\n",
       "      <th>209</th>\n",
       "      <td>A714575</td>\n",
       "      <td>Isis</td>\n",
       "      <td>2015-10-31 15:18:00</td>\n",
       "      <td>Cat</td>\n",
       "      <td>Intact Female</td>\n",
       "      <td>15 years</td>\n",
       "      <td>Domestic Shorthair Mix</td>\n",
       "      <td>Black</td>\n",
       "    </tr>\n",
       "    <tr>\n",
       "      <th>11222</th>\n",
       "      <td>A686309</td>\n",
       "      <td>Paige</td>\n",
       "      <td>2014-08-21 14:23:00</td>\n",
       "      <td>Cat</td>\n",
       "      <td>Spayed Female</td>\n",
       "      <td>2 months</td>\n",
       "      <td>Domestic Shorthair Mix</td>\n",
       "      <td>Torbie</td>\n",
       "    </tr>\n",
       "    <tr>\n",
       "      <th>10269</th>\n",
       "      <td>A718235</td>\n",
       "      <td>Graziella</td>\n",
       "      <td>2015-12-27 18:22:00</td>\n",
       "      <td>Dog</td>\n",
       "      <td>Spayed Female</td>\n",
       "      <td>15 years</td>\n",
       "      <td>American Eskimo</td>\n",
       "      <td>White</td>\n",
       "    </tr>\n",
       "    <tr>\n",
       "      <th>2168</th>\n",
       "      <td>2169</td>\n",
       "      <td>Ernestine</td>\n",
       "      <td>2016-02-02 15:22:00</td>\n",
       "      <td>Cat</td>\n",
       "      <td>Spayed Female</td>\n",
       "      <td>4 months</td>\n",
       "      <td>Domestic Shorthair Mix</td>\n",
       "      <td>Cream Tabby/White</td>\n",
       "    </tr>\n",
       "    <tr>\n",
       "      <th>15650</th>\n",
       "      <td>A686534</td>\n",
       "      <td>NaN</td>\n",
       "      <td>2014-08-24 09:00:00</td>\n",
       "      <td>Cat</td>\n",
       "      <td>Intact Female</td>\n",
       "      <td>8 months</td>\n",
       "      <td>Domestic Shorthair Mix</td>\n",
       "      <td>Black/White</td>\n",
       "    </tr>\n",
       "    <tr>\n",
       "      <th>10818</th>\n",
       "      <td>10819</td>\n",
       "      <td>Sadie</td>\n",
       "      <td>2014-08-09 17:57:00</td>\n",
       "      <td>Dog</td>\n",
       "      <td>Spayed Female</td>\n",
       "      <td>1 year</td>\n",
       "      <td>German Shepherd/Labrador Retriever</td>\n",
       "      <td>Black/Brown</td>\n",
       "    </tr>\n",
       "    <tr>\n",
       "      <th>25715</th>\n",
       "      <td>A697897</td>\n",
       "      <td>NaN</td>\n",
       "      <td>2015-03-03 09:31:00</td>\n",
       "      <td>Cat</td>\n",
       "      <td>Intact Male</td>\n",
       "      <td>3 years</td>\n",
       "      <td>Domestic Longhair Mix</td>\n",
       "      <td>Brown Tabby</td>\n",
       "    </tr>\n",
       "    <tr>\n",
       "      <th>7754</th>\n",
       "      <td>A664629</td>\n",
       "      <td>NaN</td>\n",
       "      <td>2013-10-06 15:45:00</td>\n",
       "      <td>Cat</td>\n",
       "      <td>Intact Male</td>\n",
       "      <td>1 weeks</td>\n",
       "      <td>Domestic Medium Hair Mix</td>\n",
       "      <td>Orange Tabby</td>\n",
       "    </tr>\n",
       "    <tr>\n",
       "      <th>6087</th>\n",
       "      <td>6088</td>\n",
       "      <td>Charlie</td>\n",
       "      <td>2015-12-28 12:04:00</td>\n",
       "      <td>Dog</td>\n",
       "      <td>Intact Male</td>\n",
       "      <td>3 years</td>\n",
       "      <td>Chihuahua Shorthair/Whippet</td>\n",
       "      <td>Brown</td>\n",
       "    </tr>\n",
       "    <tr>\n",
       "      <th>10978</th>\n",
       "      <td>A699378</td>\n",
       "      <td>NaN</td>\n",
       "      <td>2015-03-30 16:44:00</td>\n",
       "      <td>Dog</td>\n",
       "      <td>Spayed Female</td>\n",
       "      <td>2 months</td>\n",
       "      <td>Black Mouth Cur Mix</td>\n",
       "      <td>Brown/White</td>\n",
       "    </tr>\n",
       "  </tbody>\n",
       "</table>\n",
       "</div>"
      ],
      "text/plain": [
       "      AnimalID       Name             DateTime AnimalType SexuponOutcome  \\\n",
       "209    A714575       Isis  2015-10-31 15:18:00        Cat  Intact Female   \n",
       "11222  A686309      Paige  2014-08-21 14:23:00        Cat  Spayed Female   \n",
       "10269  A718235  Graziella  2015-12-27 18:22:00        Dog  Spayed Female   \n",
       "2168      2169  Ernestine  2016-02-02 15:22:00        Cat  Spayed Female   \n",
       "15650  A686534        NaN  2014-08-24 09:00:00        Cat  Intact Female   \n",
       "10818    10819      Sadie  2014-08-09 17:57:00        Dog  Spayed Female   \n",
       "25715  A697897        NaN  2015-03-03 09:31:00        Cat    Intact Male   \n",
       "7754   A664629        NaN  2013-10-06 15:45:00        Cat    Intact Male   \n",
       "6087      6088    Charlie  2015-12-28 12:04:00        Dog    Intact Male   \n",
       "10978  A699378        NaN  2015-03-30 16:44:00        Dog  Spayed Female   \n",
       "\n",
       "      AgeuponOutcome                               Breed              Color  \n",
       "209         15 years              Domestic Shorthair Mix              Black  \n",
       "11222       2 months              Domestic Shorthair Mix             Torbie  \n",
       "10269       15 years                     American Eskimo              White  \n",
       "2168        4 months              Domestic Shorthair Mix  Cream Tabby/White  \n",
       "15650       8 months              Domestic Shorthair Mix        Black/White  \n",
       "10818         1 year  German Shepherd/Labrador Retriever        Black/Brown  \n",
       "25715        3 years               Domestic Longhair Mix        Brown Tabby  \n",
       "7754         1 weeks            Domestic Medium Hair Mix       Orange Tabby  \n",
       "6087         3 years         Chihuahua Shorthair/Whippet              Brown  \n",
       "10978       2 months                 Black Mouth Cur Mix        Brown/White  "
      ]
     },
     "execution_count": 50,
     "metadata": {},
     "output_type": "execute_result"
    }
   ],
   "source": [
    "df.sample(10)"
   ]
  }
 ],
 "metadata": {
  "kernelspec": {
   "display_name": "animal_shelter_env",
   "language": "python",
   "name": "python3"
  },
  "language_info": {
   "codemirror_mode": {
    "name": "ipython",
    "version": 3
   },
   "file_extension": ".py",
   "mimetype": "text/x-python",
   "name": "python",
   "nbconvert_exporter": "python",
   "pygments_lexer": "ipython3",
   "version": "3.13.5"
  }
 },
 "nbformat": 4,
 "nbformat_minor": 5
}
