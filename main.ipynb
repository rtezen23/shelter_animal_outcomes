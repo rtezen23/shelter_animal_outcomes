{
 "cells": [
  {
   "cell_type": "code",
   "execution_count": 1,
   "id": "72ca4ec5",
   "metadata": {},
   "outputs": [],
   "source": [
    "import pandas as pd\n",
    "import numpy as np"
   ]
  },
  {
   "cell_type": "code",
   "execution_count": 2,
   "id": "bcb9a27d",
   "metadata": {},
   "outputs": [
    {
     "data": {
      "application/vnd.microsoft.datawrangler.viewer.v0+json": {
       "columns": [
        {
         "name": "index",
         "rawType": "int64",
         "type": "integer"
        },
        {
         "name": "ID",
         "rawType": "int64",
         "type": "integer"
        },
        {
         "name": "Adoption",
         "rawType": "int64",
         "type": "integer"
        },
        {
         "name": "Died",
         "rawType": "int64",
         "type": "integer"
        },
        {
         "name": "Euthanasia",
         "rawType": "int64",
         "type": "integer"
        },
        {
         "name": "Return_to_owner",
         "rawType": "int64",
         "type": "integer"
        },
        {
         "name": "Transfer",
         "rawType": "int64",
         "type": "integer"
        }
       ],
       "ref": "b78c6971-9fa8-4182-9e0f-26750ee392b9",
       "rows": [
        [
         "0",
         "1",
         "1",
         "0",
         "0",
         "0",
         "0"
        ],
        [
         "1",
         "2",
         "1",
         "0",
         "0",
         "0",
         "0"
        ],
        [
         "2",
         "3",
         "1",
         "0",
         "0",
         "0",
         "0"
        ],
        [
         "3",
         "4",
         "1",
         "0",
         "0",
         "0",
         "0"
        ],
        [
         "4",
         "5",
         "1",
         "0",
         "0",
         "0",
         "0"
        ]
       ],
       "shape": {
        "columns": 6,
        "rows": 5
       }
      },
      "text/html": [
       "<div>\n",
       "<style scoped>\n",
       "    .dataframe tbody tr th:only-of-type {\n",
       "        vertical-align: middle;\n",
       "    }\n",
       "\n",
       "    .dataframe tbody tr th {\n",
       "        vertical-align: top;\n",
       "    }\n",
       "\n",
       "    .dataframe thead th {\n",
       "        text-align: right;\n",
       "    }\n",
       "</style>\n",
       "<table border=\"1\" class=\"dataframe\">\n",
       "  <thead>\n",
       "    <tr style=\"text-align: right;\">\n",
       "      <th></th>\n",
       "      <th>ID</th>\n",
       "      <th>Adoption</th>\n",
       "      <th>Died</th>\n",
       "      <th>Euthanasia</th>\n",
       "      <th>Return_to_owner</th>\n",
       "      <th>Transfer</th>\n",
       "    </tr>\n",
       "  </thead>\n",
       "  <tbody>\n",
       "    <tr>\n",
       "      <th>0</th>\n",
       "      <td>1</td>\n",
       "      <td>1</td>\n",
       "      <td>0</td>\n",
       "      <td>0</td>\n",
       "      <td>0</td>\n",
       "      <td>0</td>\n",
       "    </tr>\n",
       "    <tr>\n",
       "      <th>1</th>\n",
       "      <td>2</td>\n",
       "      <td>1</td>\n",
       "      <td>0</td>\n",
       "      <td>0</td>\n",
       "      <td>0</td>\n",
       "      <td>0</td>\n",
       "    </tr>\n",
       "    <tr>\n",
       "      <th>2</th>\n",
       "      <td>3</td>\n",
       "      <td>1</td>\n",
       "      <td>0</td>\n",
       "      <td>0</td>\n",
       "      <td>0</td>\n",
       "      <td>0</td>\n",
       "    </tr>\n",
       "    <tr>\n",
       "      <th>3</th>\n",
       "      <td>4</td>\n",
       "      <td>1</td>\n",
       "      <td>0</td>\n",
       "      <td>0</td>\n",
       "      <td>0</td>\n",
       "      <td>0</td>\n",
       "    </tr>\n",
       "    <tr>\n",
       "      <th>4</th>\n",
       "      <td>5</td>\n",
       "      <td>1</td>\n",
       "      <td>0</td>\n",
       "      <td>0</td>\n",
       "      <td>0</td>\n",
       "      <td>0</td>\n",
       "    </tr>\n",
       "  </tbody>\n",
       "</table>\n",
       "</div>"
      ],
      "text/plain": [
       "   ID  Adoption  Died  Euthanasia  Return_to_owner  Transfer\n",
       "0   1         1     0           0                0         0\n",
       "1   2         1     0           0                0         0\n",
       "2   3         1     0           0                0         0\n",
       "3   4         1     0           0                0         0\n",
       "4   5         1     0           0                0         0"
      ]
     },
     "execution_count": 2,
     "metadata": {},
     "output_type": "execute_result"
    }
   ],
   "source": [
    "df_1 = pd.read_csv('./data/sample_submission.csv')\n",
    "df_1.head()"
   ]
  },
  {
   "cell_type": "code",
   "execution_count": 3,
   "id": "4e07f975",
   "metadata": {},
   "outputs": [
    {
     "data": {
      "text/plain": [
       "Index(['ID', 'Adoption', 'Died', 'Euthanasia', 'Return_to_owner', 'Transfer'], dtype='object')"
      ]
     },
     "execution_count": 3,
     "metadata": {},
     "output_type": "execute_result"
    }
   ],
   "source": [
    "df_1.columns"
   ]
  },
  {
   "cell_type": "code",
   "execution_count": 4,
   "id": "404d877c",
   "metadata": {},
   "outputs": [
    {
     "data": {
      "text/plain": [
       "Index(['ID', 'Adoption', 'Died', 'Euthanasia', 'Return_to_owner', 'Transfer'], dtype='object')"
      ]
     },
     "execution_count": 4,
     "metadata": {},
     "output_type": "execute_result"
    }
   ],
   "source": [
    "df_1.sum().index"
   ]
  },
  {
   "cell_type": "code",
   "execution_count": 5,
   "id": "5ea1f5b4",
   "metadata": {},
   "outputs": [
    {
     "data": {
      "application/vnd.microsoft.datawrangler.viewer.v0+json": {
       "columns": [
        {
         "name": "index",
         "rawType": "int64",
         "type": "integer"
        },
        {
         "name": "ID",
         "rawType": "int64",
         "type": "integer"
        },
        {
         "name": "Name",
         "rawType": "object",
         "type": "unknown"
        },
        {
         "name": "DateTime",
         "rawType": "object",
         "type": "string"
        },
        {
         "name": "AnimalType",
         "rawType": "object",
         "type": "string"
        },
        {
         "name": "SexuponOutcome",
         "rawType": "object",
         "type": "string"
        },
        {
         "name": "AgeuponOutcome",
         "rawType": "object",
         "type": "string"
        },
        {
         "name": "Breed",
         "rawType": "object",
         "type": "string"
        },
        {
         "name": "Color",
         "rawType": "object",
         "type": "string"
        }
       ],
       "ref": "f94e4966-480c-4dd8-988b-6d23d45ba387",
       "rows": [
        [
         "1633",
         "1634",
         "Milo",
         "2015-08-20 07:41:00",
         "Cat",
         "Neutered Male",
         "4 months",
         "Domestic Shorthair Mix",
         "Black/White"
        ],
        [
         "7646",
         "7647",
         "Willow",
         "2014-07-02 14:41:00",
         "Cat",
         "Spayed Female",
         "2 years",
         "Domestic Medium Hair Mix",
         "Orange Tabby/White"
        ],
        [
         "4921",
         "4922",
         "Boomer",
         "2014-08-30 11:40:00",
         "Dog",
         "Neutered Male",
         "2 years",
         "German Shorthair Pointer Mix",
         "Red Tick"
        ],
        [
         "10962",
         "10963",
         null,
         "2014-07-04 18:42:00",
         "Dog",
         "Intact Female",
         "4 months",
         "Labrador Retriever/Australian Kelpie",
         "Brown"
        ],
        [
         "7353",
         "7354",
         "Millard",
         "2013-12-07 16:46:00",
         "Cat",
         "Neutered Male",
         "2 months",
         "Domestic Shorthair Mix",
         "Brown Tabby"
        ]
       ],
       "shape": {
        "columns": 8,
        "rows": 5
       }
      },
      "text/html": [
       "<div>\n",
       "<style scoped>\n",
       "    .dataframe tbody tr th:only-of-type {\n",
       "        vertical-align: middle;\n",
       "    }\n",
       "\n",
       "    .dataframe tbody tr th {\n",
       "        vertical-align: top;\n",
       "    }\n",
       "\n",
       "    .dataframe thead th {\n",
       "        text-align: right;\n",
       "    }\n",
       "</style>\n",
       "<table border=\"1\" class=\"dataframe\">\n",
       "  <thead>\n",
       "    <tr style=\"text-align: right;\">\n",
       "      <th></th>\n",
       "      <th>ID</th>\n",
       "      <th>Name</th>\n",
       "      <th>DateTime</th>\n",
       "      <th>AnimalType</th>\n",
       "      <th>SexuponOutcome</th>\n",
       "      <th>AgeuponOutcome</th>\n",
       "      <th>Breed</th>\n",
       "      <th>Color</th>\n",
       "    </tr>\n",
       "  </thead>\n",
       "  <tbody>\n",
       "    <tr>\n",
       "      <th>1633</th>\n",
       "      <td>1634</td>\n",
       "      <td>Milo</td>\n",
       "      <td>2015-08-20 07:41:00</td>\n",
       "      <td>Cat</td>\n",
       "      <td>Neutered Male</td>\n",
       "      <td>4 months</td>\n",
       "      <td>Domestic Shorthair Mix</td>\n",
       "      <td>Black/White</td>\n",
       "    </tr>\n",
       "    <tr>\n",
       "      <th>7646</th>\n",
       "      <td>7647</td>\n",
       "      <td>Willow</td>\n",
       "      <td>2014-07-02 14:41:00</td>\n",
       "      <td>Cat</td>\n",
       "      <td>Spayed Female</td>\n",
       "      <td>2 years</td>\n",
       "      <td>Domestic Medium Hair Mix</td>\n",
       "      <td>Orange Tabby/White</td>\n",
       "    </tr>\n",
       "    <tr>\n",
       "      <th>4921</th>\n",
       "      <td>4922</td>\n",
       "      <td>Boomer</td>\n",
       "      <td>2014-08-30 11:40:00</td>\n",
       "      <td>Dog</td>\n",
       "      <td>Neutered Male</td>\n",
       "      <td>2 years</td>\n",
       "      <td>German Shorthair Pointer Mix</td>\n",
       "      <td>Red Tick</td>\n",
       "    </tr>\n",
       "    <tr>\n",
       "      <th>10962</th>\n",
       "      <td>10963</td>\n",
       "      <td>NaN</td>\n",
       "      <td>2014-07-04 18:42:00</td>\n",
       "      <td>Dog</td>\n",
       "      <td>Intact Female</td>\n",
       "      <td>4 months</td>\n",
       "      <td>Labrador Retriever/Australian Kelpie</td>\n",
       "      <td>Brown</td>\n",
       "    </tr>\n",
       "    <tr>\n",
       "      <th>7353</th>\n",
       "      <td>7354</td>\n",
       "      <td>Millard</td>\n",
       "      <td>2013-12-07 16:46:00</td>\n",
       "      <td>Cat</td>\n",
       "      <td>Neutered Male</td>\n",
       "      <td>2 months</td>\n",
       "      <td>Domestic Shorthair Mix</td>\n",
       "      <td>Brown Tabby</td>\n",
       "    </tr>\n",
       "  </tbody>\n",
       "</table>\n",
       "</div>"
      ],
      "text/plain": [
       "          ID     Name             DateTime AnimalType SexuponOutcome  \\\n",
       "1633    1634     Milo  2015-08-20 07:41:00        Cat  Neutered Male   \n",
       "7646    7647   Willow  2014-07-02 14:41:00        Cat  Spayed Female   \n",
       "4921    4922   Boomer  2014-08-30 11:40:00        Dog  Neutered Male   \n",
       "10962  10963      NaN  2014-07-04 18:42:00        Dog  Intact Female   \n",
       "7353    7354  Millard  2013-12-07 16:46:00        Cat  Neutered Male   \n",
       "\n",
       "      AgeuponOutcome                                 Breed               Color  \n",
       "1633        4 months                Domestic Shorthair Mix         Black/White  \n",
       "7646         2 years              Domestic Medium Hair Mix  Orange Tabby/White  \n",
       "4921         2 years          German Shorthair Pointer Mix            Red Tick  \n",
       "10962       4 months  Labrador Retriever/Australian Kelpie               Brown  \n",
       "7353        2 months                Domestic Shorthair Mix         Brown Tabby  "
      ]
     },
     "execution_count": 5,
     "metadata": {},
     "output_type": "execute_result"
    }
   ],
   "source": [
    "df_test = pd.read_csv('./data/test.csv')\n",
    "df_test.sample(5)"
   ]
  },
  {
   "cell_type": "code",
   "execution_count": 6,
   "id": "0ddbbf6c",
   "metadata": {},
   "outputs": [
    {
     "data": {
      "text/plain": [
       "(11456, 8)"
      ]
     },
     "execution_count": 6,
     "metadata": {},
     "output_type": "execute_result"
    }
   ],
   "source": [
    "df_test.shape"
   ]
  },
  {
   "cell_type": "code",
   "execution_count": 7,
   "id": "7a00722f",
   "metadata": {},
   "outputs": [
    {
     "data": {
      "application/vnd.microsoft.datawrangler.viewer.v0+json": {
       "columns": [
        {
         "name": "index",
         "rawType": "int64",
         "type": "integer"
        },
        {
         "name": "AnimalID",
         "rawType": "object",
         "type": "string"
        },
        {
         "name": "Name",
         "rawType": "object",
         "type": "string"
        },
        {
         "name": "DateTime",
         "rawType": "object",
         "type": "string"
        },
        {
         "name": "OutcomeType",
         "rawType": "object",
         "type": "string"
        },
        {
         "name": "OutcomeSubtype",
         "rawType": "object",
         "type": "unknown"
        },
        {
         "name": "AnimalType",
         "rawType": "object",
         "type": "string"
        },
        {
         "name": "SexuponOutcome",
         "rawType": "object",
         "type": "string"
        },
        {
         "name": "AgeuponOutcome",
         "rawType": "object",
         "type": "string"
        },
        {
         "name": "Breed",
         "rawType": "object",
         "type": "string"
        },
        {
         "name": "Color",
         "rawType": "object",
         "type": "string"
        }
       ],
       "ref": "2e123020-8ac4-4023-9e7d-c5a930541c17",
       "rows": [
        [
         "20397",
         "A699918",
         "Bailey",
         "2015-04-11 11:35:00",
         "Adoption",
         null,
         "Dog",
         "Spayed Female",
         "2 months",
         "Rottweiler Mix",
         "Black/Brown"
        ],
        [
         "11315",
         "A701245",
         "Katie",
         "2015-04-27 19:15:00",
         "Return_to_owner",
         null,
         "Dog",
         "Spayed Female",
         "2 years",
         "Labrador Retriever",
         "Yellow"
        ],
        [
         "2098",
         "A719336",
         "Niiv",
         "2016-01-25 16:13:00",
         "Adoption",
         null,
         "Dog",
         "Neutered Male",
         "1 year",
         "Belgian Malinois Mix",
         "Tan"
        ],
        [
         "12483",
         "A709577",
         "Mr. Pink",
         "2015-08-28 15:46:00",
         "Adoption",
         null,
         "Dog",
         "Neutered Male",
         "5 months",
         "Pit Bull Mix",
         "Red/White"
        ],
        [
         "12854",
         "A691754",
         "Lolita",
         "2014-12-06 15:49:00",
         "Transfer",
         "Partner",
         "Dog",
         "Spayed Female",
         "3 months",
         "Pit Bull Mix",
         "White/Black"
        ]
       ],
       "shape": {
        "columns": 10,
        "rows": 5
       }
      },
      "text/html": [
       "<div>\n",
       "<style scoped>\n",
       "    .dataframe tbody tr th:only-of-type {\n",
       "        vertical-align: middle;\n",
       "    }\n",
       "\n",
       "    .dataframe tbody tr th {\n",
       "        vertical-align: top;\n",
       "    }\n",
       "\n",
       "    .dataframe thead th {\n",
       "        text-align: right;\n",
       "    }\n",
       "</style>\n",
       "<table border=\"1\" class=\"dataframe\">\n",
       "  <thead>\n",
       "    <tr style=\"text-align: right;\">\n",
       "      <th></th>\n",
       "      <th>AnimalID</th>\n",
       "      <th>Name</th>\n",
       "      <th>DateTime</th>\n",
       "      <th>OutcomeType</th>\n",
       "      <th>OutcomeSubtype</th>\n",
       "      <th>AnimalType</th>\n",
       "      <th>SexuponOutcome</th>\n",
       "      <th>AgeuponOutcome</th>\n",
       "      <th>Breed</th>\n",
       "      <th>Color</th>\n",
       "    </tr>\n",
       "  </thead>\n",
       "  <tbody>\n",
       "    <tr>\n",
       "      <th>20397</th>\n",
       "      <td>A699918</td>\n",
       "      <td>Bailey</td>\n",
       "      <td>2015-04-11 11:35:00</td>\n",
       "      <td>Adoption</td>\n",
       "      <td>NaN</td>\n",
       "      <td>Dog</td>\n",
       "      <td>Spayed Female</td>\n",
       "      <td>2 months</td>\n",
       "      <td>Rottweiler Mix</td>\n",
       "      <td>Black/Brown</td>\n",
       "    </tr>\n",
       "    <tr>\n",
       "      <th>11315</th>\n",
       "      <td>A701245</td>\n",
       "      <td>Katie</td>\n",
       "      <td>2015-04-27 19:15:00</td>\n",
       "      <td>Return_to_owner</td>\n",
       "      <td>NaN</td>\n",
       "      <td>Dog</td>\n",
       "      <td>Spayed Female</td>\n",
       "      <td>2 years</td>\n",
       "      <td>Labrador Retriever</td>\n",
       "      <td>Yellow</td>\n",
       "    </tr>\n",
       "    <tr>\n",
       "      <th>2098</th>\n",
       "      <td>A719336</td>\n",
       "      <td>Niiv</td>\n",
       "      <td>2016-01-25 16:13:00</td>\n",
       "      <td>Adoption</td>\n",
       "      <td>NaN</td>\n",
       "      <td>Dog</td>\n",
       "      <td>Neutered Male</td>\n",
       "      <td>1 year</td>\n",
       "      <td>Belgian Malinois Mix</td>\n",
       "      <td>Tan</td>\n",
       "    </tr>\n",
       "    <tr>\n",
       "      <th>12483</th>\n",
       "      <td>A709577</td>\n",
       "      <td>Mr. Pink</td>\n",
       "      <td>2015-08-28 15:46:00</td>\n",
       "      <td>Adoption</td>\n",
       "      <td>NaN</td>\n",
       "      <td>Dog</td>\n",
       "      <td>Neutered Male</td>\n",
       "      <td>5 months</td>\n",
       "      <td>Pit Bull Mix</td>\n",
       "      <td>Red/White</td>\n",
       "    </tr>\n",
       "    <tr>\n",
       "      <th>12854</th>\n",
       "      <td>A691754</td>\n",
       "      <td>Lolita</td>\n",
       "      <td>2014-12-06 15:49:00</td>\n",
       "      <td>Transfer</td>\n",
       "      <td>Partner</td>\n",
       "      <td>Dog</td>\n",
       "      <td>Spayed Female</td>\n",
       "      <td>3 months</td>\n",
       "      <td>Pit Bull Mix</td>\n",
       "      <td>White/Black</td>\n",
       "    </tr>\n",
       "  </tbody>\n",
       "</table>\n",
       "</div>"
      ],
      "text/plain": [
       "      AnimalID      Name             DateTime      OutcomeType OutcomeSubtype  \\\n",
       "20397  A699918    Bailey  2015-04-11 11:35:00         Adoption            NaN   \n",
       "11315  A701245     Katie  2015-04-27 19:15:00  Return_to_owner            NaN   \n",
       "2098   A719336      Niiv  2016-01-25 16:13:00         Adoption            NaN   \n",
       "12483  A709577  Mr. Pink  2015-08-28 15:46:00         Adoption            NaN   \n",
       "12854  A691754    Lolita  2014-12-06 15:49:00         Transfer        Partner   \n",
       "\n",
       "      AnimalType SexuponOutcome AgeuponOutcome                 Breed  \\\n",
       "20397        Dog  Spayed Female       2 months        Rottweiler Mix   \n",
       "11315        Dog  Spayed Female        2 years    Labrador Retriever   \n",
       "2098         Dog  Neutered Male         1 year  Belgian Malinois Mix   \n",
       "12483        Dog  Neutered Male       5 months          Pit Bull Mix   \n",
       "12854        Dog  Spayed Female       3 months          Pit Bull Mix   \n",
       "\n",
       "             Color  \n",
       "20397  Black/Brown  \n",
       "11315       Yellow  \n",
       "2098           Tan  \n",
       "12483    Red/White  \n",
       "12854  White/Black  "
      ]
     },
     "execution_count": 7,
     "metadata": {},
     "output_type": "execute_result"
    }
   ],
   "source": [
    "df_train = pd.read_csv('./data/train.csv')\n",
    "df_train.sample(5)"
   ]
  },
  {
   "cell_type": "code",
   "execution_count": 8,
   "id": "74d95d16",
   "metadata": {},
   "outputs": [
    {
     "data": {
      "text/plain": [
       "(26729, 10)"
      ]
     },
     "execution_count": 8,
     "metadata": {},
     "output_type": "execute_result"
    }
   ],
   "source": [
    "df_train.shape"
   ]
  },
  {
   "cell_type": "markdown",
   "id": "9b40a62a",
   "metadata": {},
   "source": [
    "# Search duplicates in train dataset"
   ]
  },
  {
   "cell_type": "code",
   "execution_count": 9,
   "id": "1af5f1dc",
   "metadata": {},
   "outputs": [
    {
     "data": {
      "text/plain": [
       "(26729, 10)"
      ]
     },
     "execution_count": 9,
     "metadata": {},
     "output_type": "execute_result"
    }
   ],
   "source": [
    "df_train.shape"
   ]
  },
  {
   "cell_type": "code",
   "execution_count": 10,
   "id": "060775f9",
   "metadata": {},
   "outputs": [
    {
     "data": {
      "text/plain": [
       "np.int64(0)"
      ]
     },
     "execution_count": 10,
     "metadata": {},
     "output_type": "execute_result"
    }
   ],
   "source": [
    "# find current duplicates in train\n",
    "df_train.duplicated().sum()"
   ]
  },
  {
   "cell_type": "code",
   "execution_count": 11,
   "id": "0c2b3f05",
   "metadata": {},
   "outputs": [
    {
     "data": {
      "text/plain": [
       "np.int64(0)"
      ]
     },
     "execution_count": 11,
     "metadata": {},
     "output_type": "execute_result"
    }
   ],
   "source": [
    "# find current duplicates in test\n",
    "df_test.duplicated().sum()"
   ]
  },
  {
   "cell_type": "code",
   "execution_count": 12,
   "id": "3004e961",
   "metadata": {},
   "outputs": [
    {
     "data": {
      "text/plain": [
       "Index(['AnimalID', 'Name', 'DateTime', 'OutcomeType', 'OutcomeSubtype',\n",
       "       'AnimalType', 'SexuponOutcome', 'AgeuponOutcome', 'Breed', 'Color'],\n",
       "      dtype='object')"
      ]
     },
     "execution_count": 12,
     "metadata": {},
     "output_type": "execute_result"
    }
   ],
   "source": [
    "df_train.columns"
   ]
  },
  {
   "cell_type": "code",
   "execution_count": 13,
   "id": "713b25b8",
   "metadata": {},
   "outputs": [
    {
     "data": {
      "text/plain": [
       "Index(['ID', 'Name', 'DateTime', 'AnimalType', 'SexuponOutcome',\n",
       "       'AgeuponOutcome', 'Breed', 'Color'],\n",
       "      dtype='object')"
      ]
     },
     "execution_count": 13,
     "metadata": {},
     "output_type": "execute_result"
    }
   ],
   "source": [
    "df_test.columns"
   ]
  },
  {
   "cell_type": "code",
   "execution_count": 14,
   "id": "5aec86ca",
   "metadata": {},
   "outputs": [],
   "source": [
    "# drop target columns from train.csv so we can find duplicated rows\n",
    "df_train_2 = df_train.drop(['OutcomeType', 'OutcomeSubtype'], axis=1)"
   ]
  },
  {
   "cell_type": "code",
   "execution_count": 15,
   "id": "ecb8ee97",
   "metadata": {},
   "outputs": [
    {
     "data": {
      "text/plain": [
       "np.int64(0)"
      ]
     },
     "execution_count": 15,
     "metadata": {},
     "output_type": "execute_result"
    }
   ],
   "source": [
    "# find if column id matches between dataframes\n",
    "df_test['ID'].isin(df_train['AnimalID']).sum()"
   ]
  },
  {
   "cell_type": "code",
   "execution_count": 16,
   "id": "a3f73c18",
   "metadata": {},
   "outputs": [],
   "source": [
    "# rename id col for matching\n",
    "df_test = df_test.rename(columns={\"ID\": 'AnimalID'})"
   ]
  },
  {
   "cell_type": "code",
   "execution_count": 17,
   "id": "baad8654",
   "metadata": {},
   "outputs": [
    {
     "data": {
      "text/plain": [
       "(38185, 8)"
      ]
     },
     "execution_count": 17,
     "metadata": {},
     "output_type": "execute_result"
    }
   ],
   "source": [
    "# we can now merge both dataframes so we get more data\n",
    "df = pd.concat([df_train_2, df_test])\n",
    "df.shape"
   ]
  },
  {
   "cell_type": "code",
   "execution_count": 18,
   "id": "04f617fa",
   "metadata": {},
   "outputs": [
    {
     "data": {
      "text/plain": [
       "np.int64(0)"
      ]
     },
     "execution_count": 18,
     "metadata": {},
     "output_type": "execute_result"
    }
   ],
   "source": [
    "# find duplicates between dataframes\n",
    "df.duplicated().sum()"
   ]
  },
  {
   "cell_type": "markdown",
   "id": "781aec69",
   "metadata": {},
   "source": [
    "# 1. EDA"
   ]
  },
  {
   "cell_type": "code",
   "execution_count": 19,
   "id": "6c2092f1",
   "metadata": {},
   "outputs": [
    {
     "name": "stdout",
     "output_type": "stream",
     "text": [
      "<class 'pandas.core.frame.DataFrame'>\n",
      "Index: 38185 entries, 0 to 11455\n",
      "Data columns (total 8 columns):\n",
      " #   Column          Non-Null Count  Dtype \n",
      "---  ------          --------------  ----- \n",
      " 0   AnimalID        38185 non-null  object\n",
      " 1   Name            27269 non-null  object\n",
      " 2   DateTime        38185 non-null  object\n",
      " 3   AnimalType      38185 non-null  object\n",
      " 4   SexuponOutcome  38184 non-null  object\n",
      " 5   AgeuponOutcome  38161 non-null  object\n",
      " 6   Breed           38185 non-null  object\n",
      " 7   Color           38185 non-null  object\n",
      "dtypes: object(8)\n",
      "memory usage: 2.6+ MB\n"
     ]
    }
   ],
   "source": [
    "df.info()"
   ]
  },
  {
   "cell_type": "code",
   "execution_count": 20,
   "id": "236f5b47",
   "metadata": {},
   "outputs": [
    {
     "data": {
      "application/vnd.microsoft.datawrangler.viewer.v0+json": {
       "columns": [
        {
         "name": "index",
         "rawType": "int64",
         "type": "integer"
        },
        {
         "name": "AnimalID",
         "rawType": "object",
         "type": "unknown"
        },
        {
         "name": "Name",
         "rawType": "object",
         "type": "unknown"
        },
        {
         "name": "DateTime",
         "rawType": "object",
         "type": "string"
        },
        {
         "name": "AnimalType",
         "rawType": "object",
         "type": "string"
        },
        {
         "name": "SexuponOutcome",
         "rawType": "object",
         "type": "string"
        },
        {
         "name": "AgeuponOutcome",
         "rawType": "object",
         "type": "string"
        },
        {
         "name": "Breed",
         "rawType": "object",
         "type": "string"
        },
        {
         "name": "Color",
         "rawType": "object",
         "type": "string"
        }
       ],
       "ref": "20f0bb7c-de28-4ae0-9a65-217b9f21bded",
       "rows": [
        [
         "24888",
         "A688309",
         "Bambi",
         "2014-10-01 18:42:00",
         "Dog",
         "Intact Female",
         "2 years",
         "Pit Bull Mix",
         "Fawn/White"
        ],
        [
         "12365",
         "A688567",
         "Cooper",
         "2014-09-27 14:33:00",
         "Cat",
         "Neutered Male",
         "2 months",
         "Domestic Shorthair Mix",
         "Black"
        ],
        [
         "12367",
         "A695642",
         null,
         "2015-02-03 15:02:00",
         "Cat",
         "Spayed Female",
         "6 months",
         "Domestic Shorthair Mix",
         "Black"
        ],
        [
         "15424",
         "A670518",
         "Paloma",
         "2014-01-09 15:26:00",
         "Dog",
         "Intact Female",
         "15 years",
         "German Shepherd Mix",
         "Brown/Black"
        ],
        [
         "19534",
         "A693199",
         null,
         "2014-12-07 15:46:00",
         "Dog",
         "Spayed Female",
         "10 years",
         "Chihuahua Shorthair Mix",
         "Black/Tan"
        ],
        [
         "3122",
         "A685078",
         "Buddy",
         "2014-08-07 12:49:00",
         "Dog",
         "Neutered Male",
         "3 years",
         "Chihuahua Shorthair Mix",
         "White/Black"
        ],
        [
         "22041",
         "A714883",
         "Mr. Kitty",
         "2015-11-24 12:17:00",
         "Cat",
         "Intact Male",
         "1 year",
         "Domestic Shorthair Mix",
         "Brown Tabby"
        ],
        [
         "18531",
         "A695335",
         null,
         "2015-01-15 09:00:00",
         "Cat",
         "Unknown",
         "1 year",
         "Domestic Shorthair Mix",
         "Brown Tabby"
        ],
        [
         "428",
         "A690020",
         "Jax",
         "2014-10-15 18:25:00",
         "Dog",
         "Intact Female",
         "4 months",
         "Boxer Mix",
         "Brown Brindle/White"
        ],
        [
         "1948",
         "1949",
         "Bijou",
         "2013-12-22 18:45:00",
         "Dog",
         "Spayed Female",
         "8 months",
         "Miniature Pinscher Mix",
         "Black/Tan"
        ]
       ],
       "shape": {
        "columns": 8,
        "rows": 10
       }
      },
      "text/html": [
       "<div>\n",
       "<style scoped>\n",
       "    .dataframe tbody tr th:only-of-type {\n",
       "        vertical-align: middle;\n",
       "    }\n",
       "\n",
       "    .dataframe tbody tr th {\n",
       "        vertical-align: top;\n",
       "    }\n",
       "\n",
       "    .dataframe thead th {\n",
       "        text-align: right;\n",
       "    }\n",
       "</style>\n",
       "<table border=\"1\" class=\"dataframe\">\n",
       "  <thead>\n",
       "    <tr style=\"text-align: right;\">\n",
       "      <th></th>\n",
       "      <th>AnimalID</th>\n",
       "      <th>Name</th>\n",
       "      <th>DateTime</th>\n",
       "      <th>AnimalType</th>\n",
       "      <th>SexuponOutcome</th>\n",
       "      <th>AgeuponOutcome</th>\n",
       "      <th>Breed</th>\n",
       "      <th>Color</th>\n",
       "    </tr>\n",
       "  </thead>\n",
       "  <tbody>\n",
       "    <tr>\n",
       "      <th>24888</th>\n",
       "      <td>A688309</td>\n",
       "      <td>Bambi</td>\n",
       "      <td>2014-10-01 18:42:00</td>\n",
       "      <td>Dog</td>\n",
       "      <td>Intact Female</td>\n",
       "      <td>2 years</td>\n",
       "      <td>Pit Bull Mix</td>\n",
       "      <td>Fawn/White</td>\n",
       "    </tr>\n",
       "    <tr>\n",
       "      <th>12365</th>\n",
       "      <td>A688567</td>\n",
       "      <td>Cooper</td>\n",
       "      <td>2014-09-27 14:33:00</td>\n",
       "      <td>Cat</td>\n",
       "      <td>Neutered Male</td>\n",
       "      <td>2 months</td>\n",
       "      <td>Domestic Shorthair Mix</td>\n",
       "      <td>Black</td>\n",
       "    </tr>\n",
       "    <tr>\n",
       "      <th>12367</th>\n",
       "      <td>A695642</td>\n",
       "      <td>NaN</td>\n",
       "      <td>2015-02-03 15:02:00</td>\n",
       "      <td>Cat</td>\n",
       "      <td>Spayed Female</td>\n",
       "      <td>6 months</td>\n",
       "      <td>Domestic Shorthair Mix</td>\n",
       "      <td>Black</td>\n",
       "    </tr>\n",
       "    <tr>\n",
       "      <th>15424</th>\n",
       "      <td>A670518</td>\n",
       "      <td>Paloma</td>\n",
       "      <td>2014-01-09 15:26:00</td>\n",
       "      <td>Dog</td>\n",
       "      <td>Intact Female</td>\n",
       "      <td>15 years</td>\n",
       "      <td>German Shepherd Mix</td>\n",
       "      <td>Brown/Black</td>\n",
       "    </tr>\n",
       "    <tr>\n",
       "      <th>19534</th>\n",
       "      <td>A693199</td>\n",
       "      <td>NaN</td>\n",
       "      <td>2014-12-07 15:46:00</td>\n",
       "      <td>Dog</td>\n",
       "      <td>Spayed Female</td>\n",
       "      <td>10 years</td>\n",
       "      <td>Chihuahua Shorthair Mix</td>\n",
       "      <td>Black/Tan</td>\n",
       "    </tr>\n",
       "    <tr>\n",
       "      <th>3122</th>\n",
       "      <td>A685078</td>\n",
       "      <td>Buddy</td>\n",
       "      <td>2014-08-07 12:49:00</td>\n",
       "      <td>Dog</td>\n",
       "      <td>Neutered Male</td>\n",
       "      <td>3 years</td>\n",
       "      <td>Chihuahua Shorthair Mix</td>\n",
       "      <td>White/Black</td>\n",
       "    </tr>\n",
       "    <tr>\n",
       "      <th>22041</th>\n",
       "      <td>A714883</td>\n",
       "      <td>Mr. Kitty</td>\n",
       "      <td>2015-11-24 12:17:00</td>\n",
       "      <td>Cat</td>\n",
       "      <td>Intact Male</td>\n",
       "      <td>1 year</td>\n",
       "      <td>Domestic Shorthair Mix</td>\n",
       "      <td>Brown Tabby</td>\n",
       "    </tr>\n",
       "    <tr>\n",
       "      <th>18531</th>\n",
       "      <td>A695335</td>\n",
       "      <td>NaN</td>\n",
       "      <td>2015-01-15 09:00:00</td>\n",
       "      <td>Cat</td>\n",
       "      <td>Unknown</td>\n",
       "      <td>1 year</td>\n",
       "      <td>Domestic Shorthair Mix</td>\n",
       "      <td>Brown Tabby</td>\n",
       "    </tr>\n",
       "    <tr>\n",
       "      <th>428</th>\n",
       "      <td>A690020</td>\n",
       "      <td>Jax</td>\n",
       "      <td>2014-10-15 18:25:00</td>\n",
       "      <td>Dog</td>\n",
       "      <td>Intact Female</td>\n",
       "      <td>4 months</td>\n",
       "      <td>Boxer Mix</td>\n",
       "      <td>Brown Brindle/White</td>\n",
       "    </tr>\n",
       "    <tr>\n",
       "      <th>1948</th>\n",
       "      <td>1949</td>\n",
       "      <td>Bijou</td>\n",
       "      <td>2013-12-22 18:45:00</td>\n",
       "      <td>Dog</td>\n",
       "      <td>Spayed Female</td>\n",
       "      <td>8 months</td>\n",
       "      <td>Miniature Pinscher Mix</td>\n",
       "      <td>Black/Tan</td>\n",
       "    </tr>\n",
       "  </tbody>\n",
       "</table>\n",
       "</div>"
      ],
      "text/plain": [
       "      AnimalID       Name             DateTime AnimalType SexuponOutcome  \\\n",
       "24888  A688309      Bambi  2014-10-01 18:42:00        Dog  Intact Female   \n",
       "12365  A688567     Cooper  2014-09-27 14:33:00        Cat  Neutered Male   \n",
       "12367  A695642        NaN  2015-02-03 15:02:00        Cat  Spayed Female   \n",
       "15424  A670518     Paloma  2014-01-09 15:26:00        Dog  Intact Female   \n",
       "19534  A693199        NaN  2014-12-07 15:46:00        Dog  Spayed Female   \n",
       "3122   A685078      Buddy  2014-08-07 12:49:00        Dog  Neutered Male   \n",
       "22041  A714883  Mr. Kitty  2015-11-24 12:17:00        Cat    Intact Male   \n",
       "18531  A695335        NaN  2015-01-15 09:00:00        Cat        Unknown   \n",
       "428    A690020        Jax  2014-10-15 18:25:00        Dog  Intact Female   \n",
       "1948      1949      Bijou  2013-12-22 18:45:00        Dog  Spayed Female   \n",
       "\n",
       "      AgeuponOutcome                    Breed                Color  \n",
       "24888        2 years             Pit Bull Mix           Fawn/White  \n",
       "12365       2 months   Domestic Shorthair Mix                Black  \n",
       "12367       6 months   Domestic Shorthair Mix                Black  \n",
       "15424       15 years      German Shepherd Mix          Brown/Black  \n",
       "19534       10 years  Chihuahua Shorthair Mix            Black/Tan  \n",
       "3122         3 years  Chihuahua Shorthair Mix          White/Black  \n",
       "22041         1 year   Domestic Shorthair Mix          Brown Tabby  \n",
       "18531         1 year   Domestic Shorthair Mix          Brown Tabby  \n",
       "428         4 months                Boxer Mix  Brown Brindle/White  \n",
       "1948        8 months   Miniature Pinscher Mix            Black/Tan  "
      ]
     },
     "execution_count": 20,
     "metadata": {},
     "output_type": "execute_result"
    }
   ],
   "source": [
    "df.sample(10)"
   ]
  },
  {
   "cell_type": "code",
   "execution_count": 21,
   "id": "c49d5335",
   "metadata": {},
   "outputs": [
    {
     "data": {
      "application/vnd.microsoft.datawrangler.viewer.v0+json": {
       "columns": [
        {
         "name": "index",
         "rawType": "object",
         "type": "string"
        },
        {
         "name": "0",
         "rawType": "int64",
         "type": "integer"
        }
       ],
       "ref": "67864fc5-bad5-4360-8ce5-88b39db6db3f",
       "rows": [
        [
         "AnimalID",
         "0"
        ],
        [
         "Name",
         "10916"
        ],
        [
         "DateTime",
         "0"
        ],
        [
         "AnimalType",
         "0"
        ],
        [
         "SexuponOutcome",
         "1"
        ],
        [
         "AgeuponOutcome",
         "24"
        ],
        [
         "Breed",
         "0"
        ],
        [
         "Color",
         "0"
        ]
       ],
       "shape": {
        "columns": 1,
        "rows": 8
       }
      },
      "text/plain": [
       "AnimalID              0\n",
       "Name              10916\n",
       "DateTime              0\n",
       "AnimalType            0\n",
       "SexuponOutcome        1\n",
       "AgeuponOutcome       24\n",
       "Breed                 0\n",
       "Color                 0\n",
       "dtype: int64"
      ]
     },
     "execution_count": 21,
     "metadata": {},
     "output_type": "execute_result"
    }
   ],
   "source": [
    "# find null values\n",
    "df.isna().sum()"
   ]
  },
  {
   "cell_type": "code",
   "execution_count": 22,
   "id": "7e73d642",
   "metadata": {},
   "outputs": [
    {
     "data": {
      "text/plain": [
       "(38185, 8)"
      ]
     },
     "execution_count": 22,
     "metadata": {},
     "output_type": "execute_result"
    }
   ],
   "source": [
    "df.shape"
   ]
  },
  {
   "cell_type": "markdown",
   "id": "b071c674",
   "metadata": {},
   "source": [
    "### Before statistical analysis on numeric columns, we have to format some data (temporary)"
   ]
  },
  {
   "cell_type": "code",
   "execution_count": 23,
   "id": "f9b125e7",
   "metadata": {},
   "outputs": [
    {
     "data": {
      "application/vnd.microsoft.datawrangler.viewer.v0+json": {
       "columns": [
        {
         "name": "index",
         "rawType": "int64",
         "type": "integer"
        },
        {
         "name": "DateTime",
         "rawType": "datetime64[ns]",
         "type": "datetime"
        }
       ],
       "ref": "a70bce57-7964-44fe-b95e-28152bf9897d",
       "rows": [
        [
         "0",
         "2014-02-12 18:22:00"
        ],
        [
         "1",
         "2013-10-13 12:44:00"
        ],
        [
         "2",
         "2015-01-31 12:28:00"
        ],
        [
         "3",
         "2014-07-11 19:09:00"
        ],
        [
         "4",
         "2013-11-15 12:52:00"
        ],
        [
         "5",
         "2014-04-25 13:04:00"
        ],
        [
         "6",
         "2015-03-28 13:11:00"
        ],
        [
         "7",
         "2015-04-30 17:02:00"
        ],
        [
         "8",
         "2014-02-04 17:17:00"
        ],
        [
         "9",
         "2014-05-03 07:48:00"
        ],
        [
         "10",
         "2013-12-05 15:50:00"
        ],
        [
         "11",
         "2013-11-04 14:48:00"
        ],
        [
         "12",
         "2016-02-03 11:27:00"
        ],
        [
         "13",
         "2015-06-08 16:30:00"
        ],
        [
         "14",
         "2015-11-25 15:00:00"
        ],
        [
         "15",
         "2014-07-12 12:10:00"
        ],
        [
         "16",
         "2014-05-03 16:15:00"
        ],
        [
         "17",
         "2014-06-07 12:54:00"
        ],
        [
         "18",
         "2014-05-17 11:32:00"
        ],
        [
         "19",
         "2014-07-30 17:34:00"
        ],
        [
         "20",
         "2014-01-19 15:03:00"
        ],
        [
         "21",
         "2015-09-18 15:19:00"
        ],
        [
         "22",
         "2015-08-15 14:22:00"
        ],
        [
         "23",
         "2013-10-28 16:32:00"
        ],
        [
         "24",
         "2014-04-09 17:44:00"
        ],
        [
         "25",
         "2015-10-03 15:44:00"
        ],
        [
         "26",
         "2016-01-15 17:31:00"
        ],
        [
         "27",
         "2015-03-25 18:50:00"
        ],
        [
         "28",
         "2015-11-21 13:01:00"
        ],
        [
         "29",
         "2015-07-30 14:30:00"
        ],
        [
         "30",
         "2016-01-01 13:57:00"
        ],
        [
         "31",
         "2015-07-15 15:25:00"
        ],
        [
         "32",
         "2014-07-03 17:01:00"
        ],
        [
         "33",
         "2013-11-08 13:24:00"
        ],
        [
         "34",
         "2015-04-11 16:01:00"
        ],
        [
         "35",
         "2013-12-06 14:55:00"
        ],
        [
         "36",
         "2013-10-24 11:22:00"
        ],
        [
         "37",
         "2014-07-02 13:37:00"
        ],
        [
         "38",
         "2015-08-11 00:00:00"
        ],
        [
         "39",
         "2015-07-14 12:16:00"
        ],
        [
         "40",
         "2015-04-04 17:26:00"
        ],
        [
         "41",
         "2015-06-23 13:25:00"
        ],
        [
         "42",
         "2013-12-09 15:04:00"
        ],
        [
         "43",
         "2014-01-21 15:15:00"
        ],
        [
         "44",
         "2014-05-28 15:52:00"
        ],
        [
         "45",
         "2014-08-27 07:50:00"
        ],
        [
         "46",
         "2014-08-05 11:15:00"
        ],
        [
         "47",
         "2015-05-05 11:46:00"
        ],
        [
         "48",
         "2015-03-09 17:57:00"
        ],
        [
         "49",
         "2013-10-30 15:37:00"
        ]
       ],
       "shape": {
        "columns": 1,
        "rows": 38185
       }
      },
      "text/plain": [
       "0       2014-02-12 18:22:00\n",
       "1       2013-10-13 12:44:00\n",
       "2       2015-01-31 12:28:00\n",
       "3       2014-07-11 19:09:00\n",
       "4       2013-11-15 12:52:00\n",
       "                ...        \n",
       "11451   2014-07-08 14:50:00\n",
       "11452   2014-10-21 12:57:00\n",
       "11453   2014-09-29 09:00:00\n",
       "11454   2015-09-05 17:16:00\n",
       "11455   2014-07-12 18:40:00\n",
       "Name: DateTime, Length: 38185, dtype: datetime64[ns]"
      ]
     },
     "execution_count": 23,
     "metadata": {},
     "output_type": "execute_result"
    }
   ],
   "source": [
    "# convert datetime column from object to datetime\n",
    "df['DateTime'] = pd.to_datetime(df['DateTime'], errors='raise')\n",
    "df['DateTime']"
   ]
  },
  {
   "cell_type": "code",
   "execution_count": 24,
   "id": "7e182ff7",
   "metadata": {},
   "outputs": [
    {
     "data": {
      "application/vnd.microsoft.datawrangler.viewer.v0+json": {
       "columns": [
        {
         "name": "AgeuponOutcome",
         "rawType": "object",
         "type": "string"
        },
        {
         "name": "count",
         "rawType": "int64",
         "type": "integer"
        }
       ],
       "ref": "34b18844-c1aa-4edb-a1a8-ff372df1799a",
       "rows": [
        [
         "1 year",
         "5737"
        ],
        [
         "2 years",
         "5383"
        ],
        [
         "2 months",
         "4929"
        ],
        [
         "3 years",
         "2589"
        ],
        [
         "3 months",
         "1788"
        ],
        [
         "1 month",
         "1782"
        ],
        [
         "4 years",
         "1506"
        ],
        [
         "5 years",
         "1406"
        ],
        [
         "4 months",
         "1283"
        ],
        [
         "3 weeks",
         "950"
        ],
        [
         "5 months",
         "929"
        ],
        [
         "6 years",
         "927"
        ],
        [
         "6 months",
         "835"
        ],
        [
         "8 years",
         "772"
        ],
        [
         "7 years",
         "769"
        ],
        [
         "2 weeks",
         "727"
        ],
        [
         "10 months",
         "653"
        ],
        [
         "10 years",
         "598"
        ],
        [
         "8 months",
         "569"
        ],
        [
         "4 weeks",
         "465"
        ],
        [
         "7 months",
         "455"
        ],
        [
         "9 years",
         "394"
        ],
        [
         "12 years",
         "330"
        ],
        [
         "9 months",
         "313"
        ],
        [
         "1 weeks",
         "247"
        ],
        [
         "11 months",
         "241"
        ],
        [
         "1 week",
         "220"
        ],
        [
         "13 years",
         "214"
        ],
        [
         "11 years",
         "174"
        ],
        [
         "3 days",
         "148"
        ],
        [
         "14 years",
         "143"
        ],
        [
         "2 days",
         "139"
        ],
        [
         "15 years",
         "115"
        ],
        [
         "1 day",
         "84"
        ],
        [
         "6 days",
         "80"
        ],
        [
         "4 days",
         "78"
        ],
        [
         "16 years",
         "45"
        ],
        [
         "5 days",
         "38"
        ],
        [
         "0 years",
         "35"
        ],
        [
         "17 years",
         "30"
        ],
        [
         "5 weeks",
         "15"
        ],
        [
         "18 years",
         "12"
        ],
        [
         "20 years",
         "7"
        ],
        [
         "19 years",
         "5"
        ],
        [
         "22 years",
         "2"
        ]
       ],
       "shape": {
        "columns": 1,
        "rows": 45
       }
      },
      "text/plain": [
       "AgeuponOutcome\n",
       "1 year       5737\n",
       "2 years      5383\n",
       "2 months     4929\n",
       "3 years      2589\n",
       "3 months     1788\n",
       "1 month      1782\n",
       "4 years      1506\n",
       "5 years      1406\n",
       "4 months     1283\n",
       "3 weeks       950\n",
       "5 months      929\n",
       "6 years       927\n",
       "6 months      835\n",
       "8 years       772\n",
       "7 years       769\n",
       "2 weeks       727\n",
       "10 months     653\n",
       "10 years      598\n",
       "8 months      569\n",
       "4 weeks       465\n",
       "7 months      455\n",
       "9 years       394\n",
       "12 years      330\n",
       "9 months      313\n",
       "1 weeks       247\n",
       "11 months     241\n",
       "1 week        220\n",
       "13 years      214\n",
       "11 years      174\n",
       "3 days        148\n",
       "14 years      143\n",
       "2 days        139\n",
       "15 years      115\n",
       "1 day          84\n",
       "6 days         80\n",
       "4 days         78\n",
       "16 years       45\n",
       "5 days         38\n",
       "0 years        35\n",
       "17 years       30\n",
       "5 weeks        15\n",
       "18 years       12\n",
       "20 years        7\n",
       "19 years        5\n",
       "22 years        2\n",
       "Name: count, dtype: int64"
      ]
     },
     "execution_count": 24,
     "metadata": {},
     "output_type": "execute_result"
    }
   ],
   "source": [
    "# standarize age column\n",
    "df['AgeuponOutcome'].value_counts()"
   ]
  },
  {
   "cell_type": "code",
   "execution_count": 25,
   "id": "df57fcb6",
   "metadata": {},
   "outputs": [],
   "source": [
    "def standarize_age(age):\n",
    "    if pd.isna(age):\n",
    "        return None\n",
    "    \n",
    "    value, period = age.strip().split()\n",
    "    value = int(value)\n",
    "    \n",
    "    if 'week' in period:\n",
    "        return value * 7\n",
    "    elif 'month' in period:\n",
    "        return value * 30\n",
    "    elif 'year' in period:\n",
    "        return value * 365\n",
    "    else:\n",
    "        return None"
   ]
  },
  {
   "cell_type": "code",
   "execution_count": 26,
   "id": "55dfa810",
   "metadata": {},
   "outputs": [
    {
     "data": {
      "application/vnd.microsoft.datawrangler.viewer.v0+json": {
       "columns": [
        {
         "name": "index",
         "rawType": "int64",
         "type": "integer"
        },
        {
         "name": "AgeuponOutcome",
         "rawType": "object",
         "type": "string"
        }
       ],
       "ref": "c4df7672-fe6e-4c5d-a89b-905c194c4bf6",
       "rows": [
        [
         "0",
         "1 year"
        ],
        [
         "1",
         "1 year"
        ],
        [
         "2",
         "2 years"
        ],
        [
         "3",
         "3 weeks"
        ],
        [
         "4",
         "2 years"
        ],
        [
         "5",
         "1 month"
        ],
        [
         "6",
         "3 weeks"
        ],
        [
         "7",
         "3 weeks"
        ],
        [
         "8",
         "5 months"
        ],
        [
         "9",
         "1 year"
        ]
       ],
       "shape": {
        "columns": 1,
        "rows": 10
       }
      },
      "text/plain": [
       "0      1 year\n",
       "1      1 year\n",
       "2     2 years\n",
       "3     3 weeks\n",
       "4     2 years\n",
       "5     1 month\n",
       "6     3 weeks\n",
       "7     3 weeks\n",
       "8    5 months\n",
       "9      1 year\n",
       "Name: AgeuponOutcome, dtype: object"
      ]
     },
     "execution_count": 26,
     "metadata": {},
     "output_type": "execute_result"
    }
   ],
   "source": [
    "df['AgeuponOutcome'].head(10)"
   ]
  },
  {
   "cell_type": "code",
   "execution_count": 27,
   "id": "b8d751b6",
   "metadata": {},
   "outputs": [
    {
     "data": {
      "application/vnd.microsoft.datawrangler.viewer.v0+json": {
       "columns": [
        {
         "name": "index",
         "rawType": "int64",
         "type": "integer"
        },
        {
         "name": "AgeuponOutcome",
         "rawType": "float64",
         "type": "float"
        }
       ],
       "ref": "53574b04-8b25-4c92-b748-189dba36298c",
       "rows": [
        [
         "0",
         "365.0"
        ],
        [
         "1",
         "365.0"
        ],
        [
         "2",
         "730.0"
        ],
        [
         "3",
         "21.0"
        ],
        [
         "4",
         "730.0"
        ],
        [
         "5",
         "30.0"
        ],
        [
         "6",
         "21.0"
        ],
        [
         "7",
         "21.0"
        ],
        [
         "8",
         "150.0"
        ],
        [
         "9",
         "365.0"
        ],
        [
         "10",
         "730.0"
        ],
        [
         "11",
         "730.0"
        ],
        [
         "12",
         "1460.0"
        ],
        [
         "13",
         "730.0"
        ],
        [
         "14",
         "365.0"
        ],
        [
         "15",
         "90.0"
        ],
        [
         "16",
         "21.0"
        ],
        [
         "17",
         "14.0"
        ],
        [
         "18",
         "730.0"
        ],
        [
         "19",
         "365.0"
        ],
        [
         "20",
         "60.0"
        ],
        [
         "21",
         "365.0"
        ],
        [
         "22",
         "730.0"
        ],
        [
         "23",
         "300.0"
        ],
        [
         "24",
         "60.0"
        ],
        [
         "25",
         "30.0"
        ],
        [
         "26",
         "180.0"
        ],
        [
         "27",
         "1825.0"
        ],
        [
         "28",
         "60.0"
        ],
        [
         "29",
         "2555.0"
        ],
        [
         "30",
         "1095.0"
        ],
        [
         "31",
         "120.0"
        ],
        [
         "32",
         "60.0"
        ],
        [
         "33",
         "1825.0"
        ],
        [
         "34",
         "1095.0"
        ],
        [
         "35",
         "1095.0"
        ],
        [
         "36",
         "1095.0"
        ],
        [
         "37",
         "60.0"
        ],
        [
         "38",
         "120.0"
        ],
        [
         "39",
         "21.0"
        ],
        [
         "40",
         "2555.0"
        ],
        [
         "41",
         "60.0"
        ],
        [
         "42",
         "60.0"
        ],
        [
         "43",
         "1460.0"
        ],
        [
         "44",
         "730.0"
        ],
        [
         "45",
         "4380.0"
        ],
        [
         "46",
         "3285.0"
        ],
        [
         "47",
         "21.0"
        ],
        [
         "48",
         "150.0"
        ],
        [
         "49",
         "2190.0"
        ]
       ],
       "shape": {
        "columns": 1,
        "rows": 38185
       }
      },
      "text/plain": [
       "0         365.0\n",
       "1         365.0\n",
       "2         730.0\n",
       "3          21.0\n",
       "4         730.0\n",
       "          ...  \n",
       "11451      60.0\n",
       "11452      14.0\n",
       "11453     365.0\n",
       "11454    2190.0\n",
       "11455    1460.0\n",
       "Name: AgeuponOutcome, Length: 38185, dtype: float64"
      ]
     },
     "execution_count": 27,
     "metadata": {},
     "output_type": "execute_result"
    }
   ],
   "source": [
    "df['AgeuponOutcome'].apply(standarize_age)"
   ]
  },
  {
   "cell_type": "code",
   "execution_count": 28,
   "id": "baea8651",
   "metadata": {},
   "outputs": [],
   "source": [
    "# df_1 = df.copy()\n",
    "# df = df_1.copy()"
   ]
  },
  {
   "cell_type": "code",
   "execution_count": 29,
   "id": "3f5991a0",
   "metadata": {},
   "outputs": [],
   "source": [
    "df['AgeuponOutcome'] = df['AgeuponOutcome'].apply(standarize_age)"
   ]
  },
  {
   "cell_type": "code",
   "execution_count": 30,
   "id": "09979d9d",
   "metadata": {},
   "outputs": [
    {
     "name": "stdout",
     "output_type": "stream",
     "text": [
      "<class 'pandas.core.frame.DataFrame'>\n",
      "Index: 38185 entries, 0 to 11455\n",
      "Data columns (total 8 columns):\n",
      " #   Column          Non-Null Count  Dtype         \n",
      "---  ------          --------------  -----         \n",
      " 0   AnimalID        38185 non-null  object        \n",
      " 1   Name            27269 non-null  object        \n",
      " 2   DateTime        38185 non-null  datetime64[ns]\n",
      " 3   AnimalType      38185 non-null  object        \n",
      " 4   SexuponOutcome  38184 non-null  object        \n",
      " 5   AgeuponOutcome  37594 non-null  float64       \n",
      " 6   Breed           38185 non-null  object        \n",
      " 7   Color           38185 non-null  object        \n",
      "dtypes: datetime64[ns](1), float64(1), object(6)\n",
      "memory usage: 2.6+ MB\n"
     ]
    }
   ],
   "source": [
    "df.info()"
   ]
  },
  {
   "cell_type": "code",
   "execution_count": 31,
   "id": "45690353",
   "metadata": {},
   "outputs": [
    {
     "data": {
      "application/vnd.microsoft.datawrangler.viewer.v0+json": {
       "columns": [
        {
         "name": "index",
         "rawType": "int64",
         "type": "integer"
        },
        {
         "name": "Breed",
         "rawType": "object",
         "type": "string"
        }
       ],
       "ref": "48afd088-93e0-489e-83d9-9c3245c16982",
       "rows": [
        [
         "3762",
         "Domestic Shorthair Mix"
        ],
        [
         "12509",
         "Shetland Sheepdog/Chihuahua Longhair"
        ],
        [
         "24261",
         "Dachshund"
        ],
        [
         "9965",
         "Russian Blue Mix"
        ],
        [
         "8548",
         "Domestic Shorthair Mix"
        ]
       ],
       "shape": {
        "columns": 1,
        "rows": 5
       }
      },
      "text/plain": [
       "3762                   Domestic Shorthair Mix\n",
       "12509    Shetland Sheepdog/Chihuahua Longhair\n",
       "24261                               Dachshund\n",
       "9965                         Russian Blue Mix\n",
       "8548                   Domestic Shorthair Mix\n",
       "Name: Breed, dtype: object"
      ]
     },
     "execution_count": 31,
     "metadata": {},
     "output_type": "execute_result"
    }
   ],
   "source": [
    "df['Breed'].sample(5)"
   ]
  },
  {
   "cell_type": "code",
   "execution_count": 32,
   "id": "8fbf594f",
   "metadata": {},
   "outputs": [
    {
     "data": {
      "application/vnd.microsoft.datawrangler.viewer.v0+json": {
       "columns": [
        {
         "name": "Breed",
         "rawType": "object",
         "type": "string"
        },
        {
         "name": "count",
         "rawType": "int64",
         "type": "integer"
        }
       ],
       "ref": "ce6524ec-fbf7-45fa-bee4-3909f3242fc6",
       "rows": [
        [
         "Domestic Shorthair Mix",
         "12587"
        ],
        [
         "Pit Bull Mix",
         "2776"
        ],
        [
         "Chihuahua Shorthair Mix",
         "2498"
        ],
        [
         "Labrador Retriever Mix",
         "1949"
        ],
        [
         "Domestic Medium Hair Mix",
         "1217"
        ],
        [
         "German Shepherd Mix",
         "830"
        ],
        [
         "Domestic Longhair Mix",
         "753"
        ],
        [
         "Siamese Mix",
         "562"
        ],
        [
         "Australian Cattle Dog Mix",
         "513"
        ],
        [
         "Dachshund Mix",
         "437"
        ],
        [
         "Miniature Poodle Mix",
         "336"
        ],
        [
         "Boxer Mix",
         "330"
        ],
        [
         "Border Collie Mix",
         "324"
        ],
        [
         "Australian Shepherd Mix",
         "256"
        ],
        [
         "Rat Terrier Mix",
         "226"
        ],
        [
         "Catahoula Mix",
         "216"
        ],
        [
         "Yorkshire Terrier Mix",
         "213"
        ],
        [
         "Jack Russell Terrier Mix",
         "203"
        ],
        [
         "Miniature Schnauzer Mix",
         "203"
        ],
        [
         "Domestic Shorthair",
         "194"
        ],
        [
         "Siberian Husky Mix",
         "187"
        ],
        [
         "Chihuahua Longhair Mix",
         "186"
        ],
        [
         "Beagle Mix",
         "172"
        ],
        [
         "Rottweiler Mix",
         "162"
        ],
        [
         "American Bulldog Mix",
         "161"
        ],
        [
         "Shih Tzu Mix",
         "152"
        ],
        [
         "Chihuahua Shorthair/Dachshund",
         "151"
        ],
        [
         "Cairn Terrier Mix",
         "150"
        ],
        [
         "Australian Kelpie Mix",
         "138"
        ],
        [
         "Great Pyrenees Mix",
         "137"
        ],
        [
         "Staffordshire Mix",
         "135"
        ],
        [
         "American Staffordshire Terrier Mix",
         "129"
        ],
        [
         "Pointer Mix",
         "128"
        ],
        [
         "Chihuahua Shorthair",
         "125"
        ],
        [
         "Labrador Retriever",
         "110"
        ],
        [
         "Labrador Retriever/Pit Bull",
         "108"
        ],
        [
         "Plott Hound Mix",
         "108"
        ],
        [
         "Snowshoe Mix",
         "105"
        ],
        [
         "Dachshund/Chihuahua Shorthair",
         "104"
        ],
        [
         "Pit Bull",
         "101"
        ],
        [
         "Black Mouth Cur Mix",
         "98"
        ],
        [
         "Miniature Pinscher Mix",
         "98"
        ],
        [
         "Anatol Shepherd Mix",
         "97"
        ],
        [
         "German Shepherd",
         "95"
        ],
        [
         "German Shepherd/Labrador Retriever",
         "95"
        ],
        [
         "American Pit Bull Terrier Mix",
         "94"
        ],
        [
         "Golden Retriever Mix",
         "88"
        ],
        [
         "Labrador Retriever/German Shepherd",
         "81"
        ],
        [
         "Chow Chow Mix",
         "76"
        ],
        [
         "Queensland Heeler Mix",
         "75"
        ]
       ],
       "shape": {
        "columns": 1,
        "rows": 1678
       }
      },
      "text/plain": [
       "Breed\n",
       "Domestic Shorthair Mix               12587\n",
       "Pit Bull Mix                          2776\n",
       "Chihuahua Shorthair Mix               2498\n",
       "Labrador Retriever Mix                1949\n",
       "Domestic Medium Hair Mix              1217\n",
       "                                     ...  \n",
       "Norfolk Terrier/Dachshund                1\n",
       "Miniature Poodle/Golden Retriever        1\n",
       "Labrador Retriever/Chesa Bay Retr        1\n",
       "Norwegian Elkhound Mix                   1\n",
       "Collie Rough/Golden Retriever            1\n",
       "Name: count, Length: 1678, dtype: int64"
      ]
     },
     "execution_count": 32,
     "metadata": {},
     "output_type": "execute_result"
    }
   ],
   "source": [
    "df['Breed'].value_counts()"
   ]
  },
  {
   "cell_type": "code",
   "execution_count": 33,
   "id": "ebe6cd3b",
   "metadata": {},
   "outputs": [
    {
     "data": {
      "text/plain": [
       "1678"
      ]
     },
     "execution_count": 33,
     "metadata": {},
     "output_type": "execute_result"
    }
   ],
   "source": [
    "df['Breed'].nunique()"
   ]
  },
  {
   "cell_type": "code",
   "execution_count": 34,
   "id": "c00a3765",
   "metadata": {},
   "outputs": [
    {
     "data": {
      "application/vnd.microsoft.datawrangler.viewer.v0+json": {
       "columns": [
        {
         "name": "index",
         "rawType": "int64",
         "type": "integer"
        },
        {
         "name": "Color",
         "rawType": "object",
         "type": "string"
        }
       ],
       "ref": "44a91c8e-64a9-4f8d-b8c1-cc7abc6b8fcb",
       "rows": [
        [
         "13086",
         "Black"
        ],
        [
         "6878",
         "Black/White"
        ],
        [
         "6094",
         "Flame Point"
        ],
        [
         "7988",
         "Black/White"
        ],
        [
         "8202",
         "Tan/White"
        ]
       ],
       "shape": {
        "columns": 1,
        "rows": 5
       }
      },
      "text/plain": [
       "13086          Black\n",
       "6878     Black/White\n",
       "6094     Flame Point\n",
       "7988     Black/White\n",
       "8202       Tan/White\n",
       "Name: Color, dtype: object"
      ]
     },
     "execution_count": 34,
     "metadata": {},
     "output_type": "execute_result"
    }
   ],
   "source": [
    "df['Color'].sample(5)"
   ]
  },
  {
   "cell_type": "code",
   "execution_count": 35,
   "id": "e8541d16",
   "metadata": {},
   "outputs": [
    {
     "data": {
      "application/vnd.microsoft.datawrangler.viewer.v0+json": {
       "columns": [
        {
         "name": "Color",
         "rawType": "object",
         "type": "string"
        },
        {
         "name": "count",
         "rawType": "int64",
         "type": "integer"
        }
       ],
       "ref": "dec78a4d-4b68-4c21-9e79-fa483c38d27f",
       "rows": [
        [
         "Black/White",
         "4043"
        ],
        [
         "Black",
         "3265"
        ],
        [
         "Brown Tabby",
         "2359"
        ],
        [
         "Brown Tabby/White",
         "1333"
        ],
        [
         "White",
         "1333"
        ],
        [
         "Brown/White",
         "1257"
        ],
        [
         "Orange Tabby",
         "1187"
        ],
        [
         "Tan/White",
         "1114"
        ],
        [
         "Tricolor",
         "1067"
        ],
        [
         "Blue/White",
         "1004"
        ],
        [
         "Black/Tan",
         "986"
        ],
        [
         "White/Black",
         "945"
        ],
        [
         "Tan",
         "910"
        ],
        [
         "Brown",
         "895"
        ],
        [
         "White/Brown",
         "771"
        ],
        [
         "Tortie",
         "770"
        ],
        [
         "Calico",
         "710"
        ],
        [
         "Blue",
         "674"
        ],
        [
         "Brown Brindle/White",
         "661"
        ],
        [
         "Orange Tabby/White",
         "629"
        ],
        [
         "Black/Brown",
         "624"
        ],
        [
         "Blue Tabby",
         "616"
        ],
        [
         "White/Tan",
         "557"
        ],
        [
         "Brown/Black",
         "493"
        ],
        [
         "Torbie",
         "474"
        ],
        [
         "Red/White",
         "471"
        ],
        [
         "Red",
         "470"
        ],
        [
         "Brown Brindle",
         "347"
        ],
        [
         "Blue Tabby/White",
         "336"
        ],
        [
         "Chocolate/White",
         "321"
        ],
        [
         "Cream Tabby",
         "309"
        ],
        [
         "Sable",
         "277"
        ],
        [
         "Yellow",
         "275"
        ],
        [
         "Buff",
         "259"
        ],
        [
         "Lynx Point",
         "255"
        ],
        [
         "Tan/Black",
         "254"
        ],
        [
         "Cream",
         "222"
        ],
        [
         "Chocolate",
         "205"
        ],
        [
         "Seal Point",
         "204"
        ],
        [
         "White/Blue",
         "184"
        ],
        [
         "White/Brown Brindle",
         "163"
        ],
        [
         "Fawn/White",
         "152"
        ],
        [
         "White/Brown Tabby",
         "143"
        ],
        [
         "Gray/White",
         "131"
        ],
        [
         "Cream Tabby/White",
         "129"
        ],
        [
         "Sable/White",
         "121"
        ],
        [
         "Flame Point",
         "120"
        ],
        [
         "Gray",
         "118"
        ],
        [
         "Blue Merle",
         "118"
        ],
        [
         "Fawn",
         "102"
        ]
       ],
       "shape": {
        "columns": 1,
        "rows": 411
       }
      },
      "text/plain": [
       "Color\n",
       "Black/White                  4043\n",
       "Black                        3265\n",
       "Brown Tabby                  2359\n",
       "Brown Tabby/White            1333\n",
       "White                        1333\n",
       "                             ... \n",
       "Brown Brindle/Brown Merle       1\n",
       "Blue/Brown                      1\n",
       "Calico/Orange Tabby             1\n",
       "White/Flame Point               1\n",
       "Gray/Blue                       1\n",
       "Name: count, Length: 411, dtype: int64"
      ]
     },
     "execution_count": 35,
     "metadata": {},
     "output_type": "execute_result"
    }
   ],
   "source": [
    "df['Color'].value_counts()"
   ]
  },
  {
   "cell_type": "code",
   "execution_count": 36,
   "id": "8aac3570",
   "metadata": {},
   "outputs": [
    {
     "data": {
      "text/plain": [
       "411"
      ]
     },
     "execution_count": 36,
     "metadata": {},
     "output_type": "execute_result"
    }
   ],
   "source": [
    "df['Color'].nunique()"
   ]
  },
  {
   "cell_type": "markdown",
   "id": "3e921f52",
   "metadata": {},
   "source": [
    "### Add a column isMix to reduce reed dimensionality"
   ]
  },
  {
   "cell_type": "code",
   "execution_count": 37,
   "id": "3e02246e",
   "metadata": {},
   "outputs": [
    {
     "data": {
      "application/vnd.microsoft.datawrangler.viewer.v0+json": {
       "columns": [
        {
         "name": "index",
         "rawType": "int64",
         "type": "integer"
        },
        {
         "name": "Breed",
         "rawType": "bool",
         "type": "boolean"
        }
       ],
       "ref": "50416eab-12e8-4272-910c-56617cbfa4fa",
       "rows": [
        [
         "0",
         "True"
        ],
        [
         "1",
         "True"
        ],
        [
         "2",
         "True"
        ],
        [
         "3",
         "True"
        ],
        [
         "4",
         "False"
        ],
        [
         "5",
         "False"
        ],
        [
         "6",
         "True"
        ],
        [
         "7",
         "True"
        ],
        [
         "8",
         "True"
        ],
        [
         "9",
         "False"
        ],
        [
         "10",
         "True"
        ],
        [
         "11",
         "True"
        ],
        [
         "12",
         "True"
        ],
        [
         "13",
         "True"
        ],
        [
         "14",
         "True"
        ],
        [
         "15",
         "True"
        ],
        [
         "16",
         "True"
        ],
        [
         "17",
         "True"
        ],
        [
         "18",
         "True"
        ],
        [
         "19",
         "True"
        ],
        [
         "20",
         "True"
        ],
        [
         "21",
         "True"
        ],
        [
         "22",
         "False"
        ],
        [
         "23",
         "True"
        ],
        [
         "24",
         "True"
        ],
        [
         "25",
         "True"
        ],
        [
         "26",
         "True"
        ],
        [
         "27",
         "True"
        ],
        [
         "28",
         "True"
        ],
        [
         "29",
         "True"
        ],
        [
         "30",
         "True"
        ],
        [
         "31",
         "True"
        ],
        [
         "32",
         "True"
        ],
        [
         "33",
         "False"
        ],
        [
         "34",
         "True"
        ],
        [
         "35",
         "True"
        ],
        [
         "36",
         "True"
        ],
        [
         "37",
         "True"
        ],
        [
         "38",
         "True"
        ],
        [
         "39",
         "True"
        ],
        [
         "40",
         "True"
        ],
        [
         "41",
         "True"
        ],
        [
         "42",
         "True"
        ],
        [
         "43",
         "True"
        ],
        [
         "44",
         "True"
        ],
        [
         "45",
         "False"
        ],
        [
         "46",
         "True"
        ],
        [
         "47",
         "True"
        ],
        [
         "48",
         "True"
        ],
        [
         "49",
         "False"
        ]
       ],
       "shape": {
        "columns": 1,
        "rows": 38185
       }
      },
      "text/plain": [
       "0         True\n",
       "1         True\n",
       "2         True\n",
       "3         True\n",
       "4        False\n",
       "         ...  \n",
       "11451     True\n",
       "11452     True\n",
       "11453     True\n",
       "11454     True\n",
       "11455    False\n",
       "Name: Breed, Length: 38185, dtype: bool"
      ]
     },
     "execution_count": 37,
     "metadata": {},
     "output_type": "execute_result"
    }
   ],
   "source": [
    "df['Breed'].str.contains('Mix')"
   ]
  },
  {
   "cell_type": "code",
   "execution_count": 38,
   "id": "5e7d22b7",
   "metadata": {},
   "outputs": [],
   "source": [
    "df.loc[df['Breed'].str.contains('Mix'), 'isMix'] = True"
   ]
  },
  {
   "cell_type": "code",
   "execution_count": 39,
   "id": "e3919b88",
   "metadata": {},
   "outputs": [
    {
     "data": {
      "application/vnd.microsoft.datawrangler.viewer.v0+json": {
       "columns": [
        {
         "name": "index",
         "rawType": "int64",
         "type": "integer"
        },
        {
         "name": "AnimalID",
         "rawType": "object",
         "type": "string"
        },
        {
         "name": "Name",
         "rawType": "object",
         "type": "unknown"
        },
        {
         "name": "DateTime",
         "rawType": "datetime64[ns]",
         "type": "datetime"
        },
        {
         "name": "AnimalType",
         "rawType": "object",
         "type": "string"
        },
        {
         "name": "SexuponOutcome",
         "rawType": "object",
         "type": "string"
        },
        {
         "name": "AgeuponOutcome",
         "rawType": "float64",
         "type": "float"
        },
        {
         "name": "Breed",
         "rawType": "object",
         "type": "string"
        },
        {
         "name": "Color",
         "rawType": "object",
         "type": "string"
        },
        {
         "name": "isMix",
         "rawType": "object",
         "type": "unknown"
        }
       ],
       "ref": "41c12871-e976-4395-a9ed-fddc43d8ecdf",
       "rows": [
        [
         "0",
         "A671945",
         "Hambone",
         "2014-02-12 18:22:00",
         "Dog",
         "Neutered Male",
         "365.0",
         "Shetland Sheepdog Mix",
         "Brown/White",
         "True"
        ],
        [
         "1",
         "A656520",
         "Emily",
         "2013-10-13 12:44:00",
         "Cat",
         "Spayed Female",
         "365.0",
         "Domestic Shorthair Mix",
         "Cream Tabby",
         "True"
        ],
        [
         "2",
         "A686464",
         "Pearce",
         "2015-01-31 12:28:00",
         "Dog",
         "Neutered Male",
         "730.0",
         "Pit Bull Mix",
         "Blue/White",
         "True"
        ],
        [
         "3",
         "A683430",
         null,
         "2014-07-11 19:09:00",
         "Cat",
         "Intact Male",
         "21.0",
         "Domestic Shorthair Mix",
         "Blue Cream",
         "True"
        ],
        [
         "4",
         "A667013",
         null,
         "2013-11-15 12:52:00",
         "Dog",
         "Neutered Male",
         "730.0",
         "Lhasa Apso/Miniature Poodle",
         "Tan",
         null
        ],
        [
         "5",
         "A677334",
         "Elsa",
         "2014-04-25 13:04:00",
         "Dog",
         "Intact Female",
         "30.0",
         "Cairn Terrier/Chihuahua Shorthair",
         "Black/Tan",
         null
        ],
        [
         "6",
         "A699218",
         "Jimmy",
         "2015-03-28 13:11:00",
         "Cat",
         "Intact Male",
         "21.0",
         "Domestic Shorthair Mix",
         "Blue Tabby",
         "True"
        ],
        [
         "7",
         "A701489",
         null,
         "2015-04-30 17:02:00",
         "Cat",
         "Unknown",
         "21.0",
         "Domestic Shorthair Mix",
         "Brown Tabby",
         "True"
        ],
        [
         "8",
         "A671784",
         "Lucy",
         "2014-02-04 17:17:00",
         "Dog",
         "Spayed Female",
         "150.0",
         "American Pit Bull Terrier Mix",
         "Red/White",
         "True"
        ],
        [
         "9",
         "A677747",
         null,
         "2014-05-03 07:48:00",
         "Dog",
         "Spayed Female",
         "365.0",
         "Cairn Terrier",
         "White",
         null
        ]
       ],
       "shape": {
        "columns": 9,
        "rows": 10
       }
      },
      "text/html": [
       "<div>\n",
       "<style scoped>\n",
       "    .dataframe tbody tr th:only-of-type {\n",
       "        vertical-align: middle;\n",
       "    }\n",
       "\n",
       "    .dataframe tbody tr th {\n",
       "        vertical-align: top;\n",
       "    }\n",
       "\n",
       "    .dataframe thead th {\n",
       "        text-align: right;\n",
       "    }\n",
       "</style>\n",
       "<table border=\"1\" class=\"dataframe\">\n",
       "  <thead>\n",
       "    <tr style=\"text-align: right;\">\n",
       "      <th></th>\n",
       "      <th>AnimalID</th>\n",
       "      <th>Name</th>\n",
       "      <th>DateTime</th>\n",
       "      <th>AnimalType</th>\n",
       "      <th>SexuponOutcome</th>\n",
       "      <th>AgeuponOutcome</th>\n",
       "      <th>Breed</th>\n",
       "      <th>Color</th>\n",
       "      <th>isMix</th>\n",
       "    </tr>\n",
       "  </thead>\n",
       "  <tbody>\n",
       "    <tr>\n",
       "      <th>0</th>\n",
       "      <td>A671945</td>\n",
       "      <td>Hambone</td>\n",
       "      <td>2014-02-12 18:22:00</td>\n",
       "      <td>Dog</td>\n",
       "      <td>Neutered Male</td>\n",
       "      <td>365.0</td>\n",
       "      <td>Shetland Sheepdog Mix</td>\n",
       "      <td>Brown/White</td>\n",
       "      <td>True</td>\n",
       "    </tr>\n",
       "    <tr>\n",
       "      <th>1</th>\n",
       "      <td>A656520</td>\n",
       "      <td>Emily</td>\n",
       "      <td>2013-10-13 12:44:00</td>\n",
       "      <td>Cat</td>\n",
       "      <td>Spayed Female</td>\n",
       "      <td>365.0</td>\n",
       "      <td>Domestic Shorthair Mix</td>\n",
       "      <td>Cream Tabby</td>\n",
       "      <td>True</td>\n",
       "    </tr>\n",
       "    <tr>\n",
       "      <th>2</th>\n",
       "      <td>A686464</td>\n",
       "      <td>Pearce</td>\n",
       "      <td>2015-01-31 12:28:00</td>\n",
       "      <td>Dog</td>\n",
       "      <td>Neutered Male</td>\n",
       "      <td>730.0</td>\n",
       "      <td>Pit Bull Mix</td>\n",
       "      <td>Blue/White</td>\n",
       "      <td>True</td>\n",
       "    </tr>\n",
       "    <tr>\n",
       "      <th>3</th>\n",
       "      <td>A683430</td>\n",
       "      <td>NaN</td>\n",
       "      <td>2014-07-11 19:09:00</td>\n",
       "      <td>Cat</td>\n",
       "      <td>Intact Male</td>\n",
       "      <td>21.0</td>\n",
       "      <td>Domestic Shorthair Mix</td>\n",
       "      <td>Blue Cream</td>\n",
       "      <td>True</td>\n",
       "    </tr>\n",
       "    <tr>\n",
       "      <th>4</th>\n",
       "      <td>A667013</td>\n",
       "      <td>NaN</td>\n",
       "      <td>2013-11-15 12:52:00</td>\n",
       "      <td>Dog</td>\n",
       "      <td>Neutered Male</td>\n",
       "      <td>730.0</td>\n",
       "      <td>Lhasa Apso/Miniature Poodle</td>\n",
       "      <td>Tan</td>\n",
       "      <td>NaN</td>\n",
       "    </tr>\n",
       "    <tr>\n",
       "      <th>5</th>\n",
       "      <td>A677334</td>\n",
       "      <td>Elsa</td>\n",
       "      <td>2014-04-25 13:04:00</td>\n",
       "      <td>Dog</td>\n",
       "      <td>Intact Female</td>\n",
       "      <td>30.0</td>\n",
       "      <td>Cairn Terrier/Chihuahua Shorthair</td>\n",
       "      <td>Black/Tan</td>\n",
       "      <td>NaN</td>\n",
       "    </tr>\n",
       "    <tr>\n",
       "      <th>6</th>\n",
       "      <td>A699218</td>\n",
       "      <td>Jimmy</td>\n",
       "      <td>2015-03-28 13:11:00</td>\n",
       "      <td>Cat</td>\n",
       "      <td>Intact Male</td>\n",
       "      <td>21.0</td>\n",
       "      <td>Domestic Shorthair Mix</td>\n",
       "      <td>Blue Tabby</td>\n",
       "      <td>True</td>\n",
       "    </tr>\n",
       "    <tr>\n",
       "      <th>7</th>\n",
       "      <td>A701489</td>\n",
       "      <td>NaN</td>\n",
       "      <td>2015-04-30 17:02:00</td>\n",
       "      <td>Cat</td>\n",
       "      <td>Unknown</td>\n",
       "      <td>21.0</td>\n",
       "      <td>Domestic Shorthair Mix</td>\n",
       "      <td>Brown Tabby</td>\n",
       "      <td>True</td>\n",
       "    </tr>\n",
       "    <tr>\n",
       "      <th>8</th>\n",
       "      <td>A671784</td>\n",
       "      <td>Lucy</td>\n",
       "      <td>2014-02-04 17:17:00</td>\n",
       "      <td>Dog</td>\n",
       "      <td>Spayed Female</td>\n",
       "      <td>150.0</td>\n",
       "      <td>American Pit Bull Terrier Mix</td>\n",
       "      <td>Red/White</td>\n",
       "      <td>True</td>\n",
       "    </tr>\n",
       "    <tr>\n",
       "      <th>9</th>\n",
       "      <td>A677747</td>\n",
       "      <td>NaN</td>\n",
       "      <td>2014-05-03 07:48:00</td>\n",
       "      <td>Dog</td>\n",
       "      <td>Spayed Female</td>\n",
       "      <td>365.0</td>\n",
       "      <td>Cairn Terrier</td>\n",
       "      <td>White</td>\n",
       "      <td>NaN</td>\n",
       "    </tr>\n",
       "  </tbody>\n",
       "</table>\n",
       "</div>"
      ],
      "text/plain": [
       "  AnimalID     Name            DateTime AnimalType SexuponOutcome  \\\n",
       "0  A671945  Hambone 2014-02-12 18:22:00        Dog  Neutered Male   \n",
       "1  A656520    Emily 2013-10-13 12:44:00        Cat  Spayed Female   \n",
       "2  A686464   Pearce 2015-01-31 12:28:00        Dog  Neutered Male   \n",
       "3  A683430      NaN 2014-07-11 19:09:00        Cat    Intact Male   \n",
       "4  A667013      NaN 2013-11-15 12:52:00        Dog  Neutered Male   \n",
       "5  A677334     Elsa 2014-04-25 13:04:00        Dog  Intact Female   \n",
       "6  A699218    Jimmy 2015-03-28 13:11:00        Cat    Intact Male   \n",
       "7  A701489      NaN 2015-04-30 17:02:00        Cat        Unknown   \n",
       "8  A671784     Lucy 2014-02-04 17:17:00        Dog  Spayed Female   \n",
       "9  A677747      NaN 2014-05-03 07:48:00        Dog  Spayed Female   \n",
       "\n",
       "   AgeuponOutcome                              Breed        Color isMix  \n",
       "0           365.0              Shetland Sheepdog Mix  Brown/White  True  \n",
       "1           365.0             Domestic Shorthair Mix  Cream Tabby  True  \n",
       "2           730.0                       Pit Bull Mix   Blue/White  True  \n",
       "3            21.0             Domestic Shorthair Mix   Blue Cream  True  \n",
       "4           730.0        Lhasa Apso/Miniature Poodle          Tan   NaN  \n",
       "5            30.0  Cairn Terrier/Chihuahua Shorthair    Black/Tan   NaN  \n",
       "6            21.0             Domestic Shorthair Mix   Blue Tabby  True  \n",
       "7            21.0             Domestic Shorthair Mix  Brown Tabby  True  \n",
       "8           150.0      American Pit Bull Terrier Mix    Red/White  True  \n",
       "9           365.0                      Cairn Terrier        White   NaN  "
      ]
     },
     "execution_count": 39,
     "metadata": {},
     "output_type": "execute_result"
    }
   ],
   "source": [
    "df.head(10)"
   ]
  },
  {
   "cell_type": "code",
   "execution_count": 40,
   "id": "ae81f299",
   "metadata": {},
   "outputs": [],
   "source": [
    "df.loc[df['isMix'].isna(), 'isMix'] = False"
   ]
  },
  {
   "cell_type": "code",
   "execution_count": 41,
   "id": "0215c53c",
   "metadata": {},
   "outputs": [
    {
     "data": {
      "application/vnd.microsoft.datawrangler.viewer.v0+json": {
       "columns": [
        {
         "name": "index",
         "rawType": "int64",
         "type": "integer"
        },
        {
         "name": "AnimalID",
         "rawType": "object",
         "type": "string"
        },
        {
         "name": "Name",
         "rawType": "object",
         "type": "unknown"
        },
        {
         "name": "DateTime",
         "rawType": "datetime64[ns]",
         "type": "datetime"
        },
        {
         "name": "AnimalType",
         "rawType": "object",
         "type": "string"
        },
        {
         "name": "SexuponOutcome",
         "rawType": "object",
         "type": "string"
        },
        {
         "name": "AgeuponOutcome",
         "rawType": "float64",
         "type": "float"
        },
        {
         "name": "Breed",
         "rawType": "object",
         "type": "string"
        },
        {
         "name": "Color",
         "rawType": "object",
         "type": "string"
        },
        {
         "name": "isMix",
         "rawType": "object",
         "type": "unknown"
        }
       ],
       "ref": "d89348e3-ed99-4f0f-8c63-3ec38bede322",
       "rows": [
        [
         "0",
         "A671945",
         "Hambone",
         "2014-02-12 18:22:00",
         "Dog",
         "Neutered Male",
         "365.0",
         "Shetland Sheepdog Mix",
         "Brown/White",
         "True"
        ],
        [
         "1",
         "A656520",
         "Emily",
         "2013-10-13 12:44:00",
         "Cat",
         "Spayed Female",
         "365.0",
         "Domestic Shorthair Mix",
         "Cream Tabby",
         "True"
        ],
        [
         "2",
         "A686464",
         "Pearce",
         "2015-01-31 12:28:00",
         "Dog",
         "Neutered Male",
         "730.0",
         "Pit Bull Mix",
         "Blue/White",
         "True"
        ],
        [
         "3",
         "A683430",
         null,
         "2014-07-11 19:09:00",
         "Cat",
         "Intact Male",
         "21.0",
         "Domestic Shorthair Mix",
         "Blue Cream",
         "True"
        ],
        [
         "4",
         "A667013",
         null,
         "2013-11-15 12:52:00",
         "Dog",
         "Neutered Male",
         "730.0",
         "Lhasa Apso/Miniature Poodle",
         "Tan",
         "False"
        ],
        [
         "5",
         "A677334",
         "Elsa",
         "2014-04-25 13:04:00",
         "Dog",
         "Intact Female",
         "30.0",
         "Cairn Terrier/Chihuahua Shorthair",
         "Black/Tan",
         "False"
        ],
        [
         "6",
         "A699218",
         "Jimmy",
         "2015-03-28 13:11:00",
         "Cat",
         "Intact Male",
         "21.0",
         "Domestic Shorthair Mix",
         "Blue Tabby",
         "True"
        ],
        [
         "7",
         "A701489",
         null,
         "2015-04-30 17:02:00",
         "Cat",
         "Unknown",
         "21.0",
         "Domestic Shorthair Mix",
         "Brown Tabby",
         "True"
        ],
        [
         "8",
         "A671784",
         "Lucy",
         "2014-02-04 17:17:00",
         "Dog",
         "Spayed Female",
         "150.0",
         "American Pit Bull Terrier Mix",
         "Red/White",
         "True"
        ],
        [
         "9",
         "A677747",
         null,
         "2014-05-03 07:48:00",
         "Dog",
         "Spayed Female",
         "365.0",
         "Cairn Terrier",
         "White",
         "False"
        ]
       ],
       "shape": {
        "columns": 9,
        "rows": 10
       }
      },
      "text/html": [
       "<div>\n",
       "<style scoped>\n",
       "    .dataframe tbody tr th:only-of-type {\n",
       "        vertical-align: middle;\n",
       "    }\n",
       "\n",
       "    .dataframe tbody tr th {\n",
       "        vertical-align: top;\n",
       "    }\n",
       "\n",
       "    .dataframe thead th {\n",
       "        text-align: right;\n",
       "    }\n",
       "</style>\n",
       "<table border=\"1\" class=\"dataframe\">\n",
       "  <thead>\n",
       "    <tr style=\"text-align: right;\">\n",
       "      <th></th>\n",
       "      <th>AnimalID</th>\n",
       "      <th>Name</th>\n",
       "      <th>DateTime</th>\n",
       "      <th>AnimalType</th>\n",
       "      <th>SexuponOutcome</th>\n",
       "      <th>AgeuponOutcome</th>\n",
       "      <th>Breed</th>\n",
       "      <th>Color</th>\n",
       "      <th>isMix</th>\n",
       "    </tr>\n",
       "  </thead>\n",
       "  <tbody>\n",
       "    <tr>\n",
       "      <th>0</th>\n",
       "      <td>A671945</td>\n",
       "      <td>Hambone</td>\n",
       "      <td>2014-02-12 18:22:00</td>\n",
       "      <td>Dog</td>\n",
       "      <td>Neutered Male</td>\n",
       "      <td>365.0</td>\n",
       "      <td>Shetland Sheepdog Mix</td>\n",
       "      <td>Brown/White</td>\n",
       "      <td>True</td>\n",
       "    </tr>\n",
       "    <tr>\n",
       "      <th>1</th>\n",
       "      <td>A656520</td>\n",
       "      <td>Emily</td>\n",
       "      <td>2013-10-13 12:44:00</td>\n",
       "      <td>Cat</td>\n",
       "      <td>Spayed Female</td>\n",
       "      <td>365.0</td>\n",
       "      <td>Domestic Shorthair Mix</td>\n",
       "      <td>Cream Tabby</td>\n",
       "      <td>True</td>\n",
       "    </tr>\n",
       "    <tr>\n",
       "      <th>2</th>\n",
       "      <td>A686464</td>\n",
       "      <td>Pearce</td>\n",
       "      <td>2015-01-31 12:28:00</td>\n",
       "      <td>Dog</td>\n",
       "      <td>Neutered Male</td>\n",
       "      <td>730.0</td>\n",
       "      <td>Pit Bull Mix</td>\n",
       "      <td>Blue/White</td>\n",
       "      <td>True</td>\n",
       "    </tr>\n",
       "    <tr>\n",
       "      <th>3</th>\n",
       "      <td>A683430</td>\n",
       "      <td>NaN</td>\n",
       "      <td>2014-07-11 19:09:00</td>\n",
       "      <td>Cat</td>\n",
       "      <td>Intact Male</td>\n",
       "      <td>21.0</td>\n",
       "      <td>Domestic Shorthair Mix</td>\n",
       "      <td>Blue Cream</td>\n",
       "      <td>True</td>\n",
       "    </tr>\n",
       "    <tr>\n",
       "      <th>4</th>\n",
       "      <td>A667013</td>\n",
       "      <td>NaN</td>\n",
       "      <td>2013-11-15 12:52:00</td>\n",
       "      <td>Dog</td>\n",
       "      <td>Neutered Male</td>\n",
       "      <td>730.0</td>\n",
       "      <td>Lhasa Apso/Miniature Poodle</td>\n",
       "      <td>Tan</td>\n",
       "      <td>False</td>\n",
       "    </tr>\n",
       "    <tr>\n",
       "      <th>5</th>\n",
       "      <td>A677334</td>\n",
       "      <td>Elsa</td>\n",
       "      <td>2014-04-25 13:04:00</td>\n",
       "      <td>Dog</td>\n",
       "      <td>Intact Female</td>\n",
       "      <td>30.0</td>\n",
       "      <td>Cairn Terrier/Chihuahua Shorthair</td>\n",
       "      <td>Black/Tan</td>\n",
       "      <td>False</td>\n",
       "    </tr>\n",
       "    <tr>\n",
       "      <th>6</th>\n",
       "      <td>A699218</td>\n",
       "      <td>Jimmy</td>\n",
       "      <td>2015-03-28 13:11:00</td>\n",
       "      <td>Cat</td>\n",
       "      <td>Intact Male</td>\n",
       "      <td>21.0</td>\n",
       "      <td>Domestic Shorthair Mix</td>\n",
       "      <td>Blue Tabby</td>\n",
       "      <td>True</td>\n",
       "    </tr>\n",
       "    <tr>\n",
       "      <th>7</th>\n",
       "      <td>A701489</td>\n",
       "      <td>NaN</td>\n",
       "      <td>2015-04-30 17:02:00</td>\n",
       "      <td>Cat</td>\n",
       "      <td>Unknown</td>\n",
       "      <td>21.0</td>\n",
       "      <td>Domestic Shorthair Mix</td>\n",
       "      <td>Brown Tabby</td>\n",
       "      <td>True</td>\n",
       "    </tr>\n",
       "    <tr>\n",
       "      <th>8</th>\n",
       "      <td>A671784</td>\n",
       "      <td>Lucy</td>\n",
       "      <td>2014-02-04 17:17:00</td>\n",
       "      <td>Dog</td>\n",
       "      <td>Spayed Female</td>\n",
       "      <td>150.0</td>\n",
       "      <td>American Pit Bull Terrier Mix</td>\n",
       "      <td>Red/White</td>\n",
       "      <td>True</td>\n",
       "    </tr>\n",
       "    <tr>\n",
       "      <th>9</th>\n",
       "      <td>A677747</td>\n",
       "      <td>NaN</td>\n",
       "      <td>2014-05-03 07:48:00</td>\n",
       "      <td>Dog</td>\n",
       "      <td>Spayed Female</td>\n",
       "      <td>365.0</td>\n",
       "      <td>Cairn Terrier</td>\n",
       "      <td>White</td>\n",
       "      <td>False</td>\n",
       "    </tr>\n",
       "  </tbody>\n",
       "</table>\n",
       "</div>"
      ],
      "text/plain": [
       "  AnimalID     Name            DateTime AnimalType SexuponOutcome  \\\n",
       "0  A671945  Hambone 2014-02-12 18:22:00        Dog  Neutered Male   \n",
       "1  A656520    Emily 2013-10-13 12:44:00        Cat  Spayed Female   \n",
       "2  A686464   Pearce 2015-01-31 12:28:00        Dog  Neutered Male   \n",
       "3  A683430      NaN 2014-07-11 19:09:00        Cat    Intact Male   \n",
       "4  A667013      NaN 2013-11-15 12:52:00        Dog  Neutered Male   \n",
       "5  A677334     Elsa 2014-04-25 13:04:00        Dog  Intact Female   \n",
       "6  A699218    Jimmy 2015-03-28 13:11:00        Cat    Intact Male   \n",
       "7  A701489      NaN 2015-04-30 17:02:00        Cat        Unknown   \n",
       "8  A671784     Lucy 2014-02-04 17:17:00        Dog  Spayed Female   \n",
       "9  A677747      NaN 2014-05-03 07:48:00        Dog  Spayed Female   \n",
       "\n",
       "   AgeuponOutcome                              Breed        Color  isMix  \n",
       "0           365.0              Shetland Sheepdog Mix  Brown/White   True  \n",
       "1           365.0             Domestic Shorthair Mix  Cream Tabby   True  \n",
       "2           730.0                       Pit Bull Mix   Blue/White   True  \n",
       "3            21.0             Domestic Shorthair Mix   Blue Cream   True  \n",
       "4           730.0        Lhasa Apso/Miniature Poodle          Tan  False  \n",
       "5            30.0  Cairn Terrier/Chihuahua Shorthair    Black/Tan  False  \n",
       "6            21.0             Domestic Shorthair Mix   Blue Tabby   True  \n",
       "7            21.0             Domestic Shorthair Mix  Brown Tabby   True  \n",
       "8           150.0      American Pit Bull Terrier Mix    Red/White   True  \n",
       "9           365.0                      Cairn Terrier        White  False  "
      ]
     },
     "execution_count": 41,
     "metadata": {},
     "output_type": "execute_result"
    }
   ],
   "source": [
    "df.head(10)"
   ]
  },
  {
   "cell_type": "code",
   "execution_count": 42,
   "id": "9f32d23b",
   "metadata": {},
   "outputs": [],
   "source": [
    "df['Breed'] = df['Breed'].str.replace('Mix', '').str.strip()"
   ]
  },
  {
   "cell_type": "code",
   "execution_count": 43,
   "id": "76b52f9a",
   "metadata": {},
   "outputs": [
    {
     "data": {
      "application/vnd.microsoft.datawrangler.viewer.v0+json": {
       "columns": [
        {
         "name": "Breed",
         "rawType": "object",
         "type": "string"
        },
        {
         "name": "count",
         "rawType": "int64",
         "type": "integer"
        }
       ],
       "ref": "0ee81cf7-dff8-46d3-bcee-b4fffe20831f",
       "rows": [
        [
         "Domestic Shorthair",
         "12781"
        ],
        [
         "Pit Bull",
         "2877"
        ],
        [
         "Chihuahua Shorthair",
         "2623"
        ],
        [
         "Labrador Retriever",
         "2059"
        ],
        [
         "Domestic Medium Hair",
         "1284"
        ],
        [
         "German Shepherd",
         "925"
        ],
        [
         "Domestic Longhair",
         "780"
        ],
        [
         "Siamese",
         "599"
        ],
        [
         "Australian Cattle Dog",
         "554"
        ],
        [
         "Dachshund",
         "507"
        ],
        [
         "Boxer",
         "378"
        ],
        [
         "Miniature Poodle",
         "365"
        ],
        [
         "Border Collie",
         "347"
        ],
        [
         "Australian Shepherd",
         "274"
        ],
        [
         "Rat Terrier",
         "249"
        ],
        [
         "Yorkshire Terrier",
         "243"
        ],
        [
         "Miniature Schnauzer",
         "235"
        ],
        [
         "Siberian Husky",
         "232"
        ],
        [
         "Shih Tzu",
         "227"
        ],
        [
         "Jack Russell Terrier",
         "225"
        ],
        [
         "Catahoula",
         "224"
        ],
        [
         "Rottweiler",
         "214"
        ],
        [
         "Beagle",
         "202"
        ],
        [
         "Chihuahua Longhair",
         "197"
        ],
        [
         "American Bulldog",
         "170"
        ],
        [
         "Cairn Terrier",
         "162"
        ],
        [
         "Great Pyrenees",
         "160"
        ],
        [
         "Chihuahua Shorthair/Dachshund",
         "151"
        ],
        [
         "American Staffordshire Terrier",
         "147"
        ],
        [
         "Australian Kelpie",
         "145"
        ],
        [
         "Staffordshire",
         "144"
        ],
        [
         "Pointer",
         "133"
        ],
        [
         "Miniature Pinscher",
         "115"
        ],
        [
         "Plott Hound",
         "115"
        ],
        [
         "Snowshoe",
         "110"
        ],
        [
         "Anatol Shepherd",
         "110"
        ],
        [
         "Labrador Retriever/Pit Bull",
         "108"
        ],
        [
         "Black Mouth Cur",
         "104"
        ],
        [
         "Golden Retriever",
         "104"
        ],
        [
         "Dachshund/Chihuahua Shorthair",
         "104"
        ],
        [
         "American Pit Bull Terrier",
         "100"
        ],
        [
         "Maltese",
         "100"
        ],
        [
         "Pug",
         "95"
        ],
        [
         "German Shepherd/Labrador Retriever",
         "95"
        ],
        [
         "Chow Chow",
         "85"
        ],
        [
         "Cocker Spaniel",
         "82"
        ],
        [
         "Labrador Retriever/German Shepherd",
         "81"
        ],
        [
         "Doberman Pinsch",
         "80"
        ],
        [
         "Basset Hound",
         "79"
        ],
        [
         "Queensland Heeler",
         "78"
        ]
       ],
       "shape": {
        "columns": 1,
        "rows": 1527
       }
      },
      "text/plain": [
       "Breed\n",
       "Domestic Shorthair                           12781\n",
       "Pit Bull                                      2877\n",
       "Chihuahua Shorthair                           2623\n",
       "Labrador Retriever                            2059\n",
       "Domestic Medium Hair                          1284\n",
       "                                             ...  \n",
       "Shiba Inu/Siberian Husky                         1\n",
       "Cardigan Welsh Corgi/Jack Russell Terrier        1\n",
       "Norfolk Terrier/Dachshund                        1\n",
       "Miniature Poodle/Golden Retriever                1\n",
       "Collie Rough/Golden Retriever                    1\n",
       "Name: count, Length: 1527, dtype: int64"
      ]
     },
     "execution_count": 43,
     "metadata": {},
     "output_type": "execute_result"
    }
   ],
   "source": [
    "df['Breed'].value_counts()"
   ]
  },
  {
   "cell_type": "markdown",
   "id": "58bdcceb",
   "metadata": {},
   "source": [
    "### There are a lot of breed categories, so we will use only the first breed if there are more than 1"
   ]
  },
  {
   "cell_type": "code",
   "execution_count": 44,
   "id": "d831872c",
   "metadata": {},
   "outputs": [],
   "source": [
    "df[['Breed1', 'Breed2', 'Breed3']] = df['Breed'].str.split('/', expand=True)"
   ]
  },
  {
   "cell_type": "code",
   "execution_count": 45,
   "id": "607b2983",
   "metadata": {},
   "outputs": [
    {
     "data": {
      "application/vnd.microsoft.datawrangler.viewer.v0+json": {
       "columns": [
        {
         "name": "Breed3",
         "rawType": "object",
         "type": "string"
        },
        {
         "name": "count",
         "rawType": "int64",
         "type": "integer"
        }
       ],
       "ref": "5076e0f8-c86e-4f11-ba9d-e7e95addaa93",
       "rows": [
        [
         "Tan Hound",
         "9"
        ],
        [
         "Black Mouth Cur",
         "2"
        ],
        [
         "Labrador Retriever",
         "1"
        ],
        [
         "German Shepherd",
         "1"
        ],
        [
         "Siberian Husky",
         "1"
        ]
       ],
       "shape": {
        "columns": 1,
        "rows": 5
       }
      },
      "text/plain": [
       "Breed3\n",
       "Tan Hound             9\n",
       "Black Mouth Cur       2\n",
       "Labrador Retriever    1\n",
       "German Shepherd       1\n",
       "Siberian Husky        1\n",
       "Name: count, dtype: int64"
      ]
     },
     "execution_count": 45,
     "metadata": {},
     "output_type": "execute_result"
    }
   ],
   "source": [
    "df['Breed3'].value_counts()"
   ]
  },
  {
   "cell_type": "code",
   "execution_count": 46,
   "id": "ada06530",
   "metadata": {},
   "outputs": [],
   "source": [
    "df[['Color1', 'Color2']] = df['Color'].str.split('/', expand=True)"
   ]
  },
  {
   "cell_type": "code",
   "execution_count": 47,
   "id": "fc85d9d5",
   "metadata": {},
   "outputs": [
    {
     "data": {
      "application/vnd.microsoft.datawrangler.viewer.v0+json": {
       "columns": [
        {
         "name": "Color1",
         "rawType": "object",
         "type": "string"
        },
        {
         "name": "count",
         "rawType": "int64",
         "type": "integer"
        }
       ],
       "ref": "a7bee0c3-eb5a-4fd8-bf95-08049d570190",
       "rows": [
        [
         "Black",
         "9201"
        ],
        [
         "White",
         "4731"
        ],
        [
         "Brown Tabby",
         "3715"
        ],
        [
         "Brown",
         "2794"
        ],
        [
         "Tan",
         "2393"
        ],
        [
         "Orange Tabby",
         "1820"
        ],
        [
         "Blue",
         "1742"
        ],
        [
         "Tricolor",
         "1131"
        ],
        [
         "Red",
         "1107"
        ],
        [
         "Brown Brindle",
         "1035"
        ],
        [
         "Blue Tabby",
         "958"
        ],
        [
         "Tortie",
         "829"
        ],
        [
         "Calico",
         "760"
        ],
        [
         "Chocolate",
         "646"
        ],
        [
         "Torbie",
         "567"
        ],
        [
         "Sable",
         "459"
        ],
        [
         "Cream Tabby",
         "438"
        ],
        [
         "Buff",
         "358"
        ],
        [
         "Yellow",
         "350"
        ],
        [
         "Cream",
         "316"
        ],
        [
         "Gray",
         "314"
        ],
        [
         "Fawn",
         "295"
        ],
        [
         "Lynx Point",
         "276"
        ],
        [
         "Blue Merle",
         "240"
        ],
        [
         "Seal Point",
         "234"
        ],
        [
         "Black Brindle",
         "144"
        ],
        [
         "Flame Point",
         "121"
        ],
        [
         "Gold",
         "103"
        ],
        [
         "Black Smoke",
         "102"
        ],
        [
         "Black Tabby",
         "95"
        ],
        [
         "Brown Merle",
         "93"
        ],
        [
         "Silver",
         "74"
        ],
        [
         "Red Merle",
         "66"
        ],
        [
         "Orange",
         "61"
        ],
        [
         "Gray Tabby",
         "60"
        ],
        [
         "Blue Tick",
         "58"
        ],
        [
         "Red Tick",
         "56"
        ],
        [
         "Lilac Point",
         "56"
        ],
        [
         "Silver Tabby",
         "54"
        ],
        [
         "Yellow Brindle",
         "45"
        ],
        [
         "Blue Point",
         "44"
        ],
        [
         "Tortie Point",
         "42"
        ],
        [
         "Apricot",
         "41"
        ],
        [
         "Calico Point",
         "35"
        ],
        [
         "Chocolate Point",
         "29"
        ],
        [
         "Blue Cream",
         "28"
        ],
        [
         "Liver",
         "26"
        ],
        [
         "Blue Tiger",
         "13"
        ],
        [
         "Blue Smoke",
         "9"
        ],
        [
         "Brown Tiger",
         "4"
        ]
       ],
       "shape": {
        "columns": 1,
        "rows": 57
       }
      },
      "text/plain": [
       "Color1\n",
       "Black                9201\n",
       "White                4731\n",
       "Brown Tabby          3715\n",
       "Brown                2794\n",
       "Tan                  2393\n",
       "Orange Tabby         1820\n",
       "Blue                 1742\n",
       "Tricolor             1131\n",
       "Red                  1107\n",
       "Brown Brindle        1035\n",
       "Blue Tabby            958\n",
       "Tortie                829\n",
       "Calico                760\n",
       "Chocolate             646\n",
       "Torbie                567\n",
       "Sable                 459\n",
       "Cream Tabby           438\n",
       "Buff                  358\n",
       "Yellow                350\n",
       "Cream                 316\n",
       "Gray                  314\n",
       "Fawn                  295\n",
       "Lynx Point            276\n",
       "Blue Merle            240\n",
       "Seal Point            234\n",
       "Black Brindle         144\n",
       "Flame Point           121\n",
       "Gold                  103\n",
       "Black Smoke           102\n",
       "Black Tabby            95\n",
       "Brown Merle            93\n",
       "Silver                 74\n",
       "Red Merle              66\n",
       "Orange                 61\n",
       "Gray Tabby             60\n",
       "Blue Tick              58\n",
       "Red Tick               56\n",
       "Lilac Point            56\n",
       "Silver Tabby           54\n",
       "Yellow Brindle         45\n",
       "Blue Point             44\n",
       "Tortie Point           42\n",
       "Apricot                41\n",
       "Calico Point           35\n",
       "Chocolate Point        29\n",
       "Blue Cream             28\n",
       "Liver                  26\n",
       "Blue Tiger             13\n",
       "Blue Smoke              9\n",
       "Brown Tiger             4\n",
       "Liver Tick              4\n",
       "Silver Lynx Point       4\n",
       "Agouti                  3\n",
       "Pink                    2\n",
       "Black Tiger             2\n",
       "Ruddy                   1\n",
       "Orange Tiger            1\n",
       "Name: count, dtype: int64"
      ]
     },
     "execution_count": 47,
     "metadata": {},
     "output_type": "execute_result"
    }
   ],
   "source": [
    "df['Color1'].value_counts()"
   ]
  },
  {
   "cell_type": "code",
   "execution_count": 48,
   "id": "5efe011f",
   "metadata": {},
   "outputs": [
    {
     "data": {
      "application/vnd.microsoft.datawrangler.viewer.v0+json": {
       "columns": [
        {
         "name": "Color2",
         "rawType": "object",
         "type": "string"
        },
        {
         "name": "count",
         "rawType": "int64",
         "type": "integer"
        }
       ],
       "ref": "99a3a724-2fa2-440b-800e-1d53aa17ea4c",
       "rows": [
        [
         "White",
         "12631"
        ],
        [
         "Black",
         "1985"
        ],
        [
         "Tan",
         "1981"
        ],
        [
         "Brown",
         "1512"
        ],
        [
         "Brown Brindle",
         "231"
        ],
        [
         "Blue",
         "205"
        ],
        [
         "Gray",
         "175"
        ],
        [
         "Tricolor",
         "154"
        ],
        [
         "Brown Tabby",
         "149"
        ],
        [
         "Red",
         "134"
        ],
        [
         "Cream",
         "111"
        ],
        [
         "Buff",
         "82"
        ],
        [
         "Orange Tabby",
         "71"
        ],
        [
         "Chocolate",
         "63"
        ],
        [
         "Orange",
         "62"
        ],
        [
         "Silver",
         "43"
        ],
        [
         "Blue Merle",
         "33"
        ],
        [
         "Blue Tabby",
         "27"
        ],
        [
         "Red Tick",
         "24"
        ],
        [
         "Black Brindle",
         "22"
        ],
        [
         "Blue Cream",
         "18"
        ],
        [
         "Brown Merle",
         "16"
        ],
        [
         "Blue Tick",
         "14"
        ],
        [
         "Liver",
         "14"
        ],
        [
         "Yellow Brindle",
         "12"
        ],
        [
         "Red Merle",
         "10"
        ],
        [
         "Gold",
         "10"
        ],
        [
         "Yellow",
         "9"
        ],
        [
         "Black Smoke",
         "9"
        ],
        [
         "Black Tabby",
         "7"
        ],
        [
         "Calico",
         "7"
        ],
        [
         "Tortie",
         "6"
        ],
        [
         "Apricot",
         "6"
        ],
        [
         "Cream Tabby",
         "6"
        ],
        [
         "Gray Tabby",
         "4"
        ],
        [
         "Lynx Point",
         "4"
        ],
        [
         "Pink",
         "3"
        ],
        [
         "Chocolate Point",
         "3"
        ],
        [
         "Seal Point",
         "2"
        ],
        [
         "Blue Tiger",
         "1"
        ],
        [
         "Blue Smoke",
         "1"
        ],
        [
         "Brown Tiger",
         "1"
        ],
        [
         "Silver Tabby",
         "1"
        ],
        [
         "Flame Point",
         "1"
        ],
        [
         "Tortie Point",
         "1"
        ],
        [
         "Gray Tiger",
         "1"
        ]
       ],
       "shape": {
        "columns": 1,
        "rows": 46
       }
      },
      "text/plain": [
       "Color2\n",
       "White              12631\n",
       "Black               1985\n",
       "Tan                 1981\n",
       "Brown               1512\n",
       "Brown Brindle        231\n",
       "Blue                 205\n",
       "Gray                 175\n",
       "Tricolor             154\n",
       "Brown Tabby          149\n",
       "Red                  134\n",
       "Cream                111\n",
       "Buff                  82\n",
       "Orange Tabby          71\n",
       "Chocolate             63\n",
       "Orange                62\n",
       "Silver                43\n",
       "Blue Merle            33\n",
       "Blue Tabby            27\n",
       "Red Tick              24\n",
       "Black Brindle         22\n",
       "Blue Cream            18\n",
       "Brown Merle           16\n",
       "Blue Tick             14\n",
       "Liver                 14\n",
       "Yellow Brindle        12\n",
       "Red Merle             10\n",
       "Gold                  10\n",
       "Yellow                 9\n",
       "Black Smoke            9\n",
       "Black Tabby            7\n",
       "Calico                 7\n",
       "Tortie                 6\n",
       "Apricot                6\n",
       "Cream Tabby            6\n",
       "Gray Tabby             4\n",
       "Lynx Point             4\n",
       "Pink                   3\n",
       "Chocolate Point        3\n",
       "Seal Point             2\n",
       "Blue Tiger             1\n",
       "Blue Smoke             1\n",
       "Brown Tiger            1\n",
       "Silver Tabby           1\n",
       "Flame Point            1\n",
       "Tortie Point           1\n",
       "Gray Tiger             1\n",
       "Name: count, dtype: int64"
      ]
     },
     "execution_count": 48,
     "metadata": {},
     "output_type": "execute_result"
    }
   ],
   "source": [
    "df['Color2'].value_counts()"
   ]
  },
  {
   "cell_type": "markdown",
   "id": "4f71d0ba",
   "metadata": {},
   "source": [
    "- For practicity, we will only use the first Breed and Color columns"
   ]
  },
  {
   "cell_type": "markdown",
   "id": "0a9f97df",
   "metadata": {},
   "source": [
    "### Get datetime columns"
   ]
  },
  {
   "cell_type": "code",
   "execution_count": 49,
   "id": "9ba6b791",
   "metadata": {},
   "outputs": [],
   "source": [
    "df['hour'] = df['DateTime'].dt.hour\n",
    "df['weekday'] = df['DateTime'].dt.weekday\n",
    "df['month'] = df['DateTime'].dt.month"
   ]
  },
  {
   "cell_type": "markdown",
   "id": "452d0bf4",
   "metadata": {},
   "source": [
    "* Get TimeOfDay (morning/midday/evening/night)"
   ]
  },
  {
   "cell_type": "code",
   "execution_count": 50,
   "id": "1bf5e177",
   "metadata": {},
   "outputs": [],
   "source": [
    "# we'll use the cut() method\n",
    "bins = [0, 5, 11, 13, 17, 21, 23]\n",
    "labels = ['night', 'morning', 'midday', 'afternoon', 'evening', 'late night']\n",
    "\n",
    "df['time_of_day'] = pd.cut(df['hour'], bins=bins, labels=labels, include_lowest=True)"
   ]
  },
  {
   "cell_type": "markdown",
   "id": "b793a9f3",
   "metadata": {},
   "source": [
    "* Get more derived variables"
   ]
  },
  {
   "cell_type": "code",
   "execution_count": 51,
   "id": "c2722017",
   "metadata": {},
   "outputs": [
    {
     "data": {
      "text/plain": [
       "Index(['AnimalID', 'Name', 'DateTime', 'AnimalType', 'SexuponOutcome',\n",
       "       'AgeuponOutcome', 'Breed', 'Color', 'isMix', 'Breed1', 'Breed2',\n",
       "       'Breed3', 'Color1', 'Color2', 'hour', 'weekday', 'month',\n",
       "       'time_of_day'],\n",
       "      dtype='object')"
      ]
     },
     "execution_count": 51,
     "metadata": {},
     "output_type": "execute_result"
    }
   ],
   "source": [
    "df.columns"
   ]
  },
  {
   "cell_type": "code",
   "execution_count": 52,
   "id": "07e69229",
   "metadata": {},
   "outputs": [],
   "source": [
    "# 2 ways\n",
    "# df['has_name'] = np.where(df['Name'].isna(), 'yes', 'no')\n",
    "df['has_name'] = df['Name'].notna().map({True: 'yes', False: 'no'})"
   ]
  },
  {
   "cell_type": "code",
   "execution_count": 53,
   "id": "25c0708b",
   "metadata": {},
   "outputs": [
    {
     "data": {
      "application/vnd.microsoft.datawrangler.viewer.v0+json": {
       "columns": [
        {
         "name": "SexuponOutcome",
         "rawType": "object",
         "type": "string"
        },
        {
         "name": "count",
         "rawType": "int64",
         "type": "integer"
        }
       ],
       "ref": "dc7ae362-0ad1-4cf3-b526-31bdd71c3dc6",
       "rows": [
        [
         "Neutered Male",
         "14014"
        ],
        [
         "Spayed Female",
         "12633"
        ],
        [
         "Intact Female",
         "5004"
        ],
        [
         "Intact Male",
         "4985"
        ],
        [
         "Unknown",
         "1548"
        ]
       ],
       "shape": {
        "columns": 1,
        "rows": 5
       }
      },
      "text/plain": [
       "SexuponOutcome\n",
       "Neutered Male    14014\n",
       "Spayed Female    12633\n",
       "Intact Female     5004\n",
       "Intact Male       4985\n",
       "Unknown           1548\n",
       "Name: count, dtype: int64"
      ]
     },
     "execution_count": 53,
     "metadata": {},
     "output_type": "execute_result"
    }
   ],
   "source": [
    "df['SexuponOutcome'].value_counts()"
   ]
  },
  {
   "cell_type": "markdown",
   "id": "2ee42d03",
   "metadata": {},
   "source": [
    "* Separate Sex & Intact status"
   ]
  },
  {
   "cell_type": "code",
   "execution_count": 54,
   "id": "ab0fd6bc",
   "metadata": {},
   "outputs": [],
   "source": [
    "df[['status', 'sex']] = df['SexuponOutcome'].str.split(' ', expand=True)"
   ]
  },
  {
   "cell_type": "markdown",
   "id": "35425436",
   "metadata": {},
   "source": [
    "* Fill na values with the default 'Unknown' value"
   ]
  },
  {
   "cell_type": "code",
   "execution_count": 55,
   "id": "f34fabee",
   "metadata": {},
   "outputs": [],
   "source": [
    "df[['status', 'sex']] = df[['status', 'sex']].fillna('Unknown')\n"
   ]
  },
  {
   "cell_type": "markdown",
   "id": "d93b2eb5",
   "metadata": {},
   "source": [
    "* LifeStage Variable (>365 days threshold)"
   ]
  },
  {
   "cell_type": "code",
   "execution_count": 56,
   "id": "1651859f",
   "metadata": {},
   "outputs": [],
   "source": [
    "df['life_stage'] = np.where(df['AgeuponOutcome'] > 365, 'adult', 'baby')"
   ]
  },
  {
   "cell_type": "code",
   "execution_count": 57,
   "id": "98bad87b",
   "metadata": {},
   "outputs": [
    {
     "data": {
      "text/plain": [
       "Index(['AnimalID', 'Name', 'DateTime', 'AnimalType', 'SexuponOutcome',\n",
       "       'AgeuponOutcome', 'Breed', 'Color', 'isMix', 'Breed1', 'Breed2',\n",
       "       'Breed3', 'Color1', 'Color2', 'hour', 'weekday', 'month', 'time_of_day',\n",
       "       'has_name', 'status', 'sex', 'life_stage'],\n",
       "      dtype='object')"
      ]
     },
     "execution_count": 57,
     "metadata": {},
     "output_type": "execute_result"
    }
   ],
   "source": [
    "df.columns"
   ]
  },
  {
   "cell_type": "code",
   "execution_count": 58,
   "id": "7f1d26b1",
   "metadata": {},
   "outputs": [
    {
     "data": {
      "application/vnd.microsoft.datawrangler.viewer.v0+json": {
       "columns": [
        {
         "name": "index",
         "rawType": "int64",
         "type": "integer"
        },
        {
         "name": "life_stage",
         "rawType": "object",
         "type": "string"
        }
       ],
       "ref": "c0007225-61a9-4b58-8478-5caa332af46e",
       "rows": [
        [
         "0",
         "baby"
        ],
        [
         "1",
         "baby"
        ],
        [
         "2",
         "adult"
        ],
        [
         "3",
         "baby"
        ],
        [
         "4",
         "adult"
        ],
        [
         "5",
         "baby"
        ],
        [
         "6",
         "baby"
        ],
        [
         "7",
         "baby"
        ],
        [
         "8",
         "baby"
        ],
        [
         "9",
         "baby"
        ],
        [
         "10",
         "adult"
        ],
        [
         "11",
         "adult"
        ],
        [
         "12",
         "adult"
        ],
        [
         "13",
         "adult"
        ],
        [
         "14",
         "baby"
        ],
        [
         "15",
         "baby"
        ],
        [
         "16",
         "baby"
        ],
        [
         "17",
         "baby"
        ],
        [
         "18",
         "adult"
        ],
        [
         "19",
         "baby"
        ],
        [
         "20",
         "baby"
        ],
        [
         "21",
         "baby"
        ],
        [
         "22",
         "adult"
        ],
        [
         "23",
         "baby"
        ],
        [
         "24",
         "baby"
        ],
        [
         "25",
         "baby"
        ],
        [
         "26",
         "baby"
        ],
        [
         "27",
         "adult"
        ],
        [
         "28",
         "baby"
        ],
        [
         "29",
         "adult"
        ],
        [
         "30",
         "adult"
        ],
        [
         "31",
         "baby"
        ],
        [
         "32",
         "baby"
        ],
        [
         "33",
         "adult"
        ],
        [
         "34",
         "adult"
        ],
        [
         "35",
         "adult"
        ],
        [
         "36",
         "adult"
        ],
        [
         "37",
         "baby"
        ],
        [
         "38",
         "baby"
        ],
        [
         "39",
         "baby"
        ],
        [
         "40",
         "adult"
        ],
        [
         "41",
         "baby"
        ],
        [
         "42",
         "baby"
        ],
        [
         "43",
         "adult"
        ],
        [
         "44",
         "adult"
        ],
        [
         "45",
         "adult"
        ],
        [
         "46",
         "adult"
        ],
        [
         "47",
         "baby"
        ],
        [
         "48",
         "baby"
        ],
        [
         "49",
         "adult"
        ]
       ],
       "shape": {
        "columns": 1,
        "rows": 38185
       }
      },
      "text/plain": [
       "0         baby\n",
       "1         baby\n",
       "2        adult\n",
       "3         baby\n",
       "4        adult\n",
       "         ...  \n",
       "11451     baby\n",
       "11452     baby\n",
       "11453     baby\n",
       "11454    adult\n",
       "11455    adult\n",
       "Name: life_stage, Length: 38185, dtype: object"
      ]
     },
     "execution_count": 58,
     "metadata": {},
     "output_type": "execute_result"
    }
   ],
   "source": [
    "df['life_stage']"
   ]
  },
  {
   "cell_type": "code",
   "execution_count": 59,
   "id": "ecfc1f7d",
   "metadata": {},
   "outputs": [
    {
     "data": {
      "application/vnd.microsoft.datawrangler.viewer.v0+json": {
       "columns": [
        {
         "name": "index",
         "rawType": "int64",
         "type": "integer"
        },
        {
         "name": "life_stage",
         "rawType": "object",
         "type": "string"
        }
       ],
       "ref": "3f5a50e4-5ba2-4db4-8ff9-f7d0bbb2d14c",
       "rows": [
        [
         "0",
         "baby"
        ],
        [
         "1",
         "baby"
        ],
        [
         "2",
         "adult"
        ],
        [
         "3",
         "baby"
        ],
        [
         "4",
         "adult"
        ],
        [
         "5",
         "baby"
        ],
        [
         "6",
         "baby"
        ],
        [
         "7",
         "baby"
        ],
        [
         "8",
         "baby"
        ],
        [
         "9",
         "baby"
        ]
       ],
       "shape": {
        "columns": 1,
        "rows": 10
       }
      },
      "text/plain": [
       "0     baby\n",
       "1     baby\n",
       "2    adult\n",
       "3     baby\n",
       "4    adult\n",
       "5     baby\n",
       "6     baby\n",
       "7     baby\n",
       "8     baby\n",
       "9     baby\n",
       "Name: life_stage, dtype: object"
      ]
     },
     "execution_count": 59,
     "metadata": {},
     "output_type": "execute_result"
    }
   ],
   "source": [
    "df['life_stage'].head(10)"
   ]
  },
  {
   "cell_type": "code",
   "execution_count": 60,
   "id": "9601ee35",
   "metadata": {},
   "outputs": [
    {
     "name": "stdout",
     "output_type": "stream",
     "text": [
      "status\n",
      "Neutered    14014\n",
      "Spayed      12633\n",
      "Intact       9989\n",
      "Unknown      1549\n",
      "Name: count, dtype: int64\n",
      "sex\n",
      "Male       18999\n",
      "Female     17637\n",
      "Unknown     1549\n",
      "Name: count, dtype: int64\n"
     ]
    }
   ],
   "source": [
    "print(df['status'].value_counts())\n",
    "print(df['sex'].value_counts())"
   ]
  },
  {
   "cell_type": "code",
   "execution_count": 67,
   "id": "444fdf2d",
   "metadata": {},
   "outputs": [
    {
     "data": {
      "application/vnd.microsoft.datawrangler.viewer.v0+json": {
       "columns": [
        {
         "name": "index",
         "rawType": "object",
         "type": "string"
        },
        {
         "name": "0",
         "rawType": "int64",
         "type": "integer"
        }
       ],
       "ref": "e7a47fc4-5c83-4c4d-a318-363c78ae7668",
       "rows": [
        [
         "AnimalID",
         "0"
        ],
        [
         "Name",
         "10916"
        ],
        [
         "DateTime",
         "0"
        ],
        [
         "AnimalType",
         "0"
        ],
        [
         "SexuponOutcome",
         "1"
        ],
        [
         "AgeuponOutcome",
         "591"
        ],
        [
         "Breed",
         "0"
        ],
        [
         "Color",
         "0"
        ],
        [
         "isMix",
         "0"
        ],
        [
         "Breed1",
         "0"
        ],
        [
         "Breed2",
         "33828"
        ],
        [
         "Breed3",
         "38171"
        ],
        [
         "Color1",
         "0"
        ],
        [
         "Color2",
         "18323"
        ],
        [
         "hour",
         "0"
        ],
        [
         "weekday",
         "0"
        ],
        [
         "month",
         "0"
        ],
        [
         "time_of_day",
         "0"
        ],
        [
         "has_name",
         "0"
        ],
        [
         "status",
         "0"
        ],
        [
         "sex",
         "0"
        ],
        [
         "life_stage",
         "0"
        ]
       ],
       "shape": {
        "columns": 1,
        "rows": 22
       }
      },
      "text/plain": [
       "AnimalID              0\n",
       "Name              10916\n",
       "DateTime              0\n",
       "AnimalType            0\n",
       "SexuponOutcome        1\n",
       "AgeuponOutcome      591\n",
       "Breed                 0\n",
       "Color                 0\n",
       "isMix                 0\n",
       "Breed1                0\n",
       "Breed2            33828\n",
       "Breed3            38171\n",
       "Color1                0\n",
       "Color2            18323\n",
       "hour                  0\n",
       "weekday               0\n",
       "month                 0\n",
       "time_of_day           0\n",
       "has_name              0\n",
       "status                0\n",
       "sex                   0\n",
       "life_stage            0\n",
       "dtype: int64"
      ]
     },
     "execution_count": 67,
     "metadata": {},
     "output_type": "execute_result"
    }
   ],
   "source": [
    "df.isna().sum()"
   ]
  },
  {
   "cell_type": "code",
   "execution_count": 69,
   "id": "d69fa837",
   "metadata": {},
   "outputs": [
    {
     "data": {
      "application/vnd.microsoft.datawrangler.viewer.v0+json": {
       "columns": [
        {
         "name": "index",
         "rawType": "int64",
         "type": "integer"
        },
        {
         "name": "AnimalID",
         "rawType": "object",
         "type": "unknown"
        },
        {
         "name": "Name",
         "rawType": "object",
         "type": "unknown"
        },
        {
         "name": "DateTime",
         "rawType": "datetime64[ns]",
         "type": "datetime"
        },
        {
         "name": "AnimalType",
         "rawType": "object",
         "type": "string"
        },
        {
         "name": "SexuponOutcome",
         "rawType": "object",
         "type": "string"
        },
        {
         "name": "AgeuponOutcome",
         "rawType": "float64",
         "type": "float"
        },
        {
         "name": "Breed",
         "rawType": "object",
         "type": "string"
        },
        {
         "name": "Color",
         "rawType": "object",
         "type": "string"
        },
        {
         "name": "isMix",
         "rawType": "object",
         "type": "unknown"
        },
        {
         "name": "Breed1",
         "rawType": "object",
         "type": "string"
        },
        {
         "name": "Breed2",
         "rawType": "object",
         "type": "unknown"
        },
        {
         "name": "Breed3",
         "rawType": "object",
         "type": "unknown"
        },
        {
         "name": "Color1",
         "rawType": "object",
         "type": "string"
        },
        {
         "name": "Color2",
         "rawType": "object",
         "type": "unknown"
        },
        {
         "name": "hour",
         "rawType": "int32",
         "type": "integer"
        },
        {
         "name": "weekday",
         "rawType": "int32",
         "type": "integer"
        },
        {
         "name": "month",
         "rawType": "int32",
         "type": "integer"
        },
        {
         "name": "time_of_day",
         "rawType": "category",
         "type": "unknown"
        },
        {
         "name": "has_name",
         "rawType": "object",
         "type": "string"
        },
        {
         "name": "status",
         "rawType": "object",
         "type": "string"
        },
        {
         "name": "sex",
         "rawType": "object",
         "type": "string"
        },
        {
         "name": "life_stage",
         "rawType": "object",
         "type": "string"
        }
       ],
       "ref": "e7bb7f4e-3b00-44f7-b1cf-d23509315d79",
       "rows": [
        [
         "179",
         "A679441",
         null,
         "2014-05-21 13:47:00",
         "Cat",
         "Intact Male",
         null,
         "Domestic Shorthair",
         "Cream Tabby/White",
         "True",
         "Domestic Shorthair",
         null,
         null,
         "Cream Tabby",
         "White",
         "13",
         "2",
         "5",
         "midday",
         "no",
         "Intact",
         "Male",
         "baby"
        ],
        [
         "336",
         "A683070",
         null,
         "2014-07-06 18:33:00",
         "Cat",
         "Intact Male",
         null,
         "Domestic Shorthair",
         "White",
         "True",
         "Domestic Shorthair",
         null,
         null,
         "White",
         null,
         "18",
         "6",
         "7",
         "evening",
         "no",
         "Intact",
         "Male",
         "baby"
        ],
        [
         "370",
         "A698117",
         null,
         "2015-03-06 09:54:00",
         "Dog",
         "Unknown",
         null,
         "Labrador Retriever",
         "White",
         "True",
         "Labrador Retriever",
         null,
         null,
         "White",
         null,
         "9",
         "4",
         "3",
         "morning",
         "no",
         "Unknown",
         "Unknown",
         "baby"
        ],
        [
         "433",
         "A700119",
         null,
         "2015-04-08 15:41:00",
         "Cat",
         "Intact Female",
         null,
         "Domestic Shorthair",
         "Torbie",
         "True",
         "Domestic Shorthair",
         null,
         null,
         "Torbie",
         null,
         "15",
         "2",
         "4",
         "afternoon",
         "no",
         "Intact",
         "Female",
         "baby"
        ],
        [
         "473",
         "A706506",
         null,
         "2015-06-30 12:17:00",
         "Cat",
         "Unknown",
         null,
         "Domestic Shorthair",
         "Black",
         "True",
         "Domestic Shorthair",
         null,
         null,
         "Black",
         null,
         "12",
         "1",
         "6",
         "midday",
         "no",
         "Unknown",
         "Unknown",
         "baby"
        ],
        [
         "509",
         "A707972",
         null,
         "2015-07-21 12:58:00",
         "Cat",
         "Unknown",
         null,
         "Domestic Shorthair",
         "Brown Tabby",
         "True",
         "Domestic Shorthair",
         null,
         null,
         "Brown Tabby",
         null,
         "12",
         "1",
         "7",
         "midday",
         "no",
         "Unknown",
         "Unknown",
         "baby"
        ],
        [
         "738",
         "A704432",
         null,
         "2015-06-04 18:52:00",
         "Dog",
         "Unknown",
         null,
         "Chihuahua Shorthair/Pit Bull",
         "White",
         "False",
         "Chihuahua Shorthair",
         "Pit Bull",
         null,
         "White",
         null,
         "18",
         "3",
         "6",
         "evening",
         "no",
         "Unknown",
         "Unknown",
         "baby"
        ],
        [
         "870",
         "A681786",
         null,
         "2014-06-21 09:20:00",
         "Cat",
         "Unknown",
         null,
         "Domestic Shorthair",
         "Brown Tabby",
         "True",
         "Domestic Shorthair",
         null,
         null,
         "Brown Tabby",
         null,
         "9",
         "5",
         "6",
         "morning",
         "no",
         "Unknown",
         "Unknown",
         "baby"
        ],
        [
         "887",
         "A675309",
         null,
         "2014-03-26 13:23:00",
         "Cat",
         "Intact Female",
         null,
         "Domestic Shorthair",
         "Blue/White",
         "True",
         "Domestic Shorthair",
         null,
         null,
         "Blue",
         "White",
         "13",
         "2",
         "3",
         "midday",
         "no",
         "Intact",
         "Female",
         "baby"
        ],
        [
         "1081",
         "A680773",
         null,
         "2014-06-07 17:15:00",
         "Dog",
         "Unknown",
         null,
         "Dachshund",
         "Black",
         "True",
         "Dachshund",
         null,
         null,
         "Black",
         null,
         "17",
         "5",
         "6",
         "afternoon",
         "no",
         "Unknown",
         "Unknown",
         "baby"
        ],
        [
         "1140",
         "A676021",
         null,
         "2014-04-03 15:47:00",
         "Cat",
         "Intact Female",
         null,
         "Domestic Shorthair",
         "Black Tabby",
         "True",
         "Domestic Shorthair",
         null,
         null,
         "Black Tabby",
         null,
         "15",
         "3",
         "4",
         "afternoon",
         "no",
         "Intact",
         "Female",
         "baby"
        ],
        [
         "1152",
         "A719538",
         "Marisella",
         "2016-01-28 11:37:00",
         "Cat",
         "Intact Female",
         null,
         "Domestic Longhair",
         "Calico",
         "True",
         "Domestic Longhair",
         null,
         null,
         "Calico",
         null,
         "11",
         "3",
         "1",
         "morning",
         "yes",
         "Intact",
         "Female",
         "baby"
        ],
        [
         "1227",
         "A674671",
         null,
         "2014-03-17 13:35:00",
         "Dog",
         "Intact Male",
         null,
         "Pit Bull",
         "White/Black",
         "True",
         "Pit Bull",
         null,
         null,
         "White",
         "Black",
         "13",
         "0",
         "3",
         "midday",
         "no",
         "Intact",
         "Male",
         "baby"
        ],
        [
         "1272",
         "A684704",
         null,
         "2014-07-29 14:34:00",
         "Cat",
         "Intact Female",
         null,
         "Domestic Shorthair",
         "Brown Tabby",
         "True",
         "Domestic Shorthair",
         null,
         null,
         "Brown Tabby",
         null,
         "14",
         "1",
         "7",
         "afternoon",
         "no",
         "Intact",
         "Female",
         "baby"
        ],
        [
         "1286",
         "A678841",
         null,
         "2014-05-13 14:53:00",
         "Cat",
         "Intact Male",
         null,
         "Domestic Shorthair",
         "White",
         "True",
         "Domestic Shorthair",
         null,
         null,
         "White",
         null,
         "14",
         "1",
         "5",
         "afternoon",
         "no",
         "Intact",
         "Male",
         "baby"
        ],
        [
         "1326",
         "A680991",
         null,
         "2014-06-11 12:22:00",
         "Cat",
         "Intact Male",
         null,
         "Domestic Shorthair",
         "Orange Tabby",
         "True",
         "Domestic Shorthair",
         null,
         null,
         "Orange Tabby",
         null,
         "12",
         "2",
         "6",
         "midday",
         "no",
         "Intact",
         "Male",
         "baby"
        ],
        [
         "1365",
         "A700913",
         null,
         "2015-04-21 12:00:00",
         "Cat",
         "Intact Female",
         null,
         "Domestic Shorthair",
         "Brown Tabby",
         "True",
         "Domestic Shorthair",
         null,
         null,
         "Brown Tabby",
         null,
         "12",
         "1",
         "4",
         "midday",
         "no",
         "Intact",
         "Female",
         "baby"
        ],
        [
         "1366",
         "A703721",
         null,
         "2015-05-28 13:27:00",
         "Dog",
         "Unknown",
         null,
         "Anatol Shepherd",
         "Tricolor",
         "True",
         "Anatol Shepherd",
         null,
         null,
         "Tricolor",
         null,
         "13",
         "3",
         "5",
         "midday",
         "no",
         "Unknown",
         "Unknown",
         "baby"
        ],
        [
         "1456",
         "A675940",
         null,
         "2014-04-02 15:14:00",
         "Cat",
         "Intact Male",
         null,
         "Domestic Shorthair",
         "Brown Tabby/White",
         "True",
         "Domestic Shorthair",
         null,
         null,
         "Brown Tabby",
         "White",
         "15",
         "2",
         "4",
         "afternoon",
         "no",
         "Intact",
         "Male",
         "baby"
        ],
        [
         "1513",
         "A686366",
         null,
         "2014-08-20 18:42:00",
         "Cat",
         "Intact Male",
         null,
         "Domestic Shorthair",
         "Blue Tabby/White",
         "True",
         "Domestic Shorthair",
         null,
         null,
         "Blue Tabby",
         "White",
         "18",
         "2",
         "8",
         "evening",
         "no",
         "Intact",
         "Male",
         "baby"
        ],
        [
         "1686",
         "A707021",
         null,
         "2015-07-06 18:58:00",
         "Cat",
         "Unknown",
         null,
         "Domestic Shorthair",
         "Black/White",
         "True",
         "Domestic Shorthair",
         null,
         null,
         "Black",
         "White",
         "18",
         "0",
         "7",
         "evening",
         "no",
         "Unknown",
         "Unknown",
         "baby"
        ],
        [
         "1718",
         "A680770",
         null,
         "2014-06-07 17:16:00",
         "Dog",
         "Unknown",
         null,
         "Dachshund",
         "Tan",
         "True",
         "Dachshund",
         null,
         null,
         "Tan",
         null,
         "17",
         "5",
         "6",
         "afternoon",
         "no",
         "Unknown",
         "Unknown",
         "baby"
        ],
        [
         "1754",
         "A686907",
         null,
         "2014-08-28 18:34:00",
         "Cat",
         "Intact Male",
         null,
         "Domestic Shorthair",
         "Blue Tabby",
         "True",
         "Domestic Shorthair",
         null,
         null,
         "Blue Tabby",
         null,
         "18",
         "3",
         "8",
         "evening",
         "no",
         "Intact",
         "Male",
         "baby"
        ],
        [
         "1794",
         "A686526",
         null,
         "2014-08-23 13:00:00",
         "Cat",
         "Intact Male",
         null,
         "Domestic Shorthair",
         "Brown Tabby",
         "True",
         "Domestic Shorthair",
         null,
         null,
         "Brown Tabby",
         null,
         "13",
         "5",
         "8",
         "midday",
         "no",
         "Intact",
         "Male",
         "baby"
        ],
        [
         "1845",
         "A664285",
         null,
         "2013-10-02 11:03:00",
         "Cat",
         "Intact Male",
         null,
         "Domestic Shorthair",
         "Black",
         "True",
         "Domestic Shorthair",
         null,
         null,
         "Black",
         null,
         "11",
         "2",
         "10",
         "morning",
         "no",
         "Intact",
         "Male",
         "baby"
        ],
        [
         "1917",
         "A674941",
         null,
         "2014-03-20 16:22:00",
         "Cat",
         "Intact Female",
         null,
         "Domestic Shorthair",
         "Brown Tabby",
         "True",
         "Domestic Shorthair",
         null,
         null,
         "Brown Tabby",
         null,
         "16",
         "3",
         "3",
         "afternoon",
         "no",
         "Intact",
         "Female",
         "baby"
        ],
        [
         "2028",
         "A708011",
         "Rye",
         "2015-07-24 13:17:00",
         "Cat",
         "Intact Male",
         null,
         "Domestic Shorthair",
         "Brown Tabby",
         "True",
         "Domestic Shorthair",
         null,
         null,
         "Brown Tabby",
         null,
         "13",
         "4",
         "7",
         "midday",
         "yes",
         "Intact",
         "Male",
         "baby"
        ],
        [
         "2126",
         "A712592",
         null,
         "2015-09-25 16:00:00",
         "Cat",
         "Intact Male",
         null,
         "Domestic Shorthair",
         "Brown Tabby",
         "True",
         "Domestic Shorthair",
         null,
         null,
         "Brown Tabby",
         null,
         "16",
         "4",
         "9",
         "afternoon",
         "no",
         "Intact",
         "Male",
         "baby"
        ],
        [
         "2279",
         "A680439",
         null,
         "2014-06-02 20:06:00",
         "Cat",
         "Unknown",
         null,
         "Domestic Shorthair",
         "Cream",
         "True",
         "Domestic Shorthair",
         null,
         null,
         "Cream",
         null,
         "20",
         "0",
         "6",
         "evening",
         "no",
         "Unknown",
         "Unknown",
         "baby"
        ],
        [
         "2281",
         "A700299",
         null,
         "2015-04-11 17:39:00",
         "Cat",
         "Intact Female",
         null,
         "Domestic Shorthair",
         "Tortie",
         "True",
         "Domestic Shorthair",
         null,
         null,
         "Tortie",
         null,
         "17",
         "5",
         "4",
         "afternoon",
         "no",
         "Intact",
         "Female",
         "baby"
        ],
        [
         "2291",
         "A685961",
         null,
         "2014-08-19 08:22:00",
         "Cat",
         "Intact Male",
         null,
         "Domestic Shorthair",
         "Black",
         "True",
         "Domestic Shorthair",
         null,
         null,
         "Black",
         null,
         "8",
         "1",
         "8",
         "morning",
         "no",
         "Intact",
         "Male",
         "baby"
        ],
        [
         "2306",
         "A686879",
         null,
         "2014-08-28 14:06:00",
         "Cat",
         "Intact Female",
         null,
         "Domestic Shorthair",
         "Black/White",
         "True",
         "Domestic Shorthair",
         null,
         null,
         "Black",
         "White",
         "14",
         "3",
         "8",
         "afternoon",
         "no",
         "Intact",
         "Female",
         "baby"
        ],
        [
         "2329",
         "A716794",
         null,
         "2015-11-25 14:23:00",
         "Dog",
         "Unknown",
         null,
         "Labrador Retriever",
         "White",
         "True",
         "Labrador Retriever",
         null,
         null,
         "White",
         null,
         "14",
         "2",
         "11",
         "afternoon",
         "no",
         "Unknown",
         "Unknown",
         "baby"
        ],
        [
         "2374",
         "A678771",
         null,
         "2014-05-12 18:21:00",
         "Cat",
         "Unknown",
         null,
         "Domestic Shorthair",
         "Orange",
         "True",
         "Domestic Shorthair",
         null,
         null,
         "Orange",
         null,
         "18",
         "0",
         "5",
         "evening",
         "no",
         "Unknown",
         "Unknown",
         "baby"
        ],
        [
         "2381",
         "A680992",
         null,
         "2014-06-11 12:22:00",
         "Cat",
         "Intact Female",
         null,
         "Domestic Shorthair",
         "Black/Orange",
         "True",
         "Domestic Shorthair",
         null,
         null,
         "Black",
         "Orange",
         "12",
         "2",
         "6",
         "midday",
         "no",
         "Intact",
         "Female",
         "baby"
        ],
        [
         "2396",
         "A700909",
         null,
         "2015-04-21 12:00:00",
         "Cat",
         "Intact Male",
         null,
         "Domestic Shorthair",
         "Orange Tabby",
         "True",
         "Domestic Shorthair",
         null,
         null,
         "Orange Tabby",
         null,
         "12",
         "1",
         "4",
         "midday",
         "no",
         "Intact",
         "Male",
         "baby"
        ],
        [
         "2449",
         "A700045",
         null,
         "2015-04-09 14:17:00",
         "Cat",
         "Unknown",
         null,
         "Domestic Shorthair",
         "Black",
         "True",
         "Domestic Shorthair",
         null,
         null,
         "Black",
         null,
         "14",
         "3",
         "4",
         "afternoon",
         "no",
         "Unknown",
         "Unknown",
         "baby"
        ],
        [
         "2480",
         "A720674",
         null,
         "2016-02-16 10:17:00",
         "Cat",
         "Intact Male",
         null,
         "Domestic Shorthair",
         "Blue Tabby/White",
         "True",
         "Domestic Shorthair",
         null,
         null,
         "Blue Tabby",
         "White",
         "10",
         "1",
         "2",
         "morning",
         "no",
         "Intact",
         "Male",
         "baby"
        ],
        [
         "2485",
         "A699226",
         null,
         "2015-03-25 08:31:00",
         "Cat",
         "Unknown",
         null,
         "Domestic Shorthair",
         "Blue Tabby",
         "True",
         "Domestic Shorthair",
         null,
         null,
         "Blue Tabby",
         null,
         "8",
         "2",
         "3",
         "morning",
         "no",
         "Unknown",
         "Unknown",
         "baby"
        ],
        [
         "2538",
         "A686867",
         null,
         "2014-08-28 14:07:00",
         "Cat",
         "Intact Male",
         null,
         "Domestic Shorthair",
         "Orange Tabby",
         "True",
         "Domestic Shorthair",
         null,
         null,
         "Orange Tabby",
         null,
         "14",
         "3",
         "8",
         "afternoon",
         "no",
         "Intact",
         "Male",
         "baby"
        ],
        [
         "2551",
         "A710358",
         null,
         "2015-08-22 14:38:00",
         "Cat",
         "Unknown",
         null,
         "Domestic Shorthair",
         "Calico",
         "True",
         "Domestic Shorthair",
         null,
         null,
         "Calico",
         null,
         "14",
         "5",
         "8",
         "afternoon",
         "no",
         "Unknown",
         "Unknown",
         "baby"
        ],
        [
         "2576",
         "A710828",
         null,
         "2015-08-28 16:07:00",
         "Cat",
         "Intact Male",
         null,
         "Domestic Shorthair",
         "White/Black",
         "True",
         "Domestic Shorthair",
         null,
         null,
         "White",
         "Black",
         "16",
         "4",
         "8",
         "afternoon",
         "no",
         "Intact",
         "Male",
         "baby"
        ],
        [
         "2599",
         "A680510",
         null,
         "2014-06-03 17:35:00",
         "Cat",
         "Unknown",
         null,
         "Domestic Shorthair",
         "Black/White",
         "True",
         "Domestic Shorthair",
         null,
         null,
         "Black",
         "White",
         "17",
         "1",
         "6",
         "afternoon",
         "no",
         "Unknown",
         "Unknown",
         "baby"
        ],
        [
         "2609",
         "A700910",
         null,
         "2015-04-21 12:00:00",
         "Cat",
         "Intact Male",
         null,
         "Domestic Shorthair",
         "Orange Tabby",
         "True",
         "Domestic Shorthair",
         null,
         null,
         "Orange Tabby",
         null,
         "12",
         "1",
         "4",
         "midday",
         "no",
         "Intact",
         "Male",
         "baby"
        ],
        [
         "2844",
         "A690539",
         null,
         "2014-10-22 13:03:00",
         "Cat",
         "Intact Female",
         null,
         "Siamese",
         "Lilac Point",
         "True",
         "Siamese",
         null,
         null,
         "Lilac Point",
         null,
         "13",
         "2",
         "10",
         "midday",
         "no",
         "Intact",
         "Female",
         "baby"
        ],
        [
         "2912",
         "A720973",
         null,
         "2016-02-18 19:07:00",
         "Cat",
         "Unknown",
         null,
         "Domestic Shorthair",
         "Gray Tabby",
         "True",
         "Domestic Shorthair",
         null,
         null,
         "Gray Tabby",
         null,
         "19",
         "3",
         "2",
         "evening",
         "no",
         "Unknown",
         "Unknown",
         "baby"
        ],
        [
         "3176",
         "A689236",
         null,
         "2014-10-02 14:36:00",
         "Dog",
         "Unknown",
         null,
         "Labrador Retriever",
         "Black/White",
         "True",
         "Labrador Retriever",
         null,
         null,
         "Black",
         "White",
         "14",
         "3",
         "10",
         "afternoon",
         "no",
         "Unknown",
         "Unknown",
         "baby"
        ],
        [
         "3188",
         "A677621",
         null,
         "2014-04-27 12:15:00",
         "Cat",
         "Unknown",
         null,
         "Domestic Shorthair",
         "Black",
         "True",
         "Domestic Shorthair",
         null,
         null,
         "Black",
         null,
         "12",
         "6",
         "4",
         "midday",
         "no",
         "Unknown",
         "Unknown",
         "baby"
        ],
        [
         "3297",
         "A703963",
         null,
         "2015-05-30 18:42:00",
         "Cat",
         "Unknown",
         null,
         "Domestic Shorthair",
         "Brown Tabby",
         "True",
         "Domestic Shorthair",
         null,
         null,
         "Brown Tabby",
         null,
         "18",
         "5",
         "5",
         "evening",
         "no",
         "Unknown",
         "Unknown",
         "baby"
        ],
        [
         "3307",
         "A683912",
         null,
         "2014-07-18 16:02:00",
         "Cat",
         "Unknown",
         null,
         "Domestic Shorthair",
         "White",
         "True",
         "Domestic Shorthair",
         null,
         null,
         "White",
         null,
         "16",
         "4",
         "7",
         "afternoon",
         "no",
         "Unknown",
         "Unknown",
         "baby"
        ]
       ],
       "shape": {
        "columns": 22,
        "rows": 591
       }
      },
      "text/html": [
       "<div>\n",
       "<style scoped>\n",
       "    .dataframe tbody tr th:only-of-type {\n",
       "        vertical-align: middle;\n",
       "    }\n",
       "\n",
       "    .dataframe tbody tr th {\n",
       "        vertical-align: top;\n",
       "    }\n",
       "\n",
       "    .dataframe thead th {\n",
       "        text-align: right;\n",
       "    }\n",
       "</style>\n",
       "<table border=\"1\" class=\"dataframe\">\n",
       "  <thead>\n",
       "    <tr style=\"text-align: right;\">\n",
       "      <th></th>\n",
       "      <th>AnimalID</th>\n",
       "      <th>Name</th>\n",
       "      <th>DateTime</th>\n",
       "      <th>AnimalType</th>\n",
       "      <th>SexuponOutcome</th>\n",
       "      <th>AgeuponOutcome</th>\n",
       "      <th>Breed</th>\n",
       "      <th>Color</th>\n",
       "      <th>isMix</th>\n",
       "      <th>Breed1</th>\n",
       "      <th>...</th>\n",
       "      <th>Color1</th>\n",
       "      <th>Color2</th>\n",
       "      <th>hour</th>\n",
       "      <th>weekday</th>\n",
       "      <th>month</th>\n",
       "      <th>time_of_day</th>\n",
       "      <th>has_name</th>\n",
       "      <th>status</th>\n",
       "      <th>sex</th>\n",
       "      <th>life_stage</th>\n",
       "    </tr>\n",
       "  </thead>\n",
       "  <tbody>\n",
       "    <tr>\n",
       "      <th>179</th>\n",
       "      <td>A679441</td>\n",
       "      <td>NaN</td>\n",
       "      <td>2014-05-21 13:47:00</td>\n",
       "      <td>Cat</td>\n",
       "      <td>Intact Male</td>\n",
       "      <td>NaN</td>\n",
       "      <td>Domestic Shorthair</td>\n",
       "      <td>Cream Tabby/White</td>\n",
       "      <td>True</td>\n",
       "      <td>Domestic Shorthair</td>\n",
       "      <td>...</td>\n",
       "      <td>Cream Tabby</td>\n",
       "      <td>White</td>\n",
       "      <td>13</td>\n",
       "      <td>2</td>\n",
       "      <td>5</td>\n",
       "      <td>midday</td>\n",
       "      <td>no</td>\n",
       "      <td>Intact</td>\n",
       "      <td>Male</td>\n",
       "      <td>baby</td>\n",
       "    </tr>\n",
       "    <tr>\n",
       "      <th>336</th>\n",
       "      <td>A683070</td>\n",
       "      <td>NaN</td>\n",
       "      <td>2014-07-06 18:33:00</td>\n",
       "      <td>Cat</td>\n",
       "      <td>Intact Male</td>\n",
       "      <td>NaN</td>\n",
       "      <td>Domestic Shorthair</td>\n",
       "      <td>White</td>\n",
       "      <td>True</td>\n",
       "      <td>Domestic Shorthair</td>\n",
       "      <td>...</td>\n",
       "      <td>White</td>\n",
       "      <td>None</td>\n",
       "      <td>18</td>\n",
       "      <td>6</td>\n",
       "      <td>7</td>\n",
       "      <td>evening</td>\n",
       "      <td>no</td>\n",
       "      <td>Intact</td>\n",
       "      <td>Male</td>\n",
       "      <td>baby</td>\n",
       "    </tr>\n",
       "    <tr>\n",
       "      <th>370</th>\n",
       "      <td>A698117</td>\n",
       "      <td>NaN</td>\n",
       "      <td>2015-03-06 09:54:00</td>\n",
       "      <td>Dog</td>\n",
       "      <td>Unknown</td>\n",
       "      <td>NaN</td>\n",
       "      <td>Labrador Retriever</td>\n",
       "      <td>White</td>\n",
       "      <td>True</td>\n",
       "      <td>Labrador Retriever</td>\n",
       "      <td>...</td>\n",
       "      <td>White</td>\n",
       "      <td>None</td>\n",
       "      <td>9</td>\n",
       "      <td>4</td>\n",
       "      <td>3</td>\n",
       "      <td>morning</td>\n",
       "      <td>no</td>\n",
       "      <td>Unknown</td>\n",
       "      <td>Unknown</td>\n",
       "      <td>baby</td>\n",
       "    </tr>\n",
       "    <tr>\n",
       "      <th>433</th>\n",
       "      <td>A700119</td>\n",
       "      <td>NaN</td>\n",
       "      <td>2015-04-08 15:41:00</td>\n",
       "      <td>Cat</td>\n",
       "      <td>Intact Female</td>\n",
       "      <td>NaN</td>\n",
       "      <td>Domestic Shorthair</td>\n",
       "      <td>Torbie</td>\n",
       "      <td>True</td>\n",
       "      <td>Domestic Shorthair</td>\n",
       "      <td>...</td>\n",
       "      <td>Torbie</td>\n",
       "      <td>None</td>\n",
       "      <td>15</td>\n",
       "      <td>2</td>\n",
       "      <td>4</td>\n",
       "      <td>afternoon</td>\n",
       "      <td>no</td>\n",
       "      <td>Intact</td>\n",
       "      <td>Female</td>\n",
       "      <td>baby</td>\n",
       "    </tr>\n",
       "    <tr>\n",
       "      <th>473</th>\n",
       "      <td>A706506</td>\n",
       "      <td>NaN</td>\n",
       "      <td>2015-06-30 12:17:00</td>\n",
       "      <td>Cat</td>\n",
       "      <td>Unknown</td>\n",
       "      <td>NaN</td>\n",
       "      <td>Domestic Shorthair</td>\n",
       "      <td>Black</td>\n",
       "      <td>True</td>\n",
       "      <td>Domestic Shorthair</td>\n",
       "      <td>...</td>\n",
       "      <td>Black</td>\n",
       "      <td>None</td>\n",
       "      <td>12</td>\n",
       "      <td>1</td>\n",
       "      <td>6</td>\n",
       "      <td>midday</td>\n",
       "      <td>no</td>\n",
       "      <td>Unknown</td>\n",
       "      <td>Unknown</td>\n",
       "      <td>baby</td>\n",
       "    </tr>\n",
       "    <tr>\n",
       "      <th>...</th>\n",
       "      <td>...</td>\n",
       "      <td>...</td>\n",
       "      <td>...</td>\n",
       "      <td>...</td>\n",
       "      <td>...</td>\n",
       "      <td>...</td>\n",
       "      <td>...</td>\n",
       "      <td>...</td>\n",
       "      <td>...</td>\n",
       "      <td>...</td>\n",
       "      <td>...</td>\n",
       "      <td>...</td>\n",
       "      <td>...</td>\n",
       "      <td>...</td>\n",
       "      <td>...</td>\n",
       "      <td>...</td>\n",
       "      <td>...</td>\n",
       "      <td>...</td>\n",
       "      <td>...</td>\n",
       "      <td>...</td>\n",
       "      <td>...</td>\n",
       "    </tr>\n",
       "    <tr>\n",
       "      <th>11028</th>\n",
       "      <td>11029</td>\n",
       "      <td>Mcpherson</td>\n",
       "      <td>2016-01-28 10:07:00</td>\n",
       "      <td>Cat</td>\n",
       "      <td>Intact Male</td>\n",
       "      <td>NaN</td>\n",
       "      <td>Domestic Longhair</td>\n",
       "      <td>Brown Tabby</td>\n",
       "      <td>True</td>\n",
       "      <td>Domestic Longhair</td>\n",
       "      <td>...</td>\n",
       "      <td>Brown Tabby</td>\n",
       "      <td>None</td>\n",
       "      <td>10</td>\n",
       "      <td>3</td>\n",
       "      <td>1</td>\n",
       "      <td>morning</td>\n",
       "      <td>yes</td>\n",
       "      <td>Intact</td>\n",
       "      <td>Male</td>\n",
       "      <td>baby</td>\n",
       "    </tr>\n",
       "    <tr>\n",
       "      <th>11310</th>\n",
       "      <td>11311</td>\n",
       "      <td>NaN</td>\n",
       "      <td>2015-08-31 18:09:00</td>\n",
       "      <td>Cat</td>\n",
       "      <td>Unknown</td>\n",
       "      <td>NaN</td>\n",
       "      <td>Domestic Shorthair</td>\n",
       "      <td>Blue Tabby/White</td>\n",
       "      <td>True</td>\n",
       "      <td>Domestic Shorthair</td>\n",
       "      <td>...</td>\n",
       "      <td>Blue Tabby</td>\n",
       "      <td>White</td>\n",
       "      <td>18</td>\n",
       "      <td>0</td>\n",
       "      <td>8</td>\n",
       "      <td>evening</td>\n",
       "      <td>no</td>\n",
       "      <td>Unknown</td>\n",
       "      <td>Unknown</td>\n",
       "      <td>baby</td>\n",
       "    </tr>\n",
       "    <tr>\n",
       "      <th>11340</th>\n",
       "      <td>11341</td>\n",
       "      <td>NaN</td>\n",
       "      <td>2014-08-29 12:08:00</td>\n",
       "      <td>Cat</td>\n",
       "      <td>Unknown</td>\n",
       "      <td>NaN</td>\n",
       "      <td>Domestic Shorthair</td>\n",
       "      <td>Blue</td>\n",
       "      <td>True</td>\n",
       "      <td>Domestic Shorthair</td>\n",
       "      <td>...</td>\n",
       "      <td>Blue</td>\n",
       "      <td>None</td>\n",
       "      <td>12</td>\n",
       "      <td>4</td>\n",
       "      <td>8</td>\n",
       "      <td>midday</td>\n",
       "      <td>no</td>\n",
       "      <td>Unknown</td>\n",
       "      <td>Unknown</td>\n",
       "      <td>baby</td>\n",
       "    </tr>\n",
       "    <tr>\n",
       "      <th>11343</th>\n",
       "      <td>11344</td>\n",
       "      <td>NaN</td>\n",
       "      <td>2015-08-01 16:30:00</td>\n",
       "      <td>Cat</td>\n",
       "      <td>Unknown</td>\n",
       "      <td>NaN</td>\n",
       "      <td>Siamese</td>\n",
       "      <td>Lynx Point</td>\n",
       "      <td>True</td>\n",
       "      <td>Siamese</td>\n",
       "      <td>...</td>\n",
       "      <td>Lynx Point</td>\n",
       "      <td>None</td>\n",
       "      <td>16</td>\n",
       "      <td>5</td>\n",
       "      <td>8</td>\n",
       "      <td>afternoon</td>\n",
       "      <td>no</td>\n",
       "      <td>Unknown</td>\n",
       "      <td>Unknown</td>\n",
       "      <td>baby</td>\n",
       "    </tr>\n",
       "    <tr>\n",
       "      <th>11416</th>\n",
       "      <td>11417</td>\n",
       "      <td>NaN</td>\n",
       "      <td>2014-09-05 17:48:00</td>\n",
       "      <td>Cat</td>\n",
       "      <td>Intact Female</td>\n",
       "      <td>NaN</td>\n",
       "      <td>Domestic Shorthair</td>\n",
       "      <td>Black</td>\n",
       "      <td>True</td>\n",
       "      <td>Domestic Shorthair</td>\n",
       "      <td>...</td>\n",
       "      <td>Black</td>\n",
       "      <td>None</td>\n",
       "      <td>17</td>\n",
       "      <td>4</td>\n",
       "      <td>9</td>\n",
       "      <td>afternoon</td>\n",
       "      <td>no</td>\n",
       "      <td>Intact</td>\n",
       "      <td>Female</td>\n",
       "      <td>baby</td>\n",
       "    </tr>\n",
       "  </tbody>\n",
       "</table>\n",
       "<p>591 rows × 22 columns</p>\n",
       "</div>"
      ],
      "text/plain": [
       "      AnimalID       Name            DateTime AnimalType SexuponOutcome  \\\n",
       "179    A679441        NaN 2014-05-21 13:47:00        Cat    Intact Male   \n",
       "336    A683070        NaN 2014-07-06 18:33:00        Cat    Intact Male   \n",
       "370    A698117        NaN 2015-03-06 09:54:00        Dog        Unknown   \n",
       "433    A700119        NaN 2015-04-08 15:41:00        Cat  Intact Female   \n",
       "473    A706506        NaN 2015-06-30 12:17:00        Cat        Unknown   \n",
       "...        ...        ...                 ...        ...            ...   \n",
       "11028    11029  Mcpherson 2016-01-28 10:07:00        Cat    Intact Male   \n",
       "11310    11311        NaN 2015-08-31 18:09:00        Cat        Unknown   \n",
       "11340    11341        NaN 2014-08-29 12:08:00        Cat        Unknown   \n",
       "11343    11344        NaN 2015-08-01 16:30:00        Cat        Unknown   \n",
       "11416    11417        NaN 2014-09-05 17:48:00        Cat  Intact Female   \n",
       "\n",
       "       AgeuponOutcome               Breed              Color isMix  \\\n",
       "179               NaN  Domestic Shorthair  Cream Tabby/White  True   \n",
       "336               NaN  Domestic Shorthair              White  True   \n",
       "370               NaN  Labrador Retriever              White  True   \n",
       "433               NaN  Domestic Shorthair             Torbie  True   \n",
       "473               NaN  Domestic Shorthair              Black  True   \n",
       "...               ...                 ...                ...   ...   \n",
       "11028             NaN   Domestic Longhair        Brown Tabby  True   \n",
       "11310             NaN  Domestic Shorthair   Blue Tabby/White  True   \n",
       "11340             NaN  Domestic Shorthair               Blue  True   \n",
       "11343             NaN             Siamese         Lynx Point  True   \n",
       "11416             NaN  Domestic Shorthair              Black  True   \n",
       "\n",
       "                   Breed1  ...       Color1 Color2 hour weekday  month  \\\n",
       "179    Domestic Shorthair  ...  Cream Tabby  White   13       2      5   \n",
       "336    Domestic Shorthair  ...        White   None   18       6      7   \n",
       "370    Labrador Retriever  ...        White   None    9       4      3   \n",
       "433    Domestic Shorthair  ...       Torbie   None   15       2      4   \n",
       "473    Domestic Shorthair  ...        Black   None   12       1      6   \n",
       "...                   ...  ...          ...    ...  ...     ...    ...   \n",
       "11028   Domestic Longhair  ...  Brown Tabby   None   10       3      1   \n",
       "11310  Domestic Shorthair  ...   Blue Tabby  White   18       0      8   \n",
       "11340  Domestic Shorthair  ...         Blue   None   12       4      8   \n",
       "11343             Siamese  ...   Lynx Point   None   16       5      8   \n",
       "11416  Domestic Shorthair  ...        Black   None   17       4      9   \n",
       "\n",
       "       time_of_day  has_name   status      sex life_stage  \n",
       "179         midday        no   Intact     Male       baby  \n",
       "336        evening        no   Intact     Male       baby  \n",
       "370        morning        no  Unknown  Unknown       baby  \n",
       "433      afternoon        no   Intact   Female       baby  \n",
       "473         midday        no  Unknown  Unknown       baby  \n",
       "...            ...       ...      ...      ...        ...  \n",
       "11028      morning       yes   Intact     Male       baby  \n",
       "11310      evening        no  Unknown  Unknown       baby  \n",
       "11340       midday        no  Unknown  Unknown       baby  \n",
       "11343    afternoon        no  Unknown  Unknown       baby  \n",
       "11416    afternoon        no   Intact   Female       baby  \n",
       "\n",
       "[591 rows x 22 columns]"
      ]
     },
     "execution_count": 69,
     "metadata": {},
     "output_type": "execute_result"
    }
   ],
   "source": [
    "df.loc[df['AgeuponOutcome'].isna()]"
   ]
  },
  {
   "cell_type": "code",
   "execution_count": 70,
   "id": "f86e8bbc",
   "metadata": {},
   "outputs": [],
   "source": [
    "df_copy = df.copy()"
   ]
  },
  {
   "cell_type": "code",
   "execution_count": 71,
   "id": "4f649255",
   "metadata": {},
   "outputs": [
    {
     "data": {
      "text/plain": [
       "Index(['AnimalID', 'Name', 'DateTime', 'AnimalType', 'SexuponOutcome',\n",
       "       'AgeuponOutcome', 'Breed', 'Color', 'isMix', 'Breed1', 'Breed2',\n",
       "       'Breed3', 'Color1', 'Color2', 'hour', 'weekday', 'month', 'time_of_day',\n",
       "       'has_name', 'status', 'sex', 'life_stage'],\n",
       "      dtype='object')"
      ]
     },
     "execution_count": 71,
     "metadata": {},
     "output_type": "execute_result"
    }
   ],
   "source": [
    "df.columns"
   ]
  },
  {
   "cell_type": "code",
   "execution_count": 73,
   "id": "7c2ac118",
   "metadata": {},
   "outputs": [],
   "source": [
    "df = df.drop(['Name', 'DateTime', 'AnimalID', 'Breed', 'Breed2', 'Breed3', 'Color', 'Color2', 'SexuponOutcome'], axis=1)"
   ]
  },
  {
   "cell_type": "code",
   "execution_count": 74,
   "id": "0c2bac75",
   "metadata": {},
   "outputs": [
    {
     "data": {
      "application/vnd.microsoft.datawrangler.viewer.v0+json": {
       "columns": [
        {
         "name": "index",
         "rawType": "object",
         "type": "string"
        },
        {
         "name": "0",
         "rawType": "int64",
         "type": "integer"
        }
       ],
       "ref": "2de910e2-7ec3-47d1-99b5-9e5b656d8ef2",
       "rows": [
        [
         "AnimalType",
         "0"
        ],
        [
         "AgeuponOutcome",
         "591"
        ],
        [
         "isMix",
         "0"
        ],
        [
         "Breed1",
         "0"
        ],
        [
         "Color1",
         "0"
        ],
        [
         "hour",
         "0"
        ],
        [
         "weekday",
         "0"
        ],
        [
         "month",
         "0"
        ],
        [
         "time_of_day",
         "0"
        ],
        [
         "has_name",
         "0"
        ],
        [
         "status",
         "0"
        ],
        [
         "sex",
         "0"
        ],
        [
         "life_stage",
         "0"
        ]
       ],
       "shape": {
        "columns": 1,
        "rows": 13
       }
      },
      "text/plain": [
       "AnimalType          0\n",
       "AgeuponOutcome    591\n",
       "isMix               0\n",
       "Breed1              0\n",
       "Color1              0\n",
       "hour                0\n",
       "weekday             0\n",
       "month               0\n",
       "time_of_day         0\n",
       "has_name            0\n",
       "status              0\n",
       "sex                 0\n",
       "life_stage          0\n",
       "dtype: int64"
      ]
     },
     "execution_count": 74,
     "metadata": {},
     "output_type": "execute_result"
    }
   ],
   "source": [
    "df.isna().sum()"
   ]
  },
  {
   "cell_type": "markdown",
   "id": "f1f099a4",
   "metadata": {},
   "source": [
    "- Delete missing values"
   ]
  },
  {
   "cell_type": "code",
   "execution_count": 79,
   "id": "008c2a43",
   "metadata": {},
   "outputs": [],
   "source": [
    "df = df.dropna(subset=['AgeuponOutcome'])"
   ]
  },
  {
   "cell_type": "code",
   "execution_count": 80,
   "id": "927cf572",
   "metadata": {},
   "outputs": [
    {
     "data": {
      "text/plain": [
       "(37594, 13)"
      ]
     },
     "execution_count": 80,
     "metadata": {},
     "output_type": "execute_result"
    }
   ],
   "source": [
    "df.shape"
   ]
  },
  {
   "cell_type": "markdown",
   "id": "4a089ed8",
   "metadata": {},
   "source": [
    "### Using Label Encoding for long categories (we'll use random forest to handle them better)"
   ]
  },
  {
   "cell_type": "code",
   "execution_count": 81,
   "id": "2153d80d",
   "metadata": {},
   "outputs": [
    {
     "data": {
      "text/plain": [
       "Index(['AnimalType', 'AgeuponOutcome', 'isMix', 'Breed1', 'Color1', 'hour',\n",
       "       'weekday', 'month', 'time_of_day', 'has_name', 'status', 'sex',\n",
       "       'life_stage'],\n",
       "      dtype='object')"
      ]
     },
     "execution_count": 81,
     "metadata": {},
     "output_type": "execute_result"
    }
   ],
   "source": [
    "df.columns"
   ]
  },
  {
   "cell_type": "code",
   "execution_count": 84,
   "id": "f0a0bf54",
   "metadata": {},
   "outputs": [
    {
     "data": {
      "application/vnd.microsoft.datawrangler.viewer.v0+json": {
       "columns": [
        {
         "name": "index",
         "rawType": "int64",
         "type": "integer"
        },
        {
         "name": "AnimalType",
         "rawType": "object",
         "type": "string"
        },
        {
         "name": "AgeuponOutcome",
         "rawType": "float64",
         "type": "float"
        },
        {
         "name": "isMix",
         "rawType": "object",
         "type": "unknown"
        },
        {
         "name": "Breed1",
         "rawType": "object",
         "type": "string"
        },
        {
         "name": "Color1",
         "rawType": "object",
         "type": "string"
        },
        {
         "name": "hour",
         "rawType": "int32",
         "type": "integer"
        },
        {
         "name": "weekday",
         "rawType": "int32",
         "type": "integer"
        },
        {
         "name": "month",
         "rawType": "int32",
         "type": "integer"
        },
        {
         "name": "time_of_day",
         "rawType": "category",
         "type": "unknown"
        },
        {
         "name": "has_name",
         "rawType": "object",
         "type": "string"
        },
        {
         "name": "status",
         "rawType": "object",
         "type": "string"
        },
        {
         "name": "sex",
         "rawType": "object",
         "type": "string"
        },
        {
         "name": "life_stage",
         "rawType": "object",
         "type": "string"
        }
       ],
       "ref": "654dfb47-7837-43bd-ae7a-b0b87b1b67f6",
       "rows": [
        [
         "0",
         "Dog",
         "365.0",
         "True",
         "Shetland Sheepdog",
         "Brown",
         "18",
         "2",
         "2",
         "evening",
         "yes",
         "Neutered",
         "Male",
         "baby"
        ],
        [
         "1",
         "Cat",
         "365.0",
         "True",
         "Domestic Shorthair",
         "Cream Tabby",
         "12",
         "6",
         "10",
         "midday",
         "yes",
         "Spayed",
         "Female",
         "baby"
        ],
        [
         "2",
         "Dog",
         "730.0",
         "True",
         "Pit Bull",
         "Blue",
         "12",
         "5",
         "1",
         "midday",
         "yes",
         "Neutered",
         "Male",
         "adult"
        ],
        [
         "3",
         "Cat",
         "21.0",
         "True",
         "Domestic Shorthair",
         "Blue Cream",
         "19",
         "4",
         "7",
         "evening",
         "no",
         "Intact",
         "Male",
         "baby"
        ],
        [
         "4",
         "Dog",
         "730.0",
         "False",
         "Lhasa Apso",
         "Tan",
         "12",
         "4",
         "11",
         "midday",
         "no",
         "Neutered",
         "Male",
         "adult"
        ]
       ],
       "shape": {
        "columns": 13,
        "rows": 5
       }
      },
      "text/html": [
       "<div>\n",
       "<style scoped>\n",
       "    .dataframe tbody tr th:only-of-type {\n",
       "        vertical-align: middle;\n",
       "    }\n",
       "\n",
       "    .dataframe tbody tr th {\n",
       "        vertical-align: top;\n",
       "    }\n",
       "\n",
       "    .dataframe thead th {\n",
       "        text-align: right;\n",
       "    }\n",
       "</style>\n",
       "<table border=\"1\" class=\"dataframe\">\n",
       "  <thead>\n",
       "    <tr style=\"text-align: right;\">\n",
       "      <th></th>\n",
       "      <th>AnimalType</th>\n",
       "      <th>AgeuponOutcome</th>\n",
       "      <th>isMix</th>\n",
       "      <th>Breed1</th>\n",
       "      <th>Color1</th>\n",
       "      <th>hour</th>\n",
       "      <th>weekday</th>\n",
       "      <th>month</th>\n",
       "      <th>time_of_day</th>\n",
       "      <th>has_name</th>\n",
       "      <th>status</th>\n",
       "      <th>sex</th>\n",
       "      <th>life_stage</th>\n",
       "    </tr>\n",
       "  </thead>\n",
       "  <tbody>\n",
       "    <tr>\n",
       "      <th>0</th>\n",
       "      <td>Dog</td>\n",
       "      <td>365.0</td>\n",
       "      <td>True</td>\n",
       "      <td>Shetland Sheepdog</td>\n",
       "      <td>Brown</td>\n",
       "      <td>18</td>\n",
       "      <td>2</td>\n",
       "      <td>2</td>\n",
       "      <td>evening</td>\n",
       "      <td>yes</td>\n",
       "      <td>Neutered</td>\n",
       "      <td>Male</td>\n",
       "      <td>baby</td>\n",
       "    </tr>\n",
       "    <tr>\n",
       "      <th>1</th>\n",
       "      <td>Cat</td>\n",
       "      <td>365.0</td>\n",
       "      <td>True</td>\n",
       "      <td>Domestic Shorthair</td>\n",
       "      <td>Cream Tabby</td>\n",
       "      <td>12</td>\n",
       "      <td>6</td>\n",
       "      <td>10</td>\n",
       "      <td>midday</td>\n",
       "      <td>yes</td>\n",
       "      <td>Spayed</td>\n",
       "      <td>Female</td>\n",
       "      <td>baby</td>\n",
       "    </tr>\n",
       "    <tr>\n",
       "      <th>2</th>\n",
       "      <td>Dog</td>\n",
       "      <td>730.0</td>\n",
       "      <td>True</td>\n",
       "      <td>Pit Bull</td>\n",
       "      <td>Blue</td>\n",
       "      <td>12</td>\n",
       "      <td>5</td>\n",
       "      <td>1</td>\n",
       "      <td>midday</td>\n",
       "      <td>yes</td>\n",
       "      <td>Neutered</td>\n",
       "      <td>Male</td>\n",
       "      <td>adult</td>\n",
       "    </tr>\n",
       "    <tr>\n",
       "      <th>3</th>\n",
       "      <td>Cat</td>\n",
       "      <td>21.0</td>\n",
       "      <td>True</td>\n",
       "      <td>Domestic Shorthair</td>\n",
       "      <td>Blue Cream</td>\n",
       "      <td>19</td>\n",
       "      <td>4</td>\n",
       "      <td>7</td>\n",
       "      <td>evening</td>\n",
       "      <td>no</td>\n",
       "      <td>Intact</td>\n",
       "      <td>Male</td>\n",
       "      <td>baby</td>\n",
       "    </tr>\n",
       "    <tr>\n",
       "      <th>4</th>\n",
       "      <td>Dog</td>\n",
       "      <td>730.0</td>\n",
       "      <td>False</td>\n",
       "      <td>Lhasa Apso</td>\n",
       "      <td>Tan</td>\n",
       "      <td>12</td>\n",
       "      <td>4</td>\n",
       "      <td>11</td>\n",
       "      <td>midday</td>\n",
       "      <td>no</td>\n",
       "      <td>Neutered</td>\n",
       "      <td>Male</td>\n",
       "      <td>adult</td>\n",
       "    </tr>\n",
       "  </tbody>\n",
       "</table>\n",
       "</div>"
      ],
      "text/plain": [
       "  AnimalType  AgeuponOutcome  isMix              Breed1       Color1  hour  \\\n",
       "0        Dog           365.0   True   Shetland Sheepdog        Brown    18   \n",
       "1        Cat           365.0   True  Domestic Shorthair  Cream Tabby    12   \n",
       "2        Dog           730.0   True            Pit Bull         Blue    12   \n",
       "3        Cat            21.0   True  Domestic Shorthair   Blue Cream    19   \n",
       "4        Dog           730.0  False          Lhasa Apso          Tan    12   \n",
       "\n",
       "   weekday  month time_of_day has_name    status     sex life_stage  \n",
       "0        2      2     evening      yes  Neutered    Male       baby  \n",
       "1        6     10      midday      yes    Spayed  Female       baby  \n",
       "2        5      1      midday      yes  Neutered    Male      adult  \n",
       "3        4      7     evening       no    Intact    Male       baby  \n",
       "4        4     11      midday       no  Neutered    Male      adult  "
      ]
     },
     "execution_count": 84,
     "metadata": {},
     "output_type": "execute_result"
    }
   ],
   "source": [
    "df.head()"
   ]
  },
  {
   "cell_type": "code",
   "execution_count": null,
   "id": "2410651f",
   "metadata": {},
   "outputs": [],
   "source": [
    "from sklearn.preprocessing import LabelEncoder\n",
    "\n",
    "cols = ['AnimalType', 'isMix', 'Breed1', 'Color1', 'time_of_day', 'has_name', 'status', 'sex', 'life_stage']\n",
    "\n",
    "for col in cols:\n",
    "    le = LabelEncoder()\n",
    "    df[col] = le.fit_transform(df[col])"
   ]
  },
  {
   "cell_type": "code",
   "execution_count": null,
   "id": "01dd032c",
   "metadata": {},
   "outputs": [],
   "source": [
    "# convert from float to int\n",
    "df['AgeuponOutcome'] = pd.to_numeric(df['AgeuponOutcome'], errors='coerce').astype('int')"
   ]
  },
  {
   "cell_type": "code",
   "execution_count": 104,
   "id": "a8cfc73e",
   "metadata": {},
   "outputs": [
    {
     "data": {
      "application/vnd.microsoft.datawrangler.viewer.v0+json": {
       "columns": [
        {
         "name": "index",
         "rawType": "object",
         "type": "string"
        },
        {
         "name": "0",
         "rawType": "object",
         "type": "unknown"
        }
       ],
       "ref": "4f50065d-6ecd-4b66-9a5f-5721456600c2",
       "rows": [
        [
         "AnimalType",
         "int64"
        ],
        [
         "AgeuponOutcome",
         "int64"
        ],
        [
         "isMix",
         "int64"
        ],
        [
         "Breed1",
         "int64"
        ],
        [
         "Color1",
         "int64"
        ],
        [
         "hour",
         "int32"
        ],
        [
         "weekday",
         "int32"
        ],
        [
         "month",
         "int32"
        ],
        [
         "time_of_day",
         "int64"
        ],
        [
         "has_name",
         "int64"
        ],
        [
         "status",
         "int64"
        ],
        [
         "sex",
         "int64"
        ],
        [
         "life_stage",
         "int64"
        ]
       ],
       "shape": {
        "columns": 1,
        "rows": 13
       }
      },
      "text/plain": [
       "AnimalType        int64\n",
       "AgeuponOutcome    int64\n",
       "isMix             int64\n",
       "Breed1            int64\n",
       "Color1            int64\n",
       "hour              int32\n",
       "weekday           int32\n",
       "month             int32\n",
       "time_of_day       int64\n",
       "has_name          int64\n",
       "status            int64\n",
       "sex               int64\n",
       "life_stage        int64\n",
       "dtype: object"
      ]
     },
     "execution_count": 104,
     "metadata": {},
     "output_type": "execute_result"
    }
   ],
   "source": [
    "df.dtypes"
   ]
  },
  {
   "cell_type": "code",
   "execution_count": 108,
   "id": "e77fc659",
   "metadata": {},
   "outputs": [
    {
     "data": {
      "text/plain": [
       "(37594, 13)"
      ]
     },
     "execution_count": 108,
     "metadata": {},
     "output_type": "execute_result"
    }
   ],
   "source": [
    "# validate current values\n",
    "df.shape"
   ]
  },
  {
   "cell_type": "code",
   "execution_count": 107,
   "id": "803febd6",
   "metadata": {},
   "outputs": [
    {
     "data": {
      "application/vnd.microsoft.datawrangler.viewer.v0+json": {
       "columns": [
        {
         "name": "index",
         "rawType": "int64",
         "type": "integer"
        },
        {
         "name": "AnimalType",
         "rawType": "int64",
         "type": "integer"
        },
        {
         "name": "AgeuponOutcome",
         "rawType": "int64",
         "type": "integer"
        },
        {
         "name": "isMix",
         "rawType": "int64",
         "type": "integer"
        },
        {
         "name": "Breed1",
         "rawType": "int64",
         "type": "integer"
        },
        {
         "name": "Color1",
         "rawType": "int64",
         "type": "integer"
        },
        {
         "name": "hour",
         "rawType": "int32",
         "type": "integer"
        },
        {
         "name": "weekday",
         "rawType": "int32",
         "type": "integer"
        },
        {
         "name": "month",
         "rawType": "int32",
         "type": "integer"
        },
        {
         "name": "time_of_day",
         "rawType": "int64",
         "type": "integer"
        },
        {
         "name": "has_name",
         "rawType": "int64",
         "type": "integer"
        },
        {
         "name": "status",
         "rawType": "int64",
         "type": "integer"
        },
        {
         "name": "sex",
         "rawType": "int64",
         "type": "integer"
        },
        {
         "name": "life_stage",
         "rawType": "int64",
         "type": "integer"
        }
       ],
       "ref": "bbd2ef1b-aa46-4161-a943-805db959dd82",
       "rows": [
        [
         "0",
         "1",
         "365",
         "1",
         "191",
         "15",
         "18",
         "2",
         "2",
         "1",
         "1",
         "1",
         "1",
         "1"
        ],
        [
         "1",
         "0",
         "365",
         "1",
         "85",
         "26",
         "12",
         "6",
         "10",
         "3",
         "1",
         "2",
         "0",
         "1"
        ],
        [
         "2",
         "1",
         "730",
         "1",
         "168",
         "7",
         "12",
         "5",
         "1",
         "3",
         "1",
         "1",
         "1",
         "0"
        ],
        [
         "3",
         "0",
         "21",
         "1",
         "85",
         "8",
         "19",
         "4",
         "7",
         "1",
         "0",
         "0",
         "1",
         "1"
        ],
        [
         "4",
         "1",
         "730",
         "0",
         "134",
         "49",
         "12",
         "4",
         "11",
         "3",
         "0",
         "1",
         "1",
         "0"
        ]
       ],
       "shape": {
        "columns": 13,
        "rows": 5
       }
      },
      "text/html": [
       "<div>\n",
       "<style scoped>\n",
       "    .dataframe tbody tr th:only-of-type {\n",
       "        vertical-align: middle;\n",
       "    }\n",
       "\n",
       "    .dataframe tbody tr th {\n",
       "        vertical-align: top;\n",
       "    }\n",
       "\n",
       "    .dataframe thead th {\n",
       "        text-align: right;\n",
       "    }\n",
       "</style>\n",
       "<table border=\"1\" class=\"dataframe\">\n",
       "  <thead>\n",
       "    <tr style=\"text-align: right;\">\n",
       "      <th></th>\n",
       "      <th>AnimalType</th>\n",
       "      <th>AgeuponOutcome</th>\n",
       "      <th>isMix</th>\n",
       "      <th>Breed1</th>\n",
       "      <th>Color1</th>\n",
       "      <th>hour</th>\n",
       "      <th>weekday</th>\n",
       "      <th>month</th>\n",
       "      <th>time_of_day</th>\n",
       "      <th>has_name</th>\n",
       "      <th>status</th>\n",
       "      <th>sex</th>\n",
       "      <th>life_stage</th>\n",
       "    </tr>\n",
       "  </thead>\n",
       "  <tbody>\n",
       "    <tr>\n",
       "      <th>0</th>\n",
       "      <td>1</td>\n",
       "      <td>365</td>\n",
       "      <td>1</td>\n",
       "      <td>191</td>\n",
       "      <td>15</td>\n",
       "      <td>18</td>\n",
       "      <td>2</td>\n",
       "      <td>2</td>\n",
       "      <td>1</td>\n",
       "      <td>1</td>\n",
       "      <td>1</td>\n",
       "      <td>1</td>\n",
       "      <td>1</td>\n",
       "    </tr>\n",
       "    <tr>\n",
       "      <th>1</th>\n",
       "      <td>0</td>\n",
       "      <td>365</td>\n",
       "      <td>1</td>\n",
       "      <td>85</td>\n",
       "      <td>26</td>\n",
       "      <td>12</td>\n",
       "      <td>6</td>\n",
       "      <td>10</td>\n",
       "      <td>3</td>\n",
       "      <td>1</td>\n",
       "      <td>2</td>\n",
       "      <td>0</td>\n",
       "      <td>1</td>\n",
       "    </tr>\n",
       "    <tr>\n",
       "      <th>2</th>\n",
       "      <td>1</td>\n",
       "      <td>730</td>\n",
       "      <td>1</td>\n",
       "      <td>168</td>\n",
       "      <td>7</td>\n",
       "      <td>12</td>\n",
       "      <td>5</td>\n",
       "      <td>1</td>\n",
       "      <td>3</td>\n",
       "      <td>1</td>\n",
       "      <td>1</td>\n",
       "      <td>1</td>\n",
       "      <td>0</td>\n",
       "    </tr>\n",
       "    <tr>\n",
       "      <th>3</th>\n",
       "      <td>0</td>\n",
       "      <td>21</td>\n",
       "      <td>1</td>\n",
       "      <td>85</td>\n",
       "      <td>8</td>\n",
       "      <td>19</td>\n",
       "      <td>4</td>\n",
       "      <td>7</td>\n",
       "      <td>1</td>\n",
       "      <td>0</td>\n",
       "      <td>0</td>\n",
       "      <td>1</td>\n",
       "      <td>1</td>\n",
       "    </tr>\n",
       "    <tr>\n",
       "      <th>4</th>\n",
       "      <td>1</td>\n",
       "      <td>730</td>\n",
       "      <td>0</td>\n",
       "      <td>134</td>\n",
       "      <td>49</td>\n",
       "      <td>12</td>\n",
       "      <td>4</td>\n",
       "      <td>11</td>\n",
       "      <td>3</td>\n",
       "      <td>0</td>\n",
       "      <td>1</td>\n",
       "      <td>1</td>\n",
       "      <td>0</td>\n",
       "    </tr>\n",
       "  </tbody>\n",
       "</table>\n",
       "</div>"
      ],
      "text/plain": [
       "   AnimalType  AgeuponOutcome  isMix  Breed1  Color1  hour  weekday  month  \\\n",
       "0           1             365      1     191      15    18        2      2   \n",
       "1           0             365      1      85      26    12        6     10   \n",
       "2           1             730      1     168       7    12        5      1   \n",
       "3           0              21      1      85       8    19        4      7   \n",
       "4           1             730      0     134      49    12        4     11   \n",
       "\n",
       "   time_of_day  has_name  status  sex  life_stage  \n",
       "0            1         1       1    1           1  \n",
       "1            3         1       2    0           1  \n",
       "2            3         1       1    1           0  \n",
       "3            1         0       0    1           1  \n",
       "4            3         0       1    1           0  "
      ]
     },
     "execution_count": 107,
     "metadata": {},
     "output_type": "execute_result"
    }
   ],
   "source": [
    "df.head()"
   ]
  },
  {
   "cell_type": "code",
   "execution_count": 109,
   "id": "0ab77f39",
   "metadata": {},
   "outputs": [
    {
     "data": {
      "application/vnd.microsoft.datawrangler.viewer.v0+json": {
       "columns": [
        {
         "name": "index",
         "rawType": "int64",
         "type": "integer"
        },
        {
         "name": "AnimalID",
         "rawType": "object",
         "type": "string"
        },
        {
         "name": "Name",
         "rawType": "object",
         "type": "unknown"
        },
        {
         "name": "DateTime",
         "rawType": "object",
         "type": "string"
        },
        {
         "name": "OutcomeType",
         "rawType": "object",
         "type": "string"
        },
        {
         "name": "OutcomeSubtype",
         "rawType": "object",
         "type": "unknown"
        },
        {
         "name": "AnimalType",
         "rawType": "object",
         "type": "string"
        },
        {
         "name": "SexuponOutcome",
         "rawType": "object",
         "type": "string"
        },
        {
         "name": "AgeuponOutcome",
         "rawType": "object",
         "type": "string"
        },
        {
         "name": "Breed",
         "rawType": "object",
         "type": "string"
        },
        {
         "name": "Color",
         "rawType": "object",
         "type": "string"
        }
       ],
       "ref": "b5b4893a-9c79-4f14-932f-f7757d413b4f",
       "rows": [
        [
         "0",
         "A671945",
         "Hambone",
         "2014-02-12 18:22:00",
         "Return_to_owner",
         null,
         "Dog",
         "Neutered Male",
         "1 year",
         "Shetland Sheepdog Mix",
         "Brown/White"
        ],
        [
         "1",
         "A656520",
         "Emily",
         "2013-10-13 12:44:00",
         "Euthanasia",
         "Suffering",
         "Cat",
         "Spayed Female",
         "1 year",
         "Domestic Shorthair Mix",
         "Cream Tabby"
        ],
        [
         "2",
         "A686464",
         "Pearce",
         "2015-01-31 12:28:00",
         "Adoption",
         "Foster",
         "Dog",
         "Neutered Male",
         "2 years",
         "Pit Bull Mix",
         "Blue/White"
        ],
        [
         "3",
         "A683430",
         null,
         "2014-07-11 19:09:00",
         "Transfer",
         "Partner",
         "Cat",
         "Intact Male",
         "3 weeks",
         "Domestic Shorthair Mix",
         "Blue Cream"
        ],
        [
         "4",
         "A667013",
         null,
         "2013-11-15 12:52:00",
         "Transfer",
         "Partner",
         "Dog",
         "Neutered Male",
         "2 years",
         "Lhasa Apso/Miniature Poodle",
         "Tan"
        ]
       ],
       "shape": {
        "columns": 10,
        "rows": 5
       }
      },
      "text/html": [
       "<div>\n",
       "<style scoped>\n",
       "    .dataframe tbody tr th:only-of-type {\n",
       "        vertical-align: middle;\n",
       "    }\n",
       "\n",
       "    .dataframe tbody tr th {\n",
       "        vertical-align: top;\n",
       "    }\n",
       "\n",
       "    .dataframe thead th {\n",
       "        text-align: right;\n",
       "    }\n",
       "</style>\n",
       "<table border=\"1\" class=\"dataframe\">\n",
       "  <thead>\n",
       "    <tr style=\"text-align: right;\">\n",
       "      <th></th>\n",
       "      <th>AnimalID</th>\n",
       "      <th>Name</th>\n",
       "      <th>DateTime</th>\n",
       "      <th>OutcomeType</th>\n",
       "      <th>OutcomeSubtype</th>\n",
       "      <th>AnimalType</th>\n",
       "      <th>SexuponOutcome</th>\n",
       "      <th>AgeuponOutcome</th>\n",
       "      <th>Breed</th>\n",
       "      <th>Color</th>\n",
       "    </tr>\n",
       "  </thead>\n",
       "  <tbody>\n",
       "    <tr>\n",
       "      <th>0</th>\n",
       "      <td>A671945</td>\n",
       "      <td>Hambone</td>\n",
       "      <td>2014-02-12 18:22:00</td>\n",
       "      <td>Return_to_owner</td>\n",
       "      <td>NaN</td>\n",
       "      <td>Dog</td>\n",
       "      <td>Neutered Male</td>\n",
       "      <td>1 year</td>\n",
       "      <td>Shetland Sheepdog Mix</td>\n",
       "      <td>Brown/White</td>\n",
       "    </tr>\n",
       "    <tr>\n",
       "      <th>1</th>\n",
       "      <td>A656520</td>\n",
       "      <td>Emily</td>\n",
       "      <td>2013-10-13 12:44:00</td>\n",
       "      <td>Euthanasia</td>\n",
       "      <td>Suffering</td>\n",
       "      <td>Cat</td>\n",
       "      <td>Spayed Female</td>\n",
       "      <td>1 year</td>\n",
       "      <td>Domestic Shorthair Mix</td>\n",
       "      <td>Cream Tabby</td>\n",
       "    </tr>\n",
       "    <tr>\n",
       "      <th>2</th>\n",
       "      <td>A686464</td>\n",
       "      <td>Pearce</td>\n",
       "      <td>2015-01-31 12:28:00</td>\n",
       "      <td>Adoption</td>\n",
       "      <td>Foster</td>\n",
       "      <td>Dog</td>\n",
       "      <td>Neutered Male</td>\n",
       "      <td>2 years</td>\n",
       "      <td>Pit Bull Mix</td>\n",
       "      <td>Blue/White</td>\n",
       "    </tr>\n",
       "    <tr>\n",
       "      <th>3</th>\n",
       "      <td>A683430</td>\n",
       "      <td>NaN</td>\n",
       "      <td>2014-07-11 19:09:00</td>\n",
       "      <td>Transfer</td>\n",
       "      <td>Partner</td>\n",
       "      <td>Cat</td>\n",
       "      <td>Intact Male</td>\n",
       "      <td>3 weeks</td>\n",
       "      <td>Domestic Shorthair Mix</td>\n",
       "      <td>Blue Cream</td>\n",
       "    </tr>\n",
       "    <tr>\n",
       "      <th>4</th>\n",
       "      <td>A667013</td>\n",
       "      <td>NaN</td>\n",
       "      <td>2013-11-15 12:52:00</td>\n",
       "      <td>Transfer</td>\n",
       "      <td>Partner</td>\n",
       "      <td>Dog</td>\n",
       "      <td>Neutered Male</td>\n",
       "      <td>2 years</td>\n",
       "      <td>Lhasa Apso/Miniature Poodle</td>\n",
       "      <td>Tan</td>\n",
       "    </tr>\n",
       "  </tbody>\n",
       "</table>\n",
       "</div>"
      ],
      "text/plain": [
       "  AnimalID     Name             DateTime      OutcomeType OutcomeSubtype  \\\n",
       "0  A671945  Hambone  2014-02-12 18:22:00  Return_to_owner            NaN   \n",
       "1  A656520    Emily  2013-10-13 12:44:00       Euthanasia      Suffering   \n",
       "2  A686464   Pearce  2015-01-31 12:28:00         Adoption         Foster   \n",
       "3  A683430      NaN  2014-07-11 19:09:00         Transfer        Partner   \n",
       "4  A667013      NaN  2013-11-15 12:52:00         Transfer        Partner   \n",
       "\n",
       "  AnimalType SexuponOutcome AgeuponOutcome                        Breed  \\\n",
       "0        Dog  Neutered Male         1 year        Shetland Sheepdog Mix   \n",
       "1        Cat  Spayed Female         1 year       Domestic Shorthair Mix   \n",
       "2        Dog  Neutered Male        2 years                 Pit Bull Mix   \n",
       "3        Cat    Intact Male        3 weeks       Domestic Shorthair Mix   \n",
       "4        Dog  Neutered Male        2 years  Lhasa Apso/Miniature Poodle   \n",
       "\n",
       "         Color  \n",
       "0  Brown/White  \n",
       "1  Cream Tabby  \n",
       "2   Blue/White  \n",
       "3   Blue Cream  \n",
       "4          Tan  "
      ]
     },
     "execution_count": 109,
     "metadata": {},
     "output_type": "execute_result"
    }
   ],
   "source": [
    "df_train.head()"
   ]
  },
  {
   "cell_type": "code",
   "execution_count": 110,
   "id": "4da5bcae",
   "metadata": {},
   "outputs": [
    {
     "data": {
      "application/vnd.microsoft.datawrangler.viewer.v0+json": {
       "columns": [
        {
         "name": "index",
         "rawType": "int64",
         "type": "integer"
        },
        {
         "name": "AnimalID",
         "rawType": "int64",
         "type": "integer"
        },
        {
         "name": "Name",
         "rawType": "object",
         "type": "string"
        },
        {
         "name": "DateTime",
         "rawType": "object",
         "type": "string"
        },
        {
         "name": "AnimalType",
         "rawType": "object",
         "type": "string"
        },
        {
         "name": "SexuponOutcome",
         "rawType": "object",
         "type": "string"
        },
        {
         "name": "AgeuponOutcome",
         "rawType": "object",
         "type": "string"
        },
        {
         "name": "Breed",
         "rawType": "object",
         "type": "string"
        },
        {
         "name": "Color",
         "rawType": "object",
         "type": "string"
        }
       ],
       "ref": "1864fcf8-5b46-406f-9d47-b0c5d98c554b",
       "rows": [
        [
         "0",
         "1",
         "Summer",
         "2015-10-12 12:15:00",
         "Dog",
         "Intact Female",
         "10 months",
         "Labrador Retriever Mix",
         "Red/White"
        ],
        [
         "1",
         "2",
         "Cheyenne",
         "2014-07-26 17:59:00",
         "Dog",
         "Spayed Female",
         "2 years",
         "German Shepherd/Siberian Husky",
         "Black/Tan"
        ],
        [
         "2",
         "3",
         "Gus",
         "2016-01-13 12:20:00",
         "Cat",
         "Neutered Male",
         "1 year",
         "Domestic Shorthair Mix",
         "Brown Tabby"
        ],
        [
         "3",
         "4",
         "Pongo",
         "2013-12-28 18:12:00",
         "Dog",
         "Intact Male",
         "4 months",
         "Collie Smooth Mix",
         "Tricolor"
        ],
        [
         "4",
         "5",
         "Skooter",
         "2015-09-24 17:59:00",
         "Dog",
         "Neutered Male",
         "2 years",
         "Miniature Poodle Mix",
         "White"
        ]
       ],
       "shape": {
        "columns": 8,
        "rows": 5
       }
      },
      "text/html": [
       "<div>\n",
       "<style scoped>\n",
       "    .dataframe tbody tr th:only-of-type {\n",
       "        vertical-align: middle;\n",
       "    }\n",
       "\n",
       "    .dataframe tbody tr th {\n",
       "        vertical-align: top;\n",
       "    }\n",
       "\n",
       "    .dataframe thead th {\n",
       "        text-align: right;\n",
       "    }\n",
       "</style>\n",
       "<table border=\"1\" class=\"dataframe\">\n",
       "  <thead>\n",
       "    <tr style=\"text-align: right;\">\n",
       "      <th></th>\n",
       "      <th>AnimalID</th>\n",
       "      <th>Name</th>\n",
       "      <th>DateTime</th>\n",
       "      <th>AnimalType</th>\n",
       "      <th>SexuponOutcome</th>\n",
       "      <th>AgeuponOutcome</th>\n",
       "      <th>Breed</th>\n",
       "      <th>Color</th>\n",
       "    </tr>\n",
       "  </thead>\n",
       "  <tbody>\n",
       "    <tr>\n",
       "      <th>0</th>\n",
       "      <td>1</td>\n",
       "      <td>Summer</td>\n",
       "      <td>2015-10-12 12:15:00</td>\n",
       "      <td>Dog</td>\n",
       "      <td>Intact Female</td>\n",
       "      <td>10 months</td>\n",
       "      <td>Labrador Retriever Mix</td>\n",
       "      <td>Red/White</td>\n",
       "    </tr>\n",
       "    <tr>\n",
       "      <th>1</th>\n",
       "      <td>2</td>\n",
       "      <td>Cheyenne</td>\n",
       "      <td>2014-07-26 17:59:00</td>\n",
       "      <td>Dog</td>\n",
       "      <td>Spayed Female</td>\n",
       "      <td>2 years</td>\n",
       "      <td>German Shepherd/Siberian Husky</td>\n",
       "      <td>Black/Tan</td>\n",
       "    </tr>\n",
       "    <tr>\n",
       "      <th>2</th>\n",
       "      <td>3</td>\n",
       "      <td>Gus</td>\n",
       "      <td>2016-01-13 12:20:00</td>\n",
       "      <td>Cat</td>\n",
       "      <td>Neutered Male</td>\n",
       "      <td>1 year</td>\n",
       "      <td>Domestic Shorthair Mix</td>\n",
       "      <td>Brown Tabby</td>\n",
       "    </tr>\n",
       "    <tr>\n",
       "      <th>3</th>\n",
       "      <td>4</td>\n",
       "      <td>Pongo</td>\n",
       "      <td>2013-12-28 18:12:00</td>\n",
       "      <td>Dog</td>\n",
       "      <td>Intact Male</td>\n",
       "      <td>4 months</td>\n",
       "      <td>Collie Smooth Mix</td>\n",
       "      <td>Tricolor</td>\n",
       "    </tr>\n",
       "    <tr>\n",
       "      <th>4</th>\n",
       "      <td>5</td>\n",
       "      <td>Skooter</td>\n",
       "      <td>2015-09-24 17:59:00</td>\n",
       "      <td>Dog</td>\n",
       "      <td>Neutered Male</td>\n",
       "      <td>2 years</td>\n",
       "      <td>Miniature Poodle Mix</td>\n",
       "      <td>White</td>\n",
       "    </tr>\n",
       "  </tbody>\n",
       "</table>\n",
       "</div>"
      ],
      "text/plain": [
       "   AnimalID      Name             DateTime AnimalType SexuponOutcome  \\\n",
       "0         1    Summer  2015-10-12 12:15:00        Dog  Intact Female   \n",
       "1         2  Cheyenne  2014-07-26 17:59:00        Dog  Spayed Female   \n",
       "2         3       Gus  2016-01-13 12:20:00        Cat  Neutered Male   \n",
       "3         4     Pongo  2013-12-28 18:12:00        Dog    Intact Male   \n",
       "4         5   Skooter  2015-09-24 17:59:00        Dog  Neutered Male   \n",
       "\n",
       "  AgeuponOutcome                           Breed        Color  \n",
       "0      10 months          Labrador Retriever Mix    Red/White  \n",
       "1        2 years  German Shepherd/Siberian Husky    Black/Tan  \n",
       "2         1 year          Domestic Shorthair Mix  Brown Tabby  \n",
       "3       4 months               Collie Smooth Mix     Tricolor  \n",
       "4        2 years            Miniature Poodle Mix        White  "
      ]
     },
     "execution_count": 110,
     "metadata": {},
     "output_type": "execute_result"
    }
   ],
   "source": [
    "df_test.head()"
   ]
  },
  {
   "cell_type": "code",
   "execution_count": 111,
   "id": "81a7172b",
   "metadata": {},
   "outputs": [
    {
     "data": {
      "text/plain": [
       "Index(['AnimalID', 'Name', 'DateTime', 'OutcomeType', 'OutcomeSubtype',\n",
       "       'AnimalType', 'SexuponOutcome', 'AgeuponOutcome', 'Breed', 'Color'],\n",
       "      dtype='object')"
      ]
     },
     "execution_count": 111,
     "metadata": {},
     "output_type": "execute_result"
    }
   ],
   "source": [
    "df_train.columns"
   ]
  },
  {
   "cell_type": "code",
   "execution_count": null,
   "id": "5785b8fa",
   "metadata": {},
   "outputs": [],
   "source": []
  }
 ],
 "metadata": {
  "kernelspec": {
   "display_name": "animal_shelter_env",
   "language": "python",
   "name": "python3"
  },
  "language_info": {
   "codemirror_mode": {
    "name": "ipython",
    "version": 3
   },
   "file_extension": ".py",
   "mimetype": "text/x-python",
   "name": "python",
   "nbconvert_exporter": "python",
   "pygments_lexer": "ipython3",
   "version": "3.13.5"
  }
 },
 "nbformat": 4,
 "nbformat_minor": 5
}
