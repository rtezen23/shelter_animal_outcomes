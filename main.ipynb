{
 "cells": [
  {
   "cell_type": "code",
   "execution_count": 1,
   "id": "72ca4ec5",
   "metadata": {},
   "outputs": [],
   "source": [
    "import pandas as pd\n",
    "import numpy as np"
   ]
  },
  {
   "cell_type": "code",
   "execution_count": 2,
   "id": "bcb9a27d",
   "metadata": {},
   "outputs": [
    {
     "data": {
      "application/vnd.microsoft.datawrangler.viewer.v0+json": {
       "columns": [
        {
         "name": "index",
         "rawType": "int64",
         "type": "integer"
        },
        {
         "name": "ID",
         "rawType": "int64",
         "type": "integer"
        },
        {
         "name": "Adoption",
         "rawType": "int64",
         "type": "integer"
        },
        {
         "name": "Died",
         "rawType": "int64",
         "type": "integer"
        },
        {
         "name": "Euthanasia",
         "rawType": "int64",
         "type": "integer"
        },
        {
         "name": "Return_to_owner",
         "rawType": "int64",
         "type": "integer"
        },
        {
         "name": "Transfer",
         "rawType": "int64",
         "type": "integer"
        }
       ],
       "ref": "70dcf26a-7a6b-4cd4-88af-e1758a7903f4",
       "rows": [
        [
         "0",
         "1",
         "1",
         "0",
         "0",
         "0",
         "0"
        ],
        [
         "1",
         "2",
         "1",
         "0",
         "0",
         "0",
         "0"
        ],
        [
         "2",
         "3",
         "1",
         "0",
         "0",
         "0",
         "0"
        ],
        [
         "3",
         "4",
         "1",
         "0",
         "0",
         "0",
         "0"
        ],
        [
         "4",
         "5",
         "1",
         "0",
         "0",
         "0",
         "0"
        ]
       ],
       "shape": {
        "columns": 6,
        "rows": 5
       }
      },
      "text/html": [
       "<div>\n",
       "<style scoped>\n",
       "    .dataframe tbody tr th:only-of-type {\n",
       "        vertical-align: middle;\n",
       "    }\n",
       "\n",
       "    .dataframe tbody tr th {\n",
       "        vertical-align: top;\n",
       "    }\n",
       "\n",
       "    .dataframe thead th {\n",
       "        text-align: right;\n",
       "    }\n",
       "</style>\n",
       "<table border=\"1\" class=\"dataframe\">\n",
       "  <thead>\n",
       "    <tr style=\"text-align: right;\">\n",
       "      <th></th>\n",
       "      <th>ID</th>\n",
       "      <th>Adoption</th>\n",
       "      <th>Died</th>\n",
       "      <th>Euthanasia</th>\n",
       "      <th>Return_to_owner</th>\n",
       "      <th>Transfer</th>\n",
       "    </tr>\n",
       "  </thead>\n",
       "  <tbody>\n",
       "    <tr>\n",
       "      <th>0</th>\n",
       "      <td>1</td>\n",
       "      <td>1</td>\n",
       "      <td>0</td>\n",
       "      <td>0</td>\n",
       "      <td>0</td>\n",
       "      <td>0</td>\n",
       "    </tr>\n",
       "    <tr>\n",
       "      <th>1</th>\n",
       "      <td>2</td>\n",
       "      <td>1</td>\n",
       "      <td>0</td>\n",
       "      <td>0</td>\n",
       "      <td>0</td>\n",
       "      <td>0</td>\n",
       "    </tr>\n",
       "    <tr>\n",
       "      <th>2</th>\n",
       "      <td>3</td>\n",
       "      <td>1</td>\n",
       "      <td>0</td>\n",
       "      <td>0</td>\n",
       "      <td>0</td>\n",
       "      <td>0</td>\n",
       "    </tr>\n",
       "    <tr>\n",
       "      <th>3</th>\n",
       "      <td>4</td>\n",
       "      <td>1</td>\n",
       "      <td>0</td>\n",
       "      <td>0</td>\n",
       "      <td>0</td>\n",
       "      <td>0</td>\n",
       "    </tr>\n",
       "    <tr>\n",
       "      <th>4</th>\n",
       "      <td>5</td>\n",
       "      <td>1</td>\n",
       "      <td>0</td>\n",
       "      <td>0</td>\n",
       "      <td>0</td>\n",
       "      <td>0</td>\n",
       "    </tr>\n",
       "  </tbody>\n",
       "</table>\n",
       "</div>"
      ],
      "text/plain": [
       "   ID  Adoption  Died  Euthanasia  Return_to_owner  Transfer\n",
       "0   1         1     0           0                0         0\n",
       "1   2         1     0           0                0         0\n",
       "2   3         1     0           0                0         0\n",
       "3   4         1     0           0                0         0\n",
       "4   5         1     0           0                0         0"
      ]
     },
     "execution_count": 2,
     "metadata": {},
     "output_type": "execute_result"
    }
   ],
   "source": [
    "df_1 = pd.read_csv('./data/sample_submission.csv')\n",
    "df_1.head()"
   ]
  },
  {
   "cell_type": "code",
   "execution_count": 3,
   "id": "4e07f975",
   "metadata": {},
   "outputs": [
    {
     "data": {
      "text/plain": [
       "Index(['ID', 'Adoption', 'Died', 'Euthanasia', 'Return_to_owner', 'Transfer'], dtype='object')"
      ]
     },
     "execution_count": 3,
     "metadata": {},
     "output_type": "execute_result"
    }
   ],
   "source": [
    "df_1.columns"
   ]
  },
  {
   "cell_type": "code",
   "execution_count": 4,
   "id": "404d877c",
   "metadata": {},
   "outputs": [
    {
     "data": {
      "text/plain": [
       "Index(['ID', 'Adoption', 'Died', 'Euthanasia', 'Return_to_owner', 'Transfer'], dtype='object')"
      ]
     },
     "execution_count": 4,
     "metadata": {},
     "output_type": "execute_result"
    }
   ],
   "source": [
    "df_1.sum().index"
   ]
  },
  {
   "cell_type": "code",
   "execution_count": 5,
   "id": "5ea1f5b4",
   "metadata": {},
   "outputs": [
    {
     "data": {
      "application/vnd.microsoft.datawrangler.viewer.v0+json": {
       "columns": [
        {
         "name": "index",
         "rawType": "int64",
         "type": "integer"
        },
        {
         "name": "ID",
         "rawType": "int64",
         "type": "integer"
        },
        {
         "name": "Name",
         "rawType": "object",
         "type": "unknown"
        },
        {
         "name": "DateTime",
         "rawType": "object",
         "type": "string"
        },
        {
         "name": "AnimalType",
         "rawType": "object",
         "type": "string"
        },
        {
         "name": "SexuponOutcome",
         "rawType": "object",
         "type": "string"
        },
        {
         "name": "AgeuponOutcome",
         "rawType": "object",
         "type": "string"
        },
        {
         "name": "Breed",
         "rawType": "object",
         "type": "string"
        },
        {
         "name": "Color",
         "rawType": "object",
         "type": "string"
        }
       ],
       "ref": "4d285f2e-865f-454a-b322-53b9a3bfcf57",
       "rows": [
        [
         "7805",
         "7806",
         null,
         "2015-11-10 11:59:00",
         "Dog",
         "Neutered Male",
         "2 months",
         "Australian Cattle Dog Mix",
         "Brown Brindle/White"
        ],
        [
         "3069",
         "3070",
         null,
         "2015-06-21 09:00:00",
         "Cat",
         "Intact Male",
         "2 years",
         "Domestic Shorthair Mix",
         "Black/White"
        ],
        [
         "9285",
         "9286",
         "Daisy",
         "2016-01-20 13:28:00",
         "Dog",
         "Intact Female",
         "1 year",
         "Golden Retriever Mix",
         "Yellow"
        ],
        [
         "6624",
         "6625",
         "Twilight",
         "2013-10-09 13:13:00",
         "Dog",
         "Spayed Female",
         "2 years",
         "Chihuahua Shorthair Mix",
         "White/Brown"
        ],
        [
         "3141",
         "3142",
         "Jax",
         "2015-04-13 11:36:00",
         "Dog",
         "Neutered Male",
         "1 year",
         "Flat Coat Retriever Mix",
         "Black"
        ]
       ],
       "shape": {
        "columns": 8,
        "rows": 5
       }
      },
      "text/html": [
       "<div>\n",
       "<style scoped>\n",
       "    .dataframe tbody tr th:only-of-type {\n",
       "        vertical-align: middle;\n",
       "    }\n",
       "\n",
       "    .dataframe tbody tr th {\n",
       "        vertical-align: top;\n",
       "    }\n",
       "\n",
       "    .dataframe thead th {\n",
       "        text-align: right;\n",
       "    }\n",
       "</style>\n",
       "<table border=\"1\" class=\"dataframe\">\n",
       "  <thead>\n",
       "    <tr style=\"text-align: right;\">\n",
       "      <th></th>\n",
       "      <th>ID</th>\n",
       "      <th>Name</th>\n",
       "      <th>DateTime</th>\n",
       "      <th>AnimalType</th>\n",
       "      <th>SexuponOutcome</th>\n",
       "      <th>AgeuponOutcome</th>\n",
       "      <th>Breed</th>\n",
       "      <th>Color</th>\n",
       "    </tr>\n",
       "  </thead>\n",
       "  <tbody>\n",
       "    <tr>\n",
       "      <th>7805</th>\n",
       "      <td>7806</td>\n",
       "      <td>NaN</td>\n",
       "      <td>2015-11-10 11:59:00</td>\n",
       "      <td>Dog</td>\n",
       "      <td>Neutered Male</td>\n",
       "      <td>2 months</td>\n",
       "      <td>Australian Cattle Dog Mix</td>\n",
       "      <td>Brown Brindle/White</td>\n",
       "    </tr>\n",
       "    <tr>\n",
       "      <th>3069</th>\n",
       "      <td>3070</td>\n",
       "      <td>NaN</td>\n",
       "      <td>2015-06-21 09:00:00</td>\n",
       "      <td>Cat</td>\n",
       "      <td>Intact Male</td>\n",
       "      <td>2 years</td>\n",
       "      <td>Domestic Shorthair Mix</td>\n",
       "      <td>Black/White</td>\n",
       "    </tr>\n",
       "    <tr>\n",
       "      <th>9285</th>\n",
       "      <td>9286</td>\n",
       "      <td>Daisy</td>\n",
       "      <td>2016-01-20 13:28:00</td>\n",
       "      <td>Dog</td>\n",
       "      <td>Intact Female</td>\n",
       "      <td>1 year</td>\n",
       "      <td>Golden Retriever Mix</td>\n",
       "      <td>Yellow</td>\n",
       "    </tr>\n",
       "    <tr>\n",
       "      <th>6624</th>\n",
       "      <td>6625</td>\n",
       "      <td>Twilight</td>\n",
       "      <td>2013-10-09 13:13:00</td>\n",
       "      <td>Dog</td>\n",
       "      <td>Spayed Female</td>\n",
       "      <td>2 years</td>\n",
       "      <td>Chihuahua Shorthair Mix</td>\n",
       "      <td>White/Brown</td>\n",
       "    </tr>\n",
       "    <tr>\n",
       "      <th>3141</th>\n",
       "      <td>3142</td>\n",
       "      <td>Jax</td>\n",
       "      <td>2015-04-13 11:36:00</td>\n",
       "      <td>Dog</td>\n",
       "      <td>Neutered Male</td>\n",
       "      <td>1 year</td>\n",
       "      <td>Flat Coat Retriever Mix</td>\n",
       "      <td>Black</td>\n",
       "    </tr>\n",
       "  </tbody>\n",
       "</table>\n",
       "</div>"
      ],
      "text/plain": [
       "        ID      Name             DateTime AnimalType SexuponOutcome  \\\n",
       "7805  7806       NaN  2015-11-10 11:59:00        Dog  Neutered Male   \n",
       "3069  3070       NaN  2015-06-21 09:00:00        Cat    Intact Male   \n",
       "9285  9286     Daisy  2016-01-20 13:28:00        Dog  Intact Female   \n",
       "6624  6625  Twilight  2013-10-09 13:13:00        Dog  Spayed Female   \n",
       "3141  3142       Jax  2015-04-13 11:36:00        Dog  Neutered Male   \n",
       "\n",
       "     AgeuponOutcome                      Breed                Color  \n",
       "7805       2 months  Australian Cattle Dog Mix  Brown Brindle/White  \n",
       "3069        2 years     Domestic Shorthair Mix          Black/White  \n",
       "9285         1 year       Golden Retriever Mix               Yellow  \n",
       "6624        2 years    Chihuahua Shorthair Mix          White/Brown  \n",
       "3141         1 year    Flat Coat Retriever Mix                Black  "
      ]
     },
     "execution_count": 5,
     "metadata": {},
     "output_type": "execute_result"
    }
   ],
   "source": [
    "df_test = pd.read_csv('./data/test.csv')\n",
    "df_test.sample(5)"
   ]
  },
  {
   "cell_type": "code",
   "execution_count": 6,
   "id": "0ddbbf6c",
   "metadata": {},
   "outputs": [
    {
     "data": {
      "text/plain": [
       "(11456, 8)"
      ]
     },
     "execution_count": 6,
     "metadata": {},
     "output_type": "execute_result"
    }
   ],
   "source": [
    "df_test.shape"
   ]
  },
  {
   "cell_type": "code",
   "execution_count": 7,
   "id": "7a00722f",
   "metadata": {},
   "outputs": [
    {
     "data": {
      "application/vnd.microsoft.datawrangler.viewer.v0+json": {
       "columns": [
        {
         "name": "index",
         "rawType": "int64",
         "type": "integer"
        },
        {
         "name": "AnimalID",
         "rawType": "object",
         "type": "string"
        },
        {
         "name": "Name",
         "rawType": "object",
         "type": "unknown"
        },
        {
         "name": "DateTime",
         "rawType": "object",
         "type": "string"
        },
        {
         "name": "OutcomeType",
         "rawType": "object",
         "type": "string"
        },
        {
         "name": "OutcomeSubtype",
         "rawType": "object",
         "type": "unknown"
        },
        {
         "name": "AnimalType",
         "rawType": "object",
         "type": "string"
        },
        {
         "name": "SexuponOutcome",
         "rawType": "object",
         "type": "string"
        },
        {
         "name": "AgeuponOutcome",
         "rawType": "object",
         "type": "string"
        },
        {
         "name": "Breed",
         "rawType": "object",
         "type": "string"
        },
        {
         "name": "Color",
         "rawType": "object",
         "type": "string"
        }
       ],
       "ref": "d94a935b-a453-4096-b110-cacd43195739",
       "rows": [
        [
         "12011",
         "A693319",
         null,
         "2014-12-10 12:17:00",
         "Euthanasia",
         "Aggressive",
         "Dog",
         "Intact Male",
         "2 years",
         "Labrador Retriever/Chow Chow",
         "Black"
        ],
        [
         "18155",
         "A677983",
         "Neo",
         "2015-06-02 13:20:00",
         "Euthanasia",
         "Suffering",
         "Dog",
         "Neutered Male",
         "2 years",
         "Staffordshire Mix",
         "Blue/White"
        ],
        [
         "339",
         "A675983",
         null,
         "2014-04-03 15:19:00",
         "Transfer",
         "SCRP",
         "Cat",
         "Intact Female",
         "8 months",
         "Domestic Shorthair Mix",
         "Blue Tabby"
        ],
        [
         "23438",
         "A669640",
         "Sissy",
         "2014-08-08 13:27:00",
         "Euthanasia",
         "Court/Investigation",
         "Dog",
         "Intact Female",
         "1 year",
         "Australian Kelpie Mix",
         "Brown/White"
        ],
        [
         "17313",
         "A676241",
         null,
         "2014-04-12 12:24:00",
         "Adoption",
         null,
         "Dog",
         "Spayed Female",
         "2 months",
         "German Shepherd/Doberman Pinsch",
         "Black/Tan"
        ]
       ],
       "shape": {
        "columns": 10,
        "rows": 5
       }
      },
      "text/html": [
       "<div>\n",
       "<style scoped>\n",
       "    .dataframe tbody tr th:only-of-type {\n",
       "        vertical-align: middle;\n",
       "    }\n",
       "\n",
       "    .dataframe tbody tr th {\n",
       "        vertical-align: top;\n",
       "    }\n",
       "\n",
       "    .dataframe thead th {\n",
       "        text-align: right;\n",
       "    }\n",
       "</style>\n",
       "<table border=\"1\" class=\"dataframe\">\n",
       "  <thead>\n",
       "    <tr style=\"text-align: right;\">\n",
       "      <th></th>\n",
       "      <th>AnimalID</th>\n",
       "      <th>Name</th>\n",
       "      <th>DateTime</th>\n",
       "      <th>OutcomeType</th>\n",
       "      <th>OutcomeSubtype</th>\n",
       "      <th>AnimalType</th>\n",
       "      <th>SexuponOutcome</th>\n",
       "      <th>AgeuponOutcome</th>\n",
       "      <th>Breed</th>\n",
       "      <th>Color</th>\n",
       "    </tr>\n",
       "  </thead>\n",
       "  <tbody>\n",
       "    <tr>\n",
       "      <th>12011</th>\n",
       "      <td>A693319</td>\n",
       "      <td>NaN</td>\n",
       "      <td>2014-12-10 12:17:00</td>\n",
       "      <td>Euthanasia</td>\n",
       "      <td>Aggressive</td>\n",
       "      <td>Dog</td>\n",
       "      <td>Intact Male</td>\n",
       "      <td>2 years</td>\n",
       "      <td>Labrador Retriever/Chow Chow</td>\n",
       "      <td>Black</td>\n",
       "    </tr>\n",
       "    <tr>\n",
       "      <th>18155</th>\n",
       "      <td>A677983</td>\n",
       "      <td>Neo</td>\n",
       "      <td>2015-06-02 13:20:00</td>\n",
       "      <td>Euthanasia</td>\n",
       "      <td>Suffering</td>\n",
       "      <td>Dog</td>\n",
       "      <td>Neutered Male</td>\n",
       "      <td>2 years</td>\n",
       "      <td>Staffordshire Mix</td>\n",
       "      <td>Blue/White</td>\n",
       "    </tr>\n",
       "    <tr>\n",
       "      <th>339</th>\n",
       "      <td>A675983</td>\n",
       "      <td>NaN</td>\n",
       "      <td>2014-04-03 15:19:00</td>\n",
       "      <td>Transfer</td>\n",
       "      <td>SCRP</td>\n",
       "      <td>Cat</td>\n",
       "      <td>Intact Female</td>\n",
       "      <td>8 months</td>\n",
       "      <td>Domestic Shorthair Mix</td>\n",
       "      <td>Blue Tabby</td>\n",
       "    </tr>\n",
       "    <tr>\n",
       "      <th>23438</th>\n",
       "      <td>A669640</td>\n",
       "      <td>Sissy</td>\n",
       "      <td>2014-08-08 13:27:00</td>\n",
       "      <td>Euthanasia</td>\n",
       "      <td>Court/Investigation</td>\n",
       "      <td>Dog</td>\n",
       "      <td>Intact Female</td>\n",
       "      <td>1 year</td>\n",
       "      <td>Australian Kelpie Mix</td>\n",
       "      <td>Brown/White</td>\n",
       "    </tr>\n",
       "    <tr>\n",
       "      <th>17313</th>\n",
       "      <td>A676241</td>\n",
       "      <td>NaN</td>\n",
       "      <td>2014-04-12 12:24:00</td>\n",
       "      <td>Adoption</td>\n",
       "      <td>NaN</td>\n",
       "      <td>Dog</td>\n",
       "      <td>Spayed Female</td>\n",
       "      <td>2 months</td>\n",
       "      <td>German Shepherd/Doberman Pinsch</td>\n",
       "      <td>Black/Tan</td>\n",
       "    </tr>\n",
       "  </tbody>\n",
       "</table>\n",
       "</div>"
      ],
      "text/plain": [
       "      AnimalID   Name             DateTime OutcomeType       OutcomeSubtype  \\\n",
       "12011  A693319    NaN  2014-12-10 12:17:00  Euthanasia           Aggressive   \n",
       "18155  A677983    Neo  2015-06-02 13:20:00  Euthanasia            Suffering   \n",
       "339    A675983    NaN  2014-04-03 15:19:00    Transfer                 SCRP   \n",
       "23438  A669640  Sissy  2014-08-08 13:27:00  Euthanasia  Court/Investigation   \n",
       "17313  A676241    NaN  2014-04-12 12:24:00    Adoption                  NaN   \n",
       "\n",
       "      AnimalType SexuponOutcome AgeuponOutcome  \\\n",
       "12011        Dog    Intact Male        2 years   \n",
       "18155        Dog  Neutered Male        2 years   \n",
       "339          Cat  Intact Female       8 months   \n",
       "23438        Dog  Intact Female         1 year   \n",
       "17313        Dog  Spayed Female       2 months   \n",
       "\n",
       "                                 Breed        Color  \n",
       "12011     Labrador Retriever/Chow Chow        Black  \n",
       "18155                Staffordshire Mix   Blue/White  \n",
       "339             Domestic Shorthair Mix   Blue Tabby  \n",
       "23438            Australian Kelpie Mix  Brown/White  \n",
       "17313  German Shepherd/Doberman Pinsch    Black/Tan  "
      ]
     },
     "execution_count": 7,
     "metadata": {},
     "output_type": "execute_result"
    }
   ],
   "source": [
    "df_train = pd.read_csv('./data/train.csv')\n",
    "df_train.sample(5)"
   ]
  },
  {
   "cell_type": "code",
   "execution_count": 8,
   "id": "74d95d16",
   "metadata": {},
   "outputs": [
    {
     "data": {
      "text/plain": [
       "(26729, 10)"
      ]
     },
     "execution_count": 8,
     "metadata": {},
     "output_type": "execute_result"
    }
   ],
   "source": [
    "df_train.shape"
   ]
  },
  {
   "cell_type": "markdown",
   "id": "9b40a62a",
   "metadata": {},
   "source": [
    "# Search duplicates in train dataset"
   ]
  },
  {
   "cell_type": "code",
   "execution_count": 9,
   "id": "1af5f1dc",
   "metadata": {},
   "outputs": [
    {
     "data": {
      "text/plain": [
       "(26729, 10)"
      ]
     },
     "execution_count": 9,
     "metadata": {},
     "output_type": "execute_result"
    }
   ],
   "source": [
    "df_train.shape"
   ]
  },
  {
   "cell_type": "code",
   "execution_count": 10,
   "id": "060775f9",
   "metadata": {},
   "outputs": [
    {
     "data": {
      "text/plain": [
       "np.int64(0)"
      ]
     },
     "execution_count": 10,
     "metadata": {},
     "output_type": "execute_result"
    }
   ],
   "source": [
    "# find current duplicates in train\n",
    "df_train.duplicated().sum()"
   ]
  },
  {
   "cell_type": "code",
   "execution_count": 11,
   "id": "0c2b3f05",
   "metadata": {},
   "outputs": [
    {
     "data": {
      "text/plain": [
       "np.int64(0)"
      ]
     },
     "execution_count": 11,
     "metadata": {},
     "output_type": "execute_result"
    }
   ],
   "source": [
    "# find current duplicates in test\n",
    "df_test.duplicated().sum()"
   ]
  },
  {
   "cell_type": "code",
   "execution_count": 12,
   "id": "3004e961",
   "metadata": {},
   "outputs": [
    {
     "data": {
      "text/plain": [
       "Index(['AnimalID', 'Name', 'DateTime', 'OutcomeType', 'OutcomeSubtype',\n",
       "       'AnimalType', 'SexuponOutcome', 'AgeuponOutcome', 'Breed', 'Color'],\n",
       "      dtype='object')"
      ]
     },
     "execution_count": 12,
     "metadata": {},
     "output_type": "execute_result"
    }
   ],
   "source": [
    "df_train.columns"
   ]
  },
  {
   "cell_type": "code",
   "execution_count": 13,
   "id": "713b25b8",
   "metadata": {},
   "outputs": [
    {
     "data": {
      "text/plain": [
       "Index(['ID', 'Name', 'DateTime', 'AnimalType', 'SexuponOutcome',\n",
       "       'AgeuponOutcome', 'Breed', 'Color'],\n",
       "      dtype='object')"
      ]
     },
     "execution_count": 13,
     "metadata": {},
     "output_type": "execute_result"
    }
   ],
   "source": [
    "df_test.columns"
   ]
  },
  {
   "cell_type": "code",
   "execution_count": 14,
   "id": "5aec86ca",
   "metadata": {},
   "outputs": [],
   "source": [
    "# drop target columns from train.csv so we can find duplicated rows\n",
    "df_train_2 = df_train.drop(['OutcomeType', 'OutcomeSubtype'], axis=1)"
   ]
  },
  {
   "cell_type": "code",
   "execution_count": 15,
   "id": "ecb8ee97",
   "metadata": {},
   "outputs": [
    {
     "data": {
      "text/plain": [
       "np.int64(0)"
      ]
     },
     "execution_count": 15,
     "metadata": {},
     "output_type": "execute_result"
    }
   ],
   "source": [
    "# find if column id matches between dataframes\n",
    "df_test['ID'].isin(df_train['AnimalID']).sum()"
   ]
  },
  {
   "cell_type": "code",
   "execution_count": 16,
   "id": "a3f73c18",
   "metadata": {},
   "outputs": [],
   "source": [
    "# rename id col for matching\n",
    "df_test = df_test.rename(columns={\"ID\": 'AnimalID'})"
   ]
  },
  {
   "cell_type": "code",
   "execution_count": 17,
   "id": "baad8654",
   "metadata": {},
   "outputs": [
    {
     "data": {
      "text/plain": [
       "(38185, 8)"
      ]
     },
     "execution_count": 17,
     "metadata": {},
     "output_type": "execute_result"
    }
   ],
   "source": [
    "# we can now merge both dataframes so we get more data\n",
    "df = pd.concat([df_train_2, df_test])\n",
    "df.shape"
   ]
  },
  {
   "cell_type": "code",
   "execution_count": 18,
   "id": "04f617fa",
   "metadata": {},
   "outputs": [
    {
     "data": {
      "text/plain": [
       "np.int64(0)"
      ]
     },
     "execution_count": 18,
     "metadata": {},
     "output_type": "execute_result"
    }
   ],
   "source": [
    "# find duplicates between dataframes\n",
    "df.duplicated().sum()"
   ]
  },
  {
   "cell_type": "markdown",
   "id": "781aec69",
   "metadata": {},
   "source": [
    "# 1. EDA"
   ]
  },
  {
   "cell_type": "code",
   "execution_count": 19,
   "id": "6c2092f1",
   "metadata": {},
   "outputs": [
    {
     "name": "stdout",
     "output_type": "stream",
     "text": [
      "<class 'pandas.core.frame.DataFrame'>\n",
      "Index: 38185 entries, 0 to 11455\n",
      "Data columns (total 8 columns):\n",
      " #   Column          Non-Null Count  Dtype \n",
      "---  ------          --------------  ----- \n",
      " 0   AnimalID        38185 non-null  object\n",
      " 1   Name            27269 non-null  object\n",
      " 2   DateTime        38185 non-null  object\n",
      " 3   AnimalType      38185 non-null  object\n",
      " 4   SexuponOutcome  38184 non-null  object\n",
      " 5   AgeuponOutcome  38161 non-null  object\n",
      " 6   Breed           38185 non-null  object\n",
      " 7   Color           38185 non-null  object\n",
      "dtypes: object(8)\n",
      "memory usage: 2.6+ MB\n"
     ]
    }
   ],
   "source": [
    "df.info()"
   ]
  },
  {
   "cell_type": "code",
   "execution_count": 20,
   "id": "236f5b47",
   "metadata": {},
   "outputs": [
    {
     "data": {
      "application/vnd.microsoft.datawrangler.viewer.v0+json": {
       "columns": [
        {
         "name": "index",
         "rawType": "int64",
         "type": "integer"
        },
        {
         "name": "AnimalID",
         "rawType": "object",
         "type": "unknown"
        },
        {
         "name": "Name",
         "rawType": "object",
         "type": "unknown"
        },
        {
         "name": "DateTime",
         "rawType": "object",
         "type": "string"
        },
        {
         "name": "AnimalType",
         "rawType": "object",
         "type": "string"
        },
        {
         "name": "SexuponOutcome",
         "rawType": "object",
         "type": "string"
        },
        {
         "name": "AgeuponOutcome",
         "rawType": "object",
         "type": "string"
        },
        {
         "name": "Breed",
         "rawType": "object",
         "type": "string"
        },
        {
         "name": "Color",
         "rawType": "object",
         "type": "string"
        }
       ],
       "ref": "c8164be2-e126-4722-928b-d3bba5d06c08",
       "rows": [
        [
         "4622",
         "A699397",
         "Juno",
         "2015-05-22 16:49:00",
         "Cat",
         "Spayed Female",
         "7 years",
         "Domestic Shorthair Mix",
         "Torbie"
        ],
        [
         "385",
         "A672744",
         "Oso",
         "2014-04-17 17:09:00",
         "Dog",
         "Intact Male",
         "3 years",
         "Rottweiler Mix",
         "Black/Tan"
        ],
        [
         "2582",
         "A355688",
         "Shadow",
         "2014-02-23 17:48:00",
         "Dog",
         "Neutered Male",
         "9 years",
         "Australian Shepherd/Chow Chow",
         "Blue"
        ],
        [
         "19839",
         "A697214",
         "Winston",
         "2015-02-23 17:37:00",
         "Cat",
         "Neutered Male",
         "2 months",
         "Domestic Shorthair Mix",
         "Blue"
        ],
        [
         "11957",
         "A675896",
         "Emma",
         "2014-04-06 14:41:00",
         "Cat",
         "Spayed Female",
         "2 years",
         "Maine Coon Mix",
         "Brown Tabby"
        ],
        [
         "19303",
         "A696213",
         null,
         "2015-02-01 09:00:00",
         "Cat",
         "Intact Female",
         "3 years",
         "Domestic Shorthair Mix",
         "Orange Tabby"
        ],
        [
         "22170",
         "A687933",
         "Herbie",
         "2014-10-10 15:35:00",
         "Dog",
         "Neutered Male",
         "1 year",
         "Chihuahua Shorthair Mix",
         "Cream/White"
        ],
        [
         "10474",
         "10475",
         "Ariya",
         "2015-09-01 11:09:00",
         "Dog",
         "Spayed Female",
         "1 year",
         "Pit Bull/Labrador Retriever",
         "Black/White"
        ],
        [
         "20788",
         "A674713",
         "Honey",
         "2014-04-17 13:47:00",
         "Dog",
         "Spayed Female",
         "1 year",
         "Plott Hound Mix",
         "Brown Brindle/White"
        ],
        [
         "743",
         "744",
         "Amy",
         "2013-12-31 15:26:00",
         "Cat",
         "Intact Female",
         "2 months",
         "Domestic Shorthair Mix",
         "Black/White"
        ]
       ],
       "shape": {
        "columns": 8,
        "rows": 10
       }
      },
      "text/html": [
       "<div>\n",
       "<style scoped>\n",
       "    .dataframe tbody tr th:only-of-type {\n",
       "        vertical-align: middle;\n",
       "    }\n",
       "\n",
       "    .dataframe tbody tr th {\n",
       "        vertical-align: top;\n",
       "    }\n",
       "\n",
       "    .dataframe thead th {\n",
       "        text-align: right;\n",
       "    }\n",
       "</style>\n",
       "<table border=\"1\" class=\"dataframe\">\n",
       "  <thead>\n",
       "    <tr style=\"text-align: right;\">\n",
       "      <th></th>\n",
       "      <th>AnimalID</th>\n",
       "      <th>Name</th>\n",
       "      <th>DateTime</th>\n",
       "      <th>AnimalType</th>\n",
       "      <th>SexuponOutcome</th>\n",
       "      <th>AgeuponOutcome</th>\n",
       "      <th>Breed</th>\n",
       "      <th>Color</th>\n",
       "    </tr>\n",
       "  </thead>\n",
       "  <tbody>\n",
       "    <tr>\n",
       "      <th>4622</th>\n",
       "      <td>A699397</td>\n",
       "      <td>Juno</td>\n",
       "      <td>2015-05-22 16:49:00</td>\n",
       "      <td>Cat</td>\n",
       "      <td>Spayed Female</td>\n",
       "      <td>7 years</td>\n",
       "      <td>Domestic Shorthair Mix</td>\n",
       "      <td>Torbie</td>\n",
       "    </tr>\n",
       "    <tr>\n",
       "      <th>385</th>\n",
       "      <td>A672744</td>\n",
       "      <td>Oso</td>\n",
       "      <td>2014-04-17 17:09:00</td>\n",
       "      <td>Dog</td>\n",
       "      <td>Intact Male</td>\n",
       "      <td>3 years</td>\n",
       "      <td>Rottweiler Mix</td>\n",
       "      <td>Black/Tan</td>\n",
       "    </tr>\n",
       "    <tr>\n",
       "      <th>2582</th>\n",
       "      <td>A355688</td>\n",
       "      <td>Shadow</td>\n",
       "      <td>2014-02-23 17:48:00</td>\n",
       "      <td>Dog</td>\n",
       "      <td>Neutered Male</td>\n",
       "      <td>9 years</td>\n",
       "      <td>Australian Shepherd/Chow Chow</td>\n",
       "      <td>Blue</td>\n",
       "    </tr>\n",
       "    <tr>\n",
       "      <th>19839</th>\n",
       "      <td>A697214</td>\n",
       "      <td>Winston</td>\n",
       "      <td>2015-02-23 17:37:00</td>\n",
       "      <td>Cat</td>\n",
       "      <td>Neutered Male</td>\n",
       "      <td>2 months</td>\n",
       "      <td>Domestic Shorthair Mix</td>\n",
       "      <td>Blue</td>\n",
       "    </tr>\n",
       "    <tr>\n",
       "      <th>11957</th>\n",
       "      <td>A675896</td>\n",
       "      <td>Emma</td>\n",
       "      <td>2014-04-06 14:41:00</td>\n",
       "      <td>Cat</td>\n",
       "      <td>Spayed Female</td>\n",
       "      <td>2 years</td>\n",
       "      <td>Maine Coon Mix</td>\n",
       "      <td>Brown Tabby</td>\n",
       "    </tr>\n",
       "    <tr>\n",
       "      <th>19303</th>\n",
       "      <td>A696213</td>\n",
       "      <td>NaN</td>\n",
       "      <td>2015-02-01 09:00:00</td>\n",
       "      <td>Cat</td>\n",
       "      <td>Intact Female</td>\n",
       "      <td>3 years</td>\n",
       "      <td>Domestic Shorthair Mix</td>\n",
       "      <td>Orange Tabby</td>\n",
       "    </tr>\n",
       "    <tr>\n",
       "      <th>22170</th>\n",
       "      <td>A687933</td>\n",
       "      <td>Herbie</td>\n",
       "      <td>2014-10-10 15:35:00</td>\n",
       "      <td>Dog</td>\n",
       "      <td>Neutered Male</td>\n",
       "      <td>1 year</td>\n",
       "      <td>Chihuahua Shorthair Mix</td>\n",
       "      <td>Cream/White</td>\n",
       "    </tr>\n",
       "    <tr>\n",
       "      <th>10474</th>\n",
       "      <td>10475</td>\n",
       "      <td>Ariya</td>\n",
       "      <td>2015-09-01 11:09:00</td>\n",
       "      <td>Dog</td>\n",
       "      <td>Spayed Female</td>\n",
       "      <td>1 year</td>\n",
       "      <td>Pit Bull/Labrador Retriever</td>\n",
       "      <td>Black/White</td>\n",
       "    </tr>\n",
       "    <tr>\n",
       "      <th>20788</th>\n",
       "      <td>A674713</td>\n",
       "      <td>Honey</td>\n",
       "      <td>2014-04-17 13:47:00</td>\n",
       "      <td>Dog</td>\n",
       "      <td>Spayed Female</td>\n",
       "      <td>1 year</td>\n",
       "      <td>Plott Hound Mix</td>\n",
       "      <td>Brown Brindle/White</td>\n",
       "    </tr>\n",
       "    <tr>\n",
       "      <th>743</th>\n",
       "      <td>744</td>\n",
       "      <td>Amy</td>\n",
       "      <td>2013-12-31 15:26:00</td>\n",
       "      <td>Cat</td>\n",
       "      <td>Intact Female</td>\n",
       "      <td>2 months</td>\n",
       "      <td>Domestic Shorthair Mix</td>\n",
       "      <td>Black/White</td>\n",
       "    </tr>\n",
       "  </tbody>\n",
       "</table>\n",
       "</div>"
      ],
      "text/plain": [
       "      AnimalID     Name             DateTime AnimalType SexuponOutcome  \\\n",
       "4622   A699397     Juno  2015-05-22 16:49:00        Cat  Spayed Female   \n",
       "385    A672744      Oso  2014-04-17 17:09:00        Dog    Intact Male   \n",
       "2582   A355688   Shadow  2014-02-23 17:48:00        Dog  Neutered Male   \n",
       "19839  A697214  Winston  2015-02-23 17:37:00        Cat  Neutered Male   \n",
       "11957  A675896     Emma  2014-04-06 14:41:00        Cat  Spayed Female   \n",
       "19303  A696213      NaN  2015-02-01 09:00:00        Cat  Intact Female   \n",
       "22170  A687933   Herbie  2014-10-10 15:35:00        Dog  Neutered Male   \n",
       "10474    10475    Ariya  2015-09-01 11:09:00        Dog  Spayed Female   \n",
       "20788  A674713    Honey  2014-04-17 13:47:00        Dog  Spayed Female   \n",
       "743        744      Amy  2013-12-31 15:26:00        Cat  Intact Female   \n",
       "\n",
       "      AgeuponOutcome                          Breed                Color  \n",
       "4622         7 years         Domestic Shorthair Mix               Torbie  \n",
       "385          3 years                 Rottweiler Mix            Black/Tan  \n",
       "2582         9 years  Australian Shepherd/Chow Chow                 Blue  \n",
       "19839       2 months         Domestic Shorthair Mix                 Blue  \n",
       "11957        2 years                 Maine Coon Mix          Brown Tabby  \n",
       "19303        3 years         Domestic Shorthair Mix         Orange Tabby  \n",
       "22170         1 year        Chihuahua Shorthair Mix          Cream/White  \n",
       "10474         1 year    Pit Bull/Labrador Retriever          Black/White  \n",
       "20788         1 year                Plott Hound Mix  Brown Brindle/White  \n",
       "743         2 months         Domestic Shorthair Mix          Black/White  "
      ]
     },
     "execution_count": 20,
     "metadata": {},
     "output_type": "execute_result"
    }
   ],
   "source": [
    "df.sample(10)"
   ]
  },
  {
   "cell_type": "code",
   "execution_count": 21,
   "id": "c49d5335",
   "metadata": {},
   "outputs": [
    {
     "data": {
      "application/vnd.microsoft.datawrangler.viewer.v0+json": {
       "columns": [
        {
         "name": "index",
         "rawType": "object",
         "type": "string"
        },
        {
         "name": "0",
         "rawType": "int64",
         "type": "integer"
        }
       ],
       "ref": "cb924801-1352-4800-825d-554be359d10c",
       "rows": [
        [
         "AnimalID",
         "0"
        ],
        [
         "Name",
         "10916"
        ],
        [
         "DateTime",
         "0"
        ],
        [
         "AnimalType",
         "0"
        ],
        [
         "SexuponOutcome",
         "1"
        ],
        [
         "AgeuponOutcome",
         "24"
        ],
        [
         "Breed",
         "0"
        ],
        [
         "Color",
         "0"
        ]
       ],
       "shape": {
        "columns": 1,
        "rows": 8
       }
      },
      "text/plain": [
       "AnimalID              0\n",
       "Name              10916\n",
       "DateTime              0\n",
       "AnimalType            0\n",
       "SexuponOutcome        1\n",
       "AgeuponOutcome       24\n",
       "Breed                 0\n",
       "Color                 0\n",
       "dtype: int64"
      ]
     },
     "execution_count": 21,
     "metadata": {},
     "output_type": "execute_result"
    }
   ],
   "source": [
    "# find null values\n",
    "df.isna().sum()"
   ]
  },
  {
   "cell_type": "code",
   "execution_count": 22,
   "id": "7e73d642",
   "metadata": {},
   "outputs": [
    {
     "data": {
      "text/plain": [
       "(38185, 8)"
      ]
     },
     "execution_count": 22,
     "metadata": {},
     "output_type": "execute_result"
    }
   ],
   "source": [
    "df.shape"
   ]
  },
  {
   "cell_type": "markdown",
   "id": "b071c674",
   "metadata": {},
   "source": [
    "### Before statistical analysis on numeric columns, we have to format some data (temporary)"
   ]
  },
  {
   "cell_type": "code",
   "execution_count": 23,
   "id": "f9b125e7",
   "metadata": {},
   "outputs": [
    {
     "data": {
      "application/vnd.microsoft.datawrangler.viewer.v0+json": {
       "columns": [
        {
         "name": "index",
         "rawType": "int64",
         "type": "integer"
        },
        {
         "name": "DateTime",
         "rawType": "datetime64[ns]",
         "type": "datetime"
        }
       ],
       "ref": "8759801b-c025-4b7e-b18d-075ba9762bba",
       "rows": [
        [
         "0",
         "2014-02-12 18:22:00"
        ],
        [
         "1",
         "2013-10-13 12:44:00"
        ],
        [
         "2",
         "2015-01-31 12:28:00"
        ],
        [
         "3",
         "2014-07-11 19:09:00"
        ],
        [
         "4",
         "2013-11-15 12:52:00"
        ],
        [
         "5",
         "2014-04-25 13:04:00"
        ],
        [
         "6",
         "2015-03-28 13:11:00"
        ],
        [
         "7",
         "2015-04-30 17:02:00"
        ],
        [
         "8",
         "2014-02-04 17:17:00"
        ],
        [
         "9",
         "2014-05-03 07:48:00"
        ],
        [
         "10",
         "2013-12-05 15:50:00"
        ],
        [
         "11",
         "2013-11-04 14:48:00"
        ],
        [
         "12",
         "2016-02-03 11:27:00"
        ],
        [
         "13",
         "2015-06-08 16:30:00"
        ],
        [
         "14",
         "2015-11-25 15:00:00"
        ],
        [
         "15",
         "2014-07-12 12:10:00"
        ],
        [
         "16",
         "2014-05-03 16:15:00"
        ],
        [
         "17",
         "2014-06-07 12:54:00"
        ],
        [
         "18",
         "2014-05-17 11:32:00"
        ],
        [
         "19",
         "2014-07-30 17:34:00"
        ],
        [
         "20",
         "2014-01-19 15:03:00"
        ],
        [
         "21",
         "2015-09-18 15:19:00"
        ],
        [
         "22",
         "2015-08-15 14:22:00"
        ],
        [
         "23",
         "2013-10-28 16:32:00"
        ],
        [
         "24",
         "2014-04-09 17:44:00"
        ],
        [
         "25",
         "2015-10-03 15:44:00"
        ],
        [
         "26",
         "2016-01-15 17:31:00"
        ],
        [
         "27",
         "2015-03-25 18:50:00"
        ],
        [
         "28",
         "2015-11-21 13:01:00"
        ],
        [
         "29",
         "2015-07-30 14:30:00"
        ],
        [
         "30",
         "2016-01-01 13:57:00"
        ],
        [
         "31",
         "2015-07-15 15:25:00"
        ],
        [
         "32",
         "2014-07-03 17:01:00"
        ],
        [
         "33",
         "2013-11-08 13:24:00"
        ],
        [
         "34",
         "2015-04-11 16:01:00"
        ],
        [
         "35",
         "2013-12-06 14:55:00"
        ],
        [
         "36",
         "2013-10-24 11:22:00"
        ],
        [
         "37",
         "2014-07-02 13:37:00"
        ],
        [
         "38",
         "2015-08-11 00:00:00"
        ],
        [
         "39",
         "2015-07-14 12:16:00"
        ],
        [
         "40",
         "2015-04-04 17:26:00"
        ],
        [
         "41",
         "2015-06-23 13:25:00"
        ],
        [
         "42",
         "2013-12-09 15:04:00"
        ],
        [
         "43",
         "2014-01-21 15:15:00"
        ],
        [
         "44",
         "2014-05-28 15:52:00"
        ],
        [
         "45",
         "2014-08-27 07:50:00"
        ],
        [
         "46",
         "2014-08-05 11:15:00"
        ],
        [
         "47",
         "2015-05-05 11:46:00"
        ],
        [
         "48",
         "2015-03-09 17:57:00"
        ],
        [
         "49",
         "2013-10-30 15:37:00"
        ]
       ],
       "shape": {
        "columns": 1,
        "rows": 38185
       }
      },
      "text/plain": [
       "0       2014-02-12 18:22:00\n",
       "1       2013-10-13 12:44:00\n",
       "2       2015-01-31 12:28:00\n",
       "3       2014-07-11 19:09:00\n",
       "4       2013-11-15 12:52:00\n",
       "                ...        \n",
       "11451   2014-07-08 14:50:00\n",
       "11452   2014-10-21 12:57:00\n",
       "11453   2014-09-29 09:00:00\n",
       "11454   2015-09-05 17:16:00\n",
       "11455   2014-07-12 18:40:00\n",
       "Name: DateTime, Length: 38185, dtype: datetime64[ns]"
      ]
     },
     "execution_count": 23,
     "metadata": {},
     "output_type": "execute_result"
    }
   ],
   "source": [
    "# convert datetime column from object to datetime\n",
    "df['DateTime'] = pd.to_datetime(df['DateTime'], errors='raise')\n",
    "df['DateTime']"
   ]
  },
  {
   "cell_type": "code",
   "execution_count": 24,
   "id": "7e182ff7",
   "metadata": {},
   "outputs": [
    {
     "data": {
      "application/vnd.microsoft.datawrangler.viewer.v0+json": {
       "columns": [
        {
         "name": "AgeuponOutcome",
         "rawType": "object",
         "type": "string"
        },
        {
         "name": "count",
         "rawType": "int64",
         "type": "integer"
        }
       ],
       "ref": "e97c4acf-0469-43f8-a384-e2ef39578366",
       "rows": [
        [
         "1 year",
         "5737"
        ],
        [
         "2 years",
         "5383"
        ],
        [
         "2 months",
         "4929"
        ],
        [
         "3 years",
         "2589"
        ],
        [
         "3 months",
         "1788"
        ],
        [
         "1 month",
         "1782"
        ],
        [
         "4 years",
         "1506"
        ],
        [
         "5 years",
         "1406"
        ],
        [
         "4 months",
         "1283"
        ],
        [
         "3 weeks",
         "950"
        ],
        [
         "5 months",
         "929"
        ],
        [
         "6 years",
         "927"
        ],
        [
         "6 months",
         "835"
        ],
        [
         "8 years",
         "772"
        ],
        [
         "7 years",
         "769"
        ],
        [
         "2 weeks",
         "727"
        ],
        [
         "10 months",
         "653"
        ],
        [
         "10 years",
         "598"
        ],
        [
         "8 months",
         "569"
        ],
        [
         "4 weeks",
         "465"
        ],
        [
         "7 months",
         "455"
        ],
        [
         "9 years",
         "394"
        ],
        [
         "12 years",
         "330"
        ],
        [
         "9 months",
         "313"
        ],
        [
         "1 weeks",
         "247"
        ],
        [
         "11 months",
         "241"
        ],
        [
         "1 week",
         "220"
        ],
        [
         "13 years",
         "214"
        ],
        [
         "11 years",
         "174"
        ],
        [
         "3 days",
         "148"
        ],
        [
         "14 years",
         "143"
        ],
        [
         "2 days",
         "139"
        ],
        [
         "15 years",
         "115"
        ],
        [
         "1 day",
         "84"
        ],
        [
         "6 days",
         "80"
        ],
        [
         "4 days",
         "78"
        ],
        [
         "16 years",
         "45"
        ],
        [
         "5 days",
         "38"
        ],
        [
         "0 years",
         "35"
        ],
        [
         "17 years",
         "30"
        ],
        [
         "5 weeks",
         "15"
        ],
        [
         "18 years",
         "12"
        ],
        [
         "20 years",
         "7"
        ],
        [
         "19 years",
         "5"
        ],
        [
         "22 years",
         "2"
        ]
       ],
       "shape": {
        "columns": 1,
        "rows": 45
       }
      },
      "text/plain": [
       "AgeuponOutcome\n",
       "1 year       5737\n",
       "2 years      5383\n",
       "2 months     4929\n",
       "3 years      2589\n",
       "3 months     1788\n",
       "1 month      1782\n",
       "4 years      1506\n",
       "5 years      1406\n",
       "4 months     1283\n",
       "3 weeks       950\n",
       "5 months      929\n",
       "6 years       927\n",
       "6 months      835\n",
       "8 years       772\n",
       "7 years       769\n",
       "2 weeks       727\n",
       "10 months     653\n",
       "10 years      598\n",
       "8 months      569\n",
       "4 weeks       465\n",
       "7 months      455\n",
       "9 years       394\n",
       "12 years      330\n",
       "9 months      313\n",
       "1 weeks       247\n",
       "11 months     241\n",
       "1 week        220\n",
       "13 years      214\n",
       "11 years      174\n",
       "3 days        148\n",
       "14 years      143\n",
       "2 days        139\n",
       "15 years      115\n",
       "1 day          84\n",
       "6 days         80\n",
       "4 days         78\n",
       "16 years       45\n",
       "5 days         38\n",
       "0 years        35\n",
       "17 years       30\n",
       "5 weeks        15\n",
       "18 years       12\n",
       "20 years        7\n",
       "19 years        5\n",
       "22 years        2\n",
       "Name: count, dtype: int64"
      ]
     },
     "execution_count": 24,
     "metadata": {},
     "output_type": "execute_result"
    }
   ],
   "source": [
    "# standarize age column\n",
    "df['AgeuponOutcome'].value_counts()"
   ]
  },
  {
   "cell_type": "code",
   "execution_count": 25,
   "id": "df57fcb6",
   "metadata": {},
   "outputs": [],
   "source": [
    "def standarize_age(age):\n",
    "    if pd.isna(age):\n",
    "        return None\n",
    "    \n",
    "    value, period = age.strip().split()\n",
    "    value = int(value)\n",
    "    \n",
    "    if 'week' in period:\n",
    "        return value * 7\n",
    "    elif 'month' in period:\n",
    "        return value * 30\n",
    "    elif 'year' in period:\n",
    "        return value * 365\n",
    "    else:\n",
    "        return None"
   ]
  },
  {
   "cell_type": "code",
   "execution_count": 26,
   "id": "55dfa810",
   "metadata": {},
   "outputs": [
    {
     "data": {
      "application/vnd.microsoft.datawrangler.viewer.v0+json": {
       "columns": [
        {
         "name": "index",
         "rawType": "int64",
         "type": "integer"
        },
        {
         "name": "AgeuponOutcome",
         "rawType": "object",
         "type": "string"
        }
       ],
       "ref": "2344bd1c-b204-4bf9-bb2f-ee39a8d81947",
       "rows": [
        [
         "0",
         "1 year"
        ],
        [
         "1",
         "1 year"
        ],
        [
         "2",
         "2 years"
        ],
        [
         "3",
         "3 weeks"
        ],
        [
         "4",
         "2 years"
        ],
        [
         "5",
         "1 month"
        ],
        [
         "6",
         "3 weeks"
        ],
        [
         "7",
         "3 weeks"
        ],
        [
         "8",
         "5 months"
        ],
        [
         "9",
         "1 year"
        ]
       ],
       "shape": {
        "columns": 1,
        "rows": 10
       }
      },
      "text/plain": [
       "0      1 year\n",
       "1      1 year\n",
       "2     2 years\n",
       "3     3 weeks\n",
       "4     2 years\n",
       "5     1 month\n",
       "6     3 weeks\n",
       "7     3 weeks\n",
       "8    5 months\n",
       "9      1 year\n",
       "Name: AgeuponOutcome, dtype: object"
      ]
     },
     "execution_count": 26,
     "metadata": {},
     "output_type": "execute_result"
    }
   ],
   "source": [
    "df['AgeuponOutcome'].head(10)"
   ]
  },
  {
   "cell_type": "code",
   "execution_count": 27,
   "id": "b8d751b6",
   "metadata": {},
   "outputs": [
    {
     "data": {
      "application/vnd.microsoft.datawrangler.viewer.v0+json": {
       "columns": [
        {
         "name": "index",
         "rawType": "int64",
         "type": "integer"
        },
        {
         "name": "AgeuponOutcome",
         "rawType": "float64",
         "type": "float"
        }
       ],
       "ref": "63adb0b0-6920-4847-828c-17439b21a7be",
       "rows": [
        [
         "0",
         "365.0"
        ],
        [
         "1",
         "365.0"
        ],
        [
         "2",
         "730.0"
        ],
        [
         "3",
         "21.0"
        ],
        [
         "4",
         "730.0"
        ],
        [
         "5",
         "30.0"
        ],
        [
         "6",
         "21.0"
        ],
        [
         "7",
         "21.0"
        ],
        [
         "8",
         "150.0"
        ],
        [
         "9",
         "365.0"
        ],
        [
         "10",
         "730.0"
        ],
        [
         "11",
         "730.0"
        ],
        [
         "12",
         "1460.0"
        ],
        [
         "13",
         "730.0"
        ],
        [
         "14",
         "365.0"
        ],
        [
         "15",
         "90.0"
        ],
        [
         "16",
         "21.0"
        ],
        [
         "17",
         "14.0"
        ],
        [
         "18",
         "730.0"
        ],
        [
         "19",
         "365.0"
        ],
        [
         "20",
         "60.0"
        ],
        [
         "21",
         "365.0"
        ],
        [
         "22",
         "730.0"
        ],
        [
         "23",
         "300.0"
        ],
        [
         "24",
         "60.0"
        ],
        [
         "25",
         "30.0"
        ],
        [
         "26",
         "180.0"
        ],
        [
         "27",
         "1825.0"
        ],
        [
         "28",
         "60.0"
        ],
        [
         "29",
         "2555.0"
        ],
        [
         "30",
         "1095.0"
        ],
        [
         "31",
         "120.0"
        ],
        [
         "32",
         "60.0"
        ],
        [
         "33",
         "1825.0"
        ],
        [
         "34",
         "1095.0"
        ],
        [
         "35",
         "1095.0"
        ],
        [
         "36",
         "1095.0"
        ],
        [
         "37",
         "60.0"
        ],
        [
         "38",
         "120.0"
        ],
        [
         "39",
         "21.0"
        ],
        [
         "40",
         "2555.0"
        ],
        [
         "41",
         "60.0"
        ],
        [
         "42",
         "60.0"
        ],
        [
         "43",
         "1460.0"
        ],
        [
         "44",
         "730.0"
        ],
        [
         "45",
         "4380.0"
        ],
        [
         "46",
         "3285.0"
        ],
        [
         "47",
         "21.0"
        ],
        [
         "48",
         "150.0"
        ],
        [
         "49",
         "2190.0"
        ]
       ],
       "shape": {
        "columns": 1,
        "rows": 38185
       }
      },
      "text/plain": [
       "0         365.0\n",
       "1         365.0\n",
       "2         730.0\n",
       "3          21.0\n",
       "4         730.0\n",
       "          ...  \n",
       "11451      60.0\n",
       "11452      14.0\n",
       "11453     365.0\n",
       "11454    2190.0\n",
       "11455    1460.0\n",
       "Name: AgeuponOutcome, Length: 38185, dtype: float64"
      ]
     },
     "execution_count": 27,
     "metadata": {},
     "output_type": "execute_result"
    }
   ],
   "source": [
    "df['AgeuponOutcome'].apply(standarize_age)"
   ]
  },
  {
   "cell_type": "code",
   "execution_count": 28,
   "id": "baea8651",
   "metadata": {},
   "outputs": [],
   "source": [
    "# df_1 = df.copy()\n",
    "# df = df_1.copy()"
   ]
  },
  {
   "cell_type": "code",
   "execution_count": 29,
   "id": "3f5991a0",
   "metadata": {},
   "outputs": [],
   "source": [
    "df['AgeuponOutcome'] = df['AgeuponOutcome'].apply(standarize_age)"
   ]
  },
  {
   "cell_type": "code",
   "execution_count": 30,
   "id": "09979d9d",
   "metadata": {},
   "outputs": [
    {
     "name": "stdout",
     "output_type": "stream",
     "text": [
      "<class 'pandas.core.frame.DataFrame'>\n",
      "Index: 38185 entries, 0 to 11455\n",
      "Data columns (total 8 columns):\n",
      " #   Column          Non-Null Count  Dtype         \n",
      "---  ------          --------------  -----         \n",
      " 0   AnimalID        38185 non-null  object        \n",
      " 1   Name            27269 non-null  object        \n",
      " 2   DateTime        38185 non-null  datetime64[ns]\n",
      " 3   AnimalType      38185 non-null  object        \n",
      " 4   SexuponOutcome  38184 non-null  object        \n",
      " 5   AgeuponOutcome  37594 non-null  float64       \n",
      " 6   Breed           38185 non-null  object        \n",
      " 7   Color           38185 non-null  object        \n",
      "dtypes: datetime64[ns](1), float64(1), object(6)\n",
      "memory usage: 2.6+ MB\n"
     ]
    }
   ],
   "source": [
    "df.info()"
   ]
  },
  {
   "cell_type": "code",
   "execution_count": 31,
   "id": "45690353",
   "metadata": {},
   "outputs": [
    {
     "data": {
      "application/vnd.microsoft.datawrangler.viewer.v0+json": {
       "columns": [
        {
         "name": "index",
         "rawType": "int64",
         "type": "integer"
        },
        {
         "name": "Breed",
         "rawType": "object",
         "type": "string"
        }
       ],
       "ref": "ce3708e2-b4ab-49b5-a3ab-e6c194f69d62",
       "rows": [
        [
         "7570",
         "Labrador Retriever Mix"
        ],
        [
         "9371",
         "Pomeranian Mix"
        ],
        [
         "4475",
         "Chihuahua Shorthair Mix"
        ],
        [
         "21237",
         "Domestic Shorthair Mix"
        ],
        [
         "2829",
         "Pit Bull Mix"
        ]
       ],
       "shape": {
        "columns": 1,
        "rows": 5
       }
      },
      "text/plain": [
       "7570      Labrador Retriever Mix\n",
       "9371              Pomeranian Mix\n",
       "4475     Chihuahua Shorthair Mix\n",
       "21237     Domestic Shorthair Mix\n",
       "2829                Pit Bull Mix\n",
       "Name: Breed, dtype: object"
      ]
     },
     "execution_count": 31,
     "metadata": {},
     "output_type": "execute_result"
    }
   ],
   "source": [
    "df['Breed'].sample(5)"
   ]
  },
  {
   "cell_type": "code",
   "execution_count": 32,
   "id": "8fbf594f",
   "metadata": {},
   "outputs": [
    {
     "data": {
      "application/vnd.microsoft.datawrangler.viewer.v0+json": {
       "columns": [
        {
         "name": "Breed",
         "rawType": "object",
         "type": "string"
        },
        {
         "name": "count",
         "rawType": "int64",
         "type": "integer"
        }
       ],
       "ref": "05512bbc-d2ee-4cde-8d2f-a88ab2fb2c6b",
       "rows": [
        [
         "Domestic Shorthair Mix",
         "12587"
        ],
        [
         "Pit Bull Mix",
         "2776"
        ],
        [
         "Chihuahua Shorthair Mix",
         "2498"
        ],
        [
         "Labrador Retriever Mix",
         "1949"
        ],
        [
         "Domestic Medium Hair Mix",
         "1217"
        ],
        [
         "German Shepherd Mix",
         "830"
        ],
        [
         "Domestic Longhair Mix",
         "753"
        ],
        [
         "Siamese Mix",
         "562"
        ],
        [
         "Australian Cattle Dog Mix",
         "513"
        ],
        [
         "Dachshund Mix",
         "437"
        ],
        [
         "Miniature Poodle Mix",
         "336"
        ],
        [
         "Boxer Mix",
         "330"
        ],
        [
         "Border Collie Mix",
         "324"
        ],
        [
         "Australian Shepherd Mix",
         "256"
        ],
        [
         "Rat Terrier Mix",
         "226"
        ],
        [
         "Catahoula Mix",
         "216"
        ],
        [
         "Yorkshire Terrier Mix",
         "213"
        ],
        [
         "Jack Russell Terrier Mix",
         "203"
        ],
        [
         "Miniature Schnauzer Mix",
         "203"
        ],
        [
         "Domestic Shorthair",
         "194"
        ],
        [
         "Siberian Husky Mix",
         "187"
        ],
        [
         "Chihuahua Longhair Mix",
         "186"
        ],
        [
         "Beagle Mix",
         "172"
        ],
        [
         "Rottweiler Mix",
         "162"
        ],
        [
         "American Bulldog Mix",
         "161"
        ],
        [
         "Shih Tzu Mix",
         "152"
        ],
        [
         "Chihuahua Shorthair/Dachshund",
         "151"
        ],
        [
         "Cairn Terrier Mix",
         "150"
        ],
        [
         "Australian Kelpie Mix",
         "138"
        ],
        [
         "Great Pyrenees Mix",
         "137"
        ],
        [
         "Staffordshire Mix",
         "135"
        ],
        [
         "American Staffordshire Terrier Mix",
         "129"
        ],
        [
         "Pointer Mix",
         "128"
        ],
        [
         "Chihuahua Shorthair",
         "125"
        ],
        [
         "Labrador Retriever",
         "110"
        ],
        [
         "Labrador Retriever/Pit Bull",
         "108"
        ],
        [
         "Plott Hound Mix",
         "108"
        ],
        [
         "Snowshoe Mix",
         "105"
        ],
        [
         "Dachshund/Chihuahua Shorthair",
         "104"
        ],
        [
         "Pit Bull",
         "101"
        ],
        [
         "Black Mouth Cur Mix",
         "98"
        ],
        [
         "Miniature Pinscher Mix",
         "98"
        ],
        [
         "Anatol Shepherd Mix",
         "97"
        ],
        [
         "German Shepherd",
         "95"
        ],
        [
         "German Shepherd/Labrador Retriever",
         "95"
        ],
        [
         "American Pit Bull Terrier Mix",
         "94"
        ],
        [
         "Golden Retriever Mix",
         "88"
        ],
        [
         "Labrador Retriever/German Shepherd",
         "81"
        ],
        [
         "Chow Chow Mix",
         "76"
        ],
        [
         "Queensland Heeler Mix",
         "75"
        ]
       ],
       "shape": {
        "columns": 1,
        "rows": 1678
       }
      },
      "text/plain": [
       "Breed\n",
       "Domestic Shorthair Mix               12587\n",
       "Pit Bull Mix                          2776\n",
       "Chihuahua Shorthair Mix               2498\n",
       "Labrador Retriever Mix                1949\n",
       "Domestic Medium Hair Mix              1217\n",
       "                                     ...  \n",
       "Norfolk Terrier/Dachshund                1\n",
       "Miniature Poodle/Golden Retriever        1\n",
       "Labrador Retriever/Chesa Bay Retr        1\n",
       "Norwegian Elkhound Mix                   1\n",
       "Collie Rough/Golden Retriever            1\n",
       "Name: count, Length: 1678, dtype: int64"
      ]
     },
     "execution_count": 32,
     "metadata": {},
     "output_type": "execute_result"
    }
   ],
   "source": [
    "df['Breed'].value_counts()"
   ]
  },
  {
   "cell_type": "code",
   "execution_count": 33,
   "id": "ebe6cd3b",
   "metadata": {},
   "outputs": [
    {
     "data": {
      "text/plain": [
       "1678"
      ]
     },
     "execution_count": 33,
     "metadata": {},
     "output_type": "execute_result"
    }
   ],
   "source": [
    "df['Breed'].nunique()"
   ]
  },
  {
   "cell_type": "code",
   "execution_count": 34,
   "id": "c00a3765",
   "metadata": {},
   "outputs": [
    {
     "data": {
      "application/vnd.microsoft.datawrangler.viewer.v0+json": {
       "columns": [
        {
         "name": "index",
         "rawType": "int64",
         "type": "integer"
        },
        {
         "name": "Color",
         "rawType": "object",
         "type": "string"
        }
       ],
       "ref": "4083b97b-8bd0-4e54-891b-602d1b4ba748",
       "rows": [
        [
         "453",
         "Black/White"
        ],
        [
         "2923",
         "Brown/White"
        ],
        [
         "45",
         "Tricolor"
        ],
        [
         "12852",
         "Black/Tan"
        ],
        [
         "1753",
         "Black/Brown"
        ]
       ],
       "shape": {
        "columns": 1,
        "rows": 5
       }
      },
      "text/plain": [
       "453      Black/White\n",
       "2923     Brown/White\n",
       "45          Tricolor\n",
       "12852      Black/Tan\n",
       "1753     Black/Brown\n",
       "Name: Color, dtype: object"
      ]
     },
     "execution_count": 34,
     "metadata": {},
     "output_type": "execute_result"
    }
   ],
   "source": [
    "df['Color'].sample(5)"
   ]
  },
  {
   "cell_type": "code",
   "execution_count": 35,
   "id": "e8541d16",
   "metadata": {},
   "outputs": [
    {
     "data": {
      "application/vnd.microsoft.datawrangler.viewer.v0+json": {
       "columns": [
        {
         "name": "Color",
         "rawType": "object",
         "type": "string"
        },
        {
         "name": "count",
         "rawType": "int64",
         "type": "integer"
        }
       ],
       "ref": "80510f71-1422-4e53-b4ab-f31cd549b160",
       "rows": [
        [
         "Black/White",
         "4043"
        ],
        [
         "Black",
         "3265"
        ],
        [
         "Brown Tabby",
         "2359"
        ],
        [
         "Brown Tabby/White",
         "1333"
        ],
        [
         "White",
         "1333"
        ],
        [
         "Brown/White",
         "1257"
        ],
        [
         "Orange Tabby",
         "1187"
        ],
        [
         "Tan/White",
         "1114"
        ],
        [
         "Tricolor",
         "1067"
        ],
        [
         "Blue/White",
         "1004"
        ],
        [
         "Black/Tan",
         "986"
        ],
        [
         "White/Black",
         "945"
        ],
        [
         "Tan",
         "910"
        ],
        [
         "Brown",
         "895"
        ],
        [
         "White/Brown",
         "771"
        ],
        [
         "Tortie",
         "770"
        ],
        [
         "Calico",
         "710"
        ],
        [
         "Blue",
         "674"
        ],
        [
         "Brown Brindle/White",
         "661"
        ],
        [
         "Orange Tabby/White",
         "629"
        ],
        [
         "Black/Brown",
         "624"
        ],
        [
         "Blue Tabby",
         "616"
        ],
        [
         "White/Tan",
         "557"
        ],
        [
         "Brown/Black",
         "493"
        ],
        [
         "Torbie",
         "474"
        ],
        [
         "Red/White",
         "471"
        ],
        [
         "Red",
         "470"
        ],
        [
         "Brown Brindle",
         "347"
        ],
        [
         "Blue Tabby/White",
         "336"
        ],
        [
         "Chocolate/White",
         "321"
        ],
        [
         "Cream Tabby",
         "309"
        ],
        [
         "Sable",
         "277"
        ],
        [
         "Yellow",
         "275"
        ],
        [
         "Buff",
         "259"
        ],
        [
         "Lynx Point",
         "255"
        ],
        [
         "Tan/Black",
         "254"
        ],
        [
         "Cream",
         "222"
        ],
        [
         "Chocolate",
         "205"
        ],
        [
         "Seal Point",
         "204"
        ],
        [
         "White/Blue",
         "184"
        ],
        [
         "White/Brown Brindle",
         "163"
        ],
        [
         "Fawn/White",
         "152"
        ],
        [
         "White/Brown Tabby",
         "143"
        ],
        [
         "Gray/White",
         "131"
        ],
        [
         "Cream Tabby/White",
         "129"
        ],
        [
         "Sable/White",
         "121"
        ],
        [
         "Flame Point",
         "120"
        ],
        [
         "Gray",
         "118"
        ],
        [
         "Blue Merle",
         "118"
        ],
        [
         "Fawn",
         "102"
        ]
       ],
       "shape": {
        "columns": 1,
        "rows": 411
       }
      },
      "text/plain": [
       "Color\n",
       "Black/White                  4043\n",
       "Black                        3265\n",
       "Brown Tabby                  2359\n",
       "Brown Tabby/White            1333\n",
       "White                        1333\n",
       "                             ... \n",
       "Brown Brindle/Brown Merle       1\n",
       "Blue/Brown                      1\n",
       "Calico/Orange Tabby             1\n",
       "White/Flame Point               1\n",
       "Gray/Blue                       1\n",
       "Name: count, Length: 411, dtype: int64"
      ]
     },
     "execution_count": 35,
     "metadata": {},
     "output_type": "execute_result"
    }
   ],
   "source": [
    "df['Color'].value_counts()"
   ]
  },
  {
   "cell_type": "code",
   "execution_count": 36,
   "id": "8aac3570",
   "metadata": {},
   "outputs": [
    {
     "data": {
      "text/plain": [
       "411"
      ]
     },
     "execution_count": 36,
     "metadata": {},
     "output_type": "execute_result"
    }
   ],
   "source": [
    "df['Color'].nunique()"
   ]
  },
  {
   "cell_type": "markdown",
   "id": "3e921f52",
   "metadata": {},
   "source": [
    "### Add a column isMix to reduce reed dimensionality"
   ]
  },
  {
   "cell_type": "code",
   "execution_count": 37,
   "id": "3e02246e",
   "metadata": {},
   "outputs": [
    {
     "data": {
      "application/vnd.microsoft.datawrangler.viewer.v0+json": {
       "columns": [
        {
         "name": "index",
         "rawType": "int64",
         "type": "integer"
        },
        {
         "name": "Breed",
         "rawType": "bool",
         "type": "boolean"
        }
       ],
       "ref": "c34201f0-c1e3-4231-90dc-30a2169acd38",
       "rows": [
        [
         "0",
         "True"
        ],
        [
         "1",
         "True"
        ],
        [
         "2",
         "True"
        ],
        [
         "3",
         "True"
        ],
        [
         "4",
         "False"
        ],
        [
         "5",
         "False"
        ],
        [
         "6",
         "True"
        ],
        [
         "7",
         "True"
        ],
        [
         "8",
         "True"
        ],
        [
         "9",
         "False"
        ],
        [
         "10",
         "True"
        ],
        [
         "11",
         "True"
        ],
        [
         "12",
         "True"
        ],
        [
         "13",
         "True"
        ],
        [
         "14",
         "True"
        ],
        [
         "15",
         "True"
        ],
        [
         "16",
         "True"
        ],
        [
         "17",
         "True"
        ],
        [
         "18",
         "True"
        ],
        [
         "19",
         "True"
        ],
        [
         "20",
         "True"
        ],
        [
         "21",
         "True"
        ],
        [
         "22",
         "False"
        ],
        [
         "23",
         "True"
        ],
        [
         "24",
         "True"
        ],
        [
         "25",
         "True"
        ],
        [
         "26",
         "True"
        ],
        [
         "27",
         "True"
        ],
        [
         "28",
         "True"
        ],
        [
         "29",
         "True"
        ],
        [
         "30",
         "True"
        ],
        [
         "31",
         "True"
        ],
        [
         "32",
         "True"
        ],
        [
         "33",
         "False"
        ],
        [
         "34",
         "True"
        ],
        [
         "35",
         "True"
        ],
        [
         "36",
         "True"
        ],
        [
         "37",
         "True"
        ],
        [
         "38",
         "True"
        ],
        [
         "39",
         "True"
        ],
        [
         "40",
         "True"
        ],
        [
         "41",
         "True"
        ],
        [
         "42",
         "True"
        ],
        [
         "43",
         "True"
        ],
        [
         "44",
         "True"
        ],
        [
         "45",
         "False"
        ],
        [
         "46",
         "True"
        ],
        [
         "47",
         "True"
        ],
        [
         "48",
         "True"
        ],
        [
         "49",
         "False"
        ]
       ],
       "shape": {
        "columns": 1,
        "rows": 38185
       }
      },
      "text/plain": [
       "0         True\n",
       "1         True\n",
       "2         True\n",
       "3         True\n",
       "4        False\n",
       "         ...  \n",
       "11451     True\n",
       "11452     True\n",
       "11453     True\n",
       "11454     True\n",
       "11455    False\n",
       "Name: Breed, Length: 38185, dtype: bool"
      ]
     },
     "execution_count": 37,
     "metadata": {},
     "output_type": "execute_result"
    }
   ],
   "source": [
    "df['Breed'].str.contains('Mix')"
   ]
  },
  {
   "cell_type": "code",
   "execution_count": 38,
   "id": "5e7d22b7",
   "metadata": {},
   "outputs": [],
   "source": [
    "df.loc[df['Breed'].str.contains('Mix'), 'isMix'] = True"
   ]
  },
  {
   "cell_type": "code",
   "execution_count": 39,
   "id": "e3919b88",
   "metadata": {},
   "outputs": [
    {
     "data": {
      "application/vnd.microsoft.datawrangler.viewer.v0+json": {
       "columns": [
        {
         "name": "index",
         "rawType": "int64",
         "type": "integer"
        },
        {
         "name": "AnimalID",
         "rawType": "object",
         "type": "string"
        },
        {
         "name": "Name",
         "rawType": "object",
         "type": "unknown"
        },
        {
         "name": "DateTime",
         "rawType": "datetime64[ns]",
         "type": "datetime"
        },
        {
         "name": "AnimalType",
         "rawType": "object",
         "type": "string"
        },
        {
         "name": "SexuponOutcome",
         "rawType": "object",
         "type": "string"
        },
        {
         "name": "AgeuponOutcome",
         "rawType": "float64",
         "type": "float"
        },
        {
         "name": "Breed",
         "rawType": "object",
         "type": "string"
        },
        {
         "name": "Color",
         "rawType": "object",
         "type": "string"
        },
        {
         "name": "isMix",
         "rawType": "object",
         "type": "unknown"
        }
       ],
       "ref": "3048b728-7bc3-4453-ae93-9ebd81663d58",
       "rows": [
        [
         "0",
         "A671945",
         "Hambone",
         "2014-02-12 18:22:00",
         "Dog",
         "Neutered Male",
         "365.0",
         "Shetland Sheepdog Mix",
         "Brown/White",
         "True"
        ],
        [
         "1",
         "A656520",
         "Emily",
         "2013-10-13 12:44:00",
         "Cat",
         "Spayed Female",
         "365.0",
         "Domestic Shorthair Mix",
         "Cream Tabby",
         "True"
        ],
        [
         "2",
         "A686464",
         "Pearce",
         "2015-01-31 12:28:00",
         "Dog",
         "Neutered Male",
         "730.0",
         "Pit Bull Mix",
         "Blue/White",
         "True"
        ],
        [
         "3",
         "A683430",
         null,
         "2014-07-11 19:09:00",
         "Cat",
         "Intact Male",
         "21.0",
         "Domestic Shorthair Mix",
         "Blue Cream",
         "True"
        ],
        [
         "4",
         "A667013",
         null,
         "2013-11-15 12:52:00",
         "Dog",
         "Neutered Male",
         "730.0",
         "Lhasa Apso/Miniature Poodle",
         "Tan",
         null
        ],
        [
         "5",
         "A677334",
         "Elsa",
         "2014-04-25 13:04:00",
         "Dog",
         "Intact Female",
         "30.0",
         "Cairn Terrier/Chihuahua Shorthair",
         "Black/Tan",
         null
        ],
        [
         "6",
         "A699218",
         "Jimmy",
         "2015-03-28 13:11:00",
         "Cat",
         "Intact Male",
         "21.0",
         "Domestic Shorthair Mix",
         "Blue Tabby",
         "True"
        ],
        [
         "7",
         "A701489",
         null,
         "2015-04-30 17:02:00",
         "Cat",
         "Unknown",
         "21.0",
         "Domestic Shorthair Mix",
         "Brown Tabby",
         "True"
        ],
        [
         "8",
         "A671784",
         "Lucy",
         "2014-02-04 17:17:00",
         "Dog",
         "Spayed Female",
         "150.0",
         "American Pit Bull Terrier Mix",
         "Red/White",
         "True"
        ],
        [
         "9",
         "A677747",
         null,
         "2014-05-03 07:48:00",
         "Dog",
         "Spayed Female",
         "365.0",
         "Cairn Terrier",
         "White",
         null
        ]
       ],
       "shape": {
        "columns": 9,
        "rows": 10
       }
      },
      "text/html": [
       "<div>\n",
       "<style scoped>\n",
       "    .dataframe tbody tr th:only-of-type {\n",
       "        vertical-align: middle;\n",
       "    }\n",
       "\n",
       "    .dataframe tbody tr th {\n",
       "        vertical-align: top;\n",
       "    }\n",
       "\n",
       "    .dataframe thead th {\n",
       "        text-align: right;\n",
       "    }\n",
       "</style>\n",
       "<table border=\"1\" class=\"dataframe\">\n",
       "  <thead>\n",
       "    <tr style=\"text-align: right;\">\n",
       "      <th></th>\n",
       "      <th>AnimalID</th>\n",
       "      <th>Name</th>\n",
       "      <th>DateTime</th>\n",
       "      <th>AnimalType</th>\n",
       "      <th>SexuponOutcome</th>\n",
       "      <th>AgeuponOutcome</th>\n",
       "      <th>Breed</th>\n",
       "      <th>Color</th>\n",
       "      <th>isMix</th>\n",
       "    </tr>\n",
       "  </thead>\n",
       "  <tbody>\n",
       "    <tr>\n",
       "      <th>0</th>\n",
       "      <td>A671945</td>\n",
       "      <td>Hambone</td>\n",
       "      <td>2014-02-12 18:22:00</td>\n",
       "      <td>Dog</td>\n",
       "      <td>Neutered Male</td>\n",
       "      <td>365.0</td>\n",
       "      <td>Shetland Sheepdog Mix</td>\n",
       "      <td>Brown/White</td>\n",
       "      <td>True</td>\n",
       "    </tr>\n",
       "    <tr>\n",
       "      <th>1</th>\n",
       "      <td>A656520</td>\n",
       "      <td>Emily</td>\n",
       "      <td>2013-10-13 12:44:00</td>\n",
       "      <td>Cat</td>\n",
       "      <td>Spayed Female</td>\n",
       "      <td>365.0</td>\n",
       "      <td>Domestic Shorthair Mix</td>\n",
       "      <td>Cream Tabby</td>\n",
       "      <td>True</td>\n",
       "    </tr>\n",
       "    <tr>\n",
       "      <th>2</th>\n",
       "      <td>A686464</td>\n",
       "      <td>Pearce</td>\n",
       "      <td>2015-01-31 12:28:00</td>\n",
       "      <td>Dog</td>\n",
       "      <td>Neutered Male</td>\n",
       "      <td>730.0</td>\n",
       "      <td>Pit Bull Mix</td>\n",
       "      <td>Blue/White</td>\n",
       "      <td>True</td>\n",
       "    </tr>\n",
       "    <tr>\n",
       "      <th>3</th>\n",
       "      <td>A683430</td>\n",
       "      <td>NaN</td>\n",
       "      <td>2014-07-11 19:09:00</td>\n",
       "      <td>Cat</td>\n",
       "      <td>Intact Male</td>\n",
       "      <td>21.0</td>\n",
       "      <td>Domestic Shorthair Mix</td>\n",
       "      <td>Blue Cream</td>\n",
       "      <td>True</td>\n",
       "    </tr>\n",
       "    <tr>\n",
       "      <th>4</th>\n",
       "      <td>A667013</td>\n",
       "      <td>NaN</td>\n",
       "      <td>2013-11-15 12:52:00</td>\n",
       "      <td>Dog</td>\n",
       "      <td>Neutered Male</td>\n",
       "      <td>730.0</td>\n",
       "      <td>Lhasa Apso/Miniature Poodle</td>\n",
       "      <td>Tan</td>\n",
       "      <td>NaN</td>\n",
       "    </tr>\n",
       "    <tr>\n",
       "      <th>5</th>\n",
       "      <td>A677334</td>\n",
       "      <td>Elsa</td>\n",
       "      <td>2014-04-25 13:04:00</td>\n",
       "      <td>Dog</td>\n",
       "      <td>Intact Female</td>\n",
       "      <td>30.0</td>\n",
       "      <td>Cairn Terrier/Chihuahua Shorthair</td>\n",
       "      <td>Black/Tan</td>\n",
       "      <td>NaN</td>\n",
       "    </tr>\n",
       "    <tr>\n",
       "      <th>6</th>\n",
       "      <td>A699218</td>\n",
       "      <td>Jimmy</td>\n",
       "      <td>2015-03-28 13:11:00</td>\n",
       "      <td>Cat</td>\n",
       "      <td>Intact Male</td>\n",
       "      <td>21.0</td>\n",
       "      <td>Domestic Shorthair Mix</td>\n",
       "      <td>Blue Tabby</td>\n",
       "      <td>True</td>\n",
       "    </tr>\n",
       "    <tr>\n",
       "      <th>7</th>\n",
       "      <td>A701489</td>\n",
       "      <td>NaN</td>\n",
       "      <td>2015-04-30 17:02:00</td>\n",
       "      <td>Cat</td>\n",
       "      <td>Unknown</td>\n",
       "      <td>21.0</td>\n",
       "      <td>Domestic Shorthair Mix</td>\n",
       "      <td>Brown Tabby</td>\n",
       "      <td>True</td>\n",
       "    </tr>\n",
       "    <tr>\n",
       "      <th>8</th>\n",
       "      <td>A671784</td>\n",
       "      <td>Lucy</td>\n",
       "      <td>2014-02-04 17:17:00</td>\n",
       "      <td>Dog</td>\n",
       "      <td>Spayed Female</td>\n",
       "      <td>150.0</td>\n",
       "      <td>American Pit Bull Terrier Mix</td>\n",
       "      <td>Red/White</td>\n",
       "      <td>True</td>\n",
       "    </tr>\n",
       "    <tr>\n",
       "      <th>9</th>\n",
       "      <td>A677747</td>\n",
       "      <td>NaN</td>\n",
       "      <td>2014-05-03 07:48:00</td>\n",
       "      <td>Dog</td>\n",
       "      <td>Spayed Female</td>\n",
       "      <td>365.0</td>\n",
       "      <td>Cairn Terrier</td>\n",
       "      <td>White</td>\n",
       "      <td>NaN</td>\n",
       "    </tr>\n",
       "  </tbody>\n",
       "</table>\n",
       "</div>"
      ],
      "text/plain": [
       "  AnimalID     Name            DateTime AnimalType SexuponOutcome  \\\n",
       "0  A671945  Hambone 2014-02-12 18:22:00        Dog  Neutered Male   \n",
       "1  A656520    Emily 2013-10-13 12:44:00        Cat  Spayed Female   \n",
       "2  A686464   Pearce 2015-01-31 12:28:00        Dog  Neutered Male   \n",
       "3  A683430      NaN 2014-07-11 19:09:00        Cat    Intact Male   \n",
       "4  A667013      NaN 2013-11-15 12:52:00        Dog  Neutered Male   \n",
       "5  A677334     Elsa 2014-04-25 13:04:00        Dog  Intact Female   \n",
       "6  A699218    Jimmy 2015-03-28 13:11:00        Cat    Intact Male   \n",
       "7  A701489      NaN 2015-04-30 17:02:00        Cat        Unknown   \n",
       "8  A671784     Lucy 2014-02-04 17:17:00        Dog  Spayed Female   \n",
       "9  A677747      NaN 2014-05-03 07:48:00        Dog  Spayed Female   \n",
       "\n",
       "   AgeuponOutcome                              Breed        Color isMix  \n",
       "0           365.0              Shetland Sheepdog Mix  Brown/White  True  \n",
       "1           365.0             Domestic Shorthair Mix  Cream Tabby  True  \n",
       "2           730.0                       Pit Bull Mix   Blue/White  True  \n",
       "3            21.0             Domestic Shorthair Mix   Blue Cream  True  \n",
       "4           730.0        Lhasa Apso/Miniature Poodle          Tan   NaN  \n",
       "5            30.0  Cairn Terrier/Chihuahua Shorthair    Black/Tan   NaN  \n",
       "6            21.0             Domestic Shorthair Mix   Blue Tabby  True  \n",
       "7            21.0             Domestic Shorthair Mix  Brown Tabby  True  \n",
       "8           150.0      American Pit Bull Terrier Mix    Red/White  True  \n",
       "9           365.0                      Cairn Terrier        White   NaN  "
      ]
     },
     "execution_count": 39,
     "metadata": {},
     "output_type": "execute_result"
    }
   ],
   "source": [
    "df.head(10)"
   ]
  },
  {
   "cell_type": "code",
   "execution_count": 40,
   "id": "ae81f299",
   "metadata": {},
   "outputs": [],
   "source": [
    "df.loc[df['isMix'].isna(), 'isMix'] = False"
   ]
  },
  {
   "cell_type": "code",
   "execution_count": 41,
   "id": "0215c53c",
   "metadata": {},
   "outputs": [
    {
     "data": {
      "application/vnd.microsoft.datawrangler.viewer.v0+json": {
       "columns": [
        {
         "name": "index",
         "rawType": "int64",
         "type": "integer"
        },
        {
         "name": "AnimalID",
         "rawType": "object",
         "type": "string"
        },
        {
         "name": "Name",
         "rawType": "object",
         "type": "unknown"
        },
        {
         "name": "DateTime",
         "rawType": "datetime64[ns]",
         "type": "datetime"
        },
        {
         "name": "AnimalType",
         "rawType": "object",
         "type": "string"
        },
        {
         "name": "SexuponOutcome",
         "rawType": "object",
         "type": "string"
        },
        {
         "name": "AgeuponOutcome",
         "rawType": "float64",
         "type": "float"
        },
        {
         "name": "Breed",
         "rawType": "object",
         "type": "string"
        },
        {
         "name": "Color",
         "rawType": "object",
         "type": "string"
        },
        {
         "name": "isMix",
         "rawType": "object",
         "type": "unknown"
        }
       ],
       "ref": "6a81a58a-907e-4b43-b74b-6876da6a75b5",
       "rows": [
        [
         "0",
         "A671945",
         "Hambone",
         "2014-02-12 18:22:00",
         "Dog",
         "Neutered Male",
         "365.0",
         "Shetland Sheepdog Mix",
         "Brown/White",
         "True"
        ],
        [
         "1",
         "A656520",
         "Emily",
         "2013-10-13 12:44:00",
         "Cat",
         "Spayed Female",
         "365.0",
         "Domestic Shorthair Mix",
         "Cream Tabby",
         "True"
        ],
        [
         "2",
         "A686464",
         "Pearce",
         "2015-01-31 12:28:00",
         "Dog",
         "Neutered Male",
         "730.0",
         "Pit Bull Mix",
         "Blue/White",
         "True"
        ],
        [
         "3",
         "A683430",
         null,
         "2014-07-11 19:09:00",
         "Cat",
         "Intact Male",
         "21.0",
         "Domestic Shorthair Mix",
         "Blue Cream",
         "True"
        ],
        [
         "4",
         "A667013",
         null,
         "2013-11-15 12:52:00",
         "Dog",
         "Neutered Male",
         "730.0",
         "Lhasa Apso/Miniature Poodle",
         "Tan",
         "False"
        ],
        [
         "5",
         "A677334",
         "Elsa",
         "2014-04-25 13:04:00",
         "Dog",
         "Intact Female",
         "30.0",
         "Cairn Terrier/Chihuahua Shorthair",
         "Black/Tan",
         "False"
        ],
        [
         "6",
         "A699218",
         "Jimmy",
         "2015-03-28 13:11:00",
         "Cat",
         "Intact Male",
         "21.0",
         "Domestic Shorthair Mix",
         "Blue Tabby",
         "True"
        ],
        [
         "7",
         "A701489",
         null,
         "2015-04-30 17:02:00",
         "Cat",
         "Unknown",
         "21.0",
         "Domestic Shorthair Mix",
         "Brown Tabby",
         "True"
        ],
        [
         "8",
         "A671784",
         "Lucy",
         "2014-02-04 17:17:00",
         "Dog",
         "Spayed Female",
         "150.0",
         "American Pit Bull Terrier Mix",
         "Red/White",
         "True"
        ],
        [
         "9",
         "A677747",
         null,
         "2014-05-03 07:48:00",
         "Dog",
         "Spayed Female",
         "365.0",
         "Cairn Terrier",
         "White",
         "False"
        ]
       ],
       "shape": {
        "columns": 9,
        "rows": 10
       }
      },
      "text/html": [
       "<div>\n",
       "<style scoped>\n",
       "    .dataframe tbody tr th:only-of-type {\n",
       "        vertical-align: middle;\n",
       "    }\n",
       "\n",
       "    .dataframe tbody tr th {\n",
       "        vertical-align: top;\n",
       "    }\n",
       "\n",
       "    .dataframe thead th {\n",
       "        text-align: right;\n",
       "    }\n",
       "</style>\n",
       "<table border=\"1\" class=\"dataframe\">\n",
       "  <thead>\n",
       "    <tr style=\"text-align: right;\">\n",
       "      <th></th>\n",
       "      <th>AnimalID</th>\n",
       "      <th>Name</th>\n",
       "      <th>DateTime</th>\n",
       "      <th>AnimalType</th>\n",
       "      <th>SexuponOutcome</th>\n",
       "      <th>AgeuponOutcome</th>\n",
       "      <th>Breed</th>\n",
       "      <th>Color</th>\n",
       "      <th>isMix</th>\n",
       "    </tr>\n",
       "  </thead>\n",
       "  <tbody>\n",
       "    <tr>\n",
       "      <th>0</th>\n",
       "      <td>A671945</td>\n",
       "      <td>Hambone</td>\n",
       "      <td>2014-02-12 18:22:00</td>\n",
       "      <td>Dog</td>\n",
       "      <td>Neutered Male</td>\n",
       "      <td>365.0</td>\n",
       "      <td>Shetland Sheepdog Mix</td>\n",
       "      <td>Brown/White</td>\n",
       "      <td>True</td>\n",
       "    </tr>\n",
       "    <tr>\n",
       "      <th>1</th>\n",
       "      <td>A656520</td>\n",
       "      <td>Emily</td>\n",
       "      <td>2013-10-13 12:44:00</td>\n",
       "      <td>Cat</td>\n",
       "      <td>Spayed Female</td>\n",
       "      <td>365.0</td>\n",
       "      <td>Domestic Shorthair Mix</td>\n",
       "      <td>Cream Tabby</td>\n",
       "      <td>True</td>\n",
       "    </tr>\n",
       "    <tr>\n",
       "      <th>2</th>\n",
       "      <td>A686464</td>\n",
       "      <td>Pearce</td>\n",
       "      <td>2015-01-31 12:28:00</td>\n",
       "      <td>Dog</td>\n",
       "      <td>Neutered Male</td>\n",
       "      <td>730.0</td>\n",
       "      <td>Pit Bull Mix</td>\n",
       "      <td>Blue/White</td>\n",
       "      <td>True</td>\n",
       "    </tr>\n",
       "    <tr>\n",
       "      <th>3</th>\n",
       "      <td>A683430</td>\n",
       "      <td>NaN</td>\n",
       "      <td>2014-07-11 19:09:00</td>\n",
       "      <td>Cat</td>\n",
       "      <td>Intact Male</td>\n",
       "      <td>21.0</td>\n",
       "      <td>Domestic Shorthair Mix</td>\n",
       "      <td>Blue Cream</td>\n",
       "      <td>True</td>\n",
       "    </tr>\n",
       "    <tr>\n",
       "      <th>4</th>\n",
       "      <td>A667013</td>\n",
       "      <td>NaN</td>\n",
       "      <td>2013-11-15 12:52:00</td>\n",
       "      <td>Dog</td>\n",
       "      <td>Neutered Male</td>\n",
       "      <td>730.0</td>\n",
       "      <td>Lhasa Apso/Miniature Poodle</td>\n",
       "      <td>Tan</td>\n",
       "      <td>False</td>\n",
       "    </tr>\n",
       "    <tr>\n",
       "      <th>5</th>\n",
       "      <td>A677334</td>\n",
       "      <td>Elsa</td>\n",
       "      <td>2014-04-25 13:04:00</td>\n",
       "      <td>Dog</td>\n",
       "      <td>Intact Female</td>\n",
       "      <td>30.0</td>\n",
       "      <td>Cairn Terrier/Chihuahua Shorthair</td>\n",
       "      <td>Black/Tan</td>\n",
       "      <td>False</td>\n",
       "    </tr>\n",
       "    <tr>\n",
       "      <th>6</th>\n",
       "      <td>A699218</td>\n",
       "      <td>Jimmy</td>\n",
       "      <td>2015-03-28 13:11:00</td>\n",
       "      <td>Cat</td>\n",
       "      <td>Intact Male</td>\n",
       "      <td>21.0</td>\n",
       "      <td>Domestic Shorthair Mix</td>\n",
       "      <td>Blue Tabby</td>\n",
       "      <td>True</td>\n",
       "    </tr>\n",
       "    <tr>\n",
       "      <th>7</th>\n",
       "      <td>A701489</td>\n",
       "      <td>NaN</td>\n",
       "      <td>2015-04-30 17:02:00</td>\n",
       "      <td>Cat</td>\n",
       "      <td>Unknown</td>\n",
       "      <td>21.0</td>\n",
       "      <td>Domestic Shorthair Mix</td>\n",
       "      <td>Brown Tabby</td>\n",
       "      <td>True</td>\n",
       "    </tr>\n",
       "    <tr>\n",
       "      <th>8</th>\n",
       "      <td>A671784</td>\n",
       "      <td>Lucy</td>\n",
       "      <td>2014-02-04 17:17:00</td>\n",
       "      <td>Dog</td>\n",
       "      <td>Spayed Female</td>\n",
       "      <td>150.0</td>\n",
       "      <td>American Pit Bull Terrier Mix</td>\n",
       "      <td>Red/White</td>\n",
       "      <td>True</td>\n",
       "    </tr>\n",
       "    <tr>\n",
       "      <th>9</th>\n",
       "      <td>A677747</td>\n",
       "      <td>NaN</td>\n",
       "      <td>2014-05-03 07:48:00</td>\n",
       "      <td>Dog</td>\n",
       "      <td>Spayed Female</td>\n",
       "      <td>365.0</td>\n",
       "      <td>Cairn Terrier</td>\n",
       "      <td>White</td>\n",
       "      <td>False</td>\n",
       "    </tr>\n",
       "  </tbody>\n",
       "</table>\n",
       "</div>"
      ],
      "text/plain": [
       "  AnimalID     Name            DateTime AnimalType SexuponOutcome  \\\n",
       "0  A671945  Hambone 2014-02-12 18:22:00        Dog  Neutered Male   \n",
       "1  A656520    Emily 2013-10-13 12:44:00        Cat  Spayed Female   \n",
       "2  A686464   Pearce 2015-01-31 12:28:00        Dog  Neutered Male   \n",
       "3  A683430      NaN 2014-07-11 19:09:00        Cat    Intact Male   \n",
       "4  A667013      NaN 2013-11-15 12:52:00        Dog  Neutered Male   \n",
       "5  A677334     Elsa 2014-04-25 13:04:00        Dog  Intact Female   \n",
       "6  A699218    Jimmy 2015-03-28 13:11:00        Cat    Intact Male   \n",
       "7  A701489      NaN 2015-04-30 17:02:00        Cat        Unknown   \n",
       "8  A671784     Lucy 2014-02-04 17:17:00        Dog  Spayed Female   \n",
       "9  A677747      NaN 2014-05-03 07:48:00        Dog  Spayed Female   \n",
       "\n",
       "   AgeuponOutcome                              Breed        Color  isMix  \n",
       "0           365.0              Shetland Sheepdog Mix  Brown/White   True  \n",
       "1           365.0             Domestic Shorthair Mix  Cream Tabby   True  \n",
       "2           730.0                       Pit Bull Mix   Blue/White   True  \n",
       "3            21.0             Domestic Shorthair Mix   Blue Cream   True  \n",
       "4           730.0        Lhasa Apso/Miniature Poodle          Tan  False  \n",
       "5            30.0  Cairn Terrier/Chihuahua Shorthair    Black/Tan  False  \n",
       "6            21.0             Domestic Shorthair Mix   Blue Tabby   True  \n",
       "7            21.0             Domestic Shorthair Mix  Brown Tabby   True  \n",
       "8           150.0      American Pit Bull Terrier Mix    Red/White   True  \n",
       "9           365.0                      Cairn Terrier        White  False  "
      ]
     },
     "execution_count": 41,
     "metadata": {},
     "output_type": "execute_result"
    }
   ],
   "source": [
    "df.head(10)"
   ]
  },
  {
   "cell_type": "code",
   "execution_count": 42,
   "id": "9f32d23b",
   "metadata": {},
   "outputs": [],
   "source": [
    "df['Breed'] = df['Breed'].str.replace('Mix', '').str.strip()"
   ]
  },
  {
   "cell_type": "code",
   "execution_count": 43,
   "id": "76b52f9a",
   "metadata": {},
   "outputs": [
    {
     "data": {
      "application/vnd.microsoft.datawrangler.viewer.v0+json": {
       "columns": [
        {
         "name": "Breed",
         "rawType": "object",
         "type": "string"
        },
        {
         "name": "count",
         "rawType": "int64",
         "type": "integer"
        }
       ],
       "ref": "b3bdd175-584c-4235-aa17-4e0f451f8033",
       "rows": [
        [
         "Domestic Shorthair",
         "12781"
        ],
        [
         "Pit Bull",
         "2877"
        ],
        [
         "Chihuahua Shorthair",
         "2623"
        ],
        [
         "Labrador Retriever",
         "2059"
        ],
        [
         "Domestic Medium Hair",
         "1284"
        ],
        [
         "German Shepherd",
         "925"
        ],
        [
         "Domestic Longhair",
         "780"
        ],
        [
         "Siamese",
         "599"
        ],
        [
         "Australian Cattle Dog",
         "554"
        ],
        [
         "Dachshund",
         "507"
        ],
        [
         "Boxer",
         "378"
        ],
        [
         "Miniature Poodle",
         "365"
        ],
        [
         "Border Collie",
         "347"
        ],
        [
         "Australian Shepherd",
         "274"
        ],
        [
         "Rat Terrier",
         "249"
        ],
        [
         "Yorkshire Terrier",
         "243"
        ],
        [
         "Miniature Schnauzer",
         "235"
        ],
        [
         "Siberian Husky",
         "232"
        ],
        [
         "Shih Tzu",
         "227"
        ],
        [
         "Jack Russell Terrier",
         "225"
        ],
        [
         "Catahoula",
         "224"
        ],
        [
         "Rottweiler",
         "214"
        ],
        [
         "Beagle",
         "202"
        ],
        [
         "Chihuahua Longhair",
         "197"
        ],
        [
         "American Bulldog",
         "170"
        ],
        [
         "Cairn Terrier",
         "162"
        ],
        [
         "Great Pyrenees",
         "160"
        ],
        [
         "Chihuahua Shorthair/Dachshund",
         "151"
        ],
        [
         "American Staffordshire Terrier",
         "147"
        ],
        [
         "Australian Kelpie",
         "145"
        ],
        [
         "Staffordshire",
         "144"
        ],
        [
         "Pointer",
         "133"
        ],
        [
         "Miniature Pinscher",
         "115"
        ],
        [
         "Plott Hound",
         "115"
        ],
        [
         "Snowshoe",
         "110"
        ],
        [
         "Anatol Shepherd",
         "110"
        ],
        [
         "Labrador Retriever/Pit Bull",
         "108"
        ],
        [
         "Black Mouth Cur",
         "104"
        ],
        [
         "Golden Retriever",
         "104"
        ],
        [
         "Dachshund/Chihuahua Shorthair",
         "104"
        ],
        [
         "American Pit Bull Terrier",
         "100"
        ],
        [
         "Maltese",
         "100"
        ],
        [
         "Pug",
         "95"
        ],
        [
         "German Shepherd/Labrador Retriever",
         "95"
        ],
        [
         "Chow Chow",
         "85"
        ],
        [
         "Cocker Spaniel",
         "82"
        ],
        [
         "Labrador Retriever/German Shepherd",
         "81"
        ],
        [
         "Doberman Pinsch",
         "80"
        ],
        [
         "Basset Hound",
         "79"
        ],
        [
         "Queensland Heeler",
         "78"
        ]
       ],
       "shape": {
        "columns": 1,
        "rows": 1527
       }
      },
      "text/plain": [
       "Breed\n",
       "Domestic Shorthair                           12781\n",
       "Pit Bull                                      2877\n",
       "Chihuahua Shorthair                           2623\n",
       "Labrador Retriever                            2059\n",
       "Domestic Medium Hair                          1284\n",
       "                                             ...  \n",
       "Shiba Inu/Siberian Husky                         1\n",
       "Cardigan Welsh Corgi/Jack Russell Terrier        1\n",
       "Norfolk Terrier/Dachshund                        1\n",
       "Miniature Poodle/Golden Retriever                1\n",
       "Collie Rough/Golden Retriever                    1\n",
       "Name: count, Length: 1527, dtype: int64"
      ]
     },
     "execution_count": 43,
     "metadata": {},
     "output_type": "execute_result"
    }
   ],
   "source": [
    "df['Breed'].value_counts()"
   ]
  },
  {
   "cell_type": "markdown",
   "id": "58bdcceb",
   "metadata": {},
   "source": [
    "### There are a lot of breed categories, so we will use only the first breed if there are more than 1"
   ]
  },
  {
   "cell_type": "code",
   "execution_count": 44,
   "id": "d831872c",
   "metadata": {},
   "outputs": [],
   "source": [
    "df[['Breed1', 'Breed2', 'Breed3']] = df['Breed'].str.split('/', expand=True)"
   ]
  },
  {
   "cell_type": "code",
   "execution_count": 45,
   "id": "607b2983",
   "metadata": {},
   "outputs": [
    {
     "data": {
      "application/vnd.microsoft.datawrangler.viewer.v0+json": {
       "columns": [
        {
         "name": "Breed3",
         "rawType": "object",
         "type": "string"
        },
        {
         "name": "count",
         "rawType": "int64",
         "type": "integer"
        }
       ],
       "ref": "579bdb54-cbcd-43fb-8ed3-902fb3a83f06",
       "rows": [
        [
         "Tan Hound",
         "9"
        ],
        [
         "Black Mouth Cur",
         "2"
        ],
        [
         "Labrador Retriever",
         "1"
        ],
        [
         "German Shepherd",
         "1"
        ],
        [
         "Siberian Husky",
         "1"
        ]
       ],
       "shape": {
        "columns": 1,
        "rows": 5
       }
      },
      "text/plain": [
       "Breed3\n",
       "Tan Hound             9\n",
       "Black Mouth Cur       2\n",
       "Labrador Retriever    1\n",
       "German Shepherd       1\n",
       "Siberian Husky        1\n",
       "Name: count, dtype: int64"
      ]
     },
     "execution_count": 45,
     "metadata": {},
     "output_type": "execute_result"
    }
   ],
   "source": [
    "df['Breed3'].value_counts()"
   ]
  },
  {
   "cell_type": "code",
   "execution_count": 46,
   "id": "ada06530",
   "metadata": {},
   "outputs": [],
   "source": [
    "df[['Color1', 'Color2']] = df['Color'].str.split('/', expand=True)"
   ]
  },
  {
   "cell_type": "code",
   "execution_count": 47,
   "id": "fc85d9d5",
   "metadata": {},
   "outputs": [
    {
     "data": {
      "application/vnd.microsoft.datawrangler.viewer.v0+json": {
       "columns": [
        {
         "name": "Color1",
         "rawType": "object",
         "type": "string"
        },
        {
         "name": "count",
         "rawType": "int64",
         "type": "integer"
        }
       ],
       "ref": "88ab38cf-7870-4f46-a9fc-a0cb566df41e",
       "rows": [
        [
         "Black",
         "9201"
        ],
        [
         "White",
         "4731"
        ],
        [
         "Brown Tabby",
         "3715"
        ],
        [
         "Brown",
         "2794"
        ],
        [
         "Tan",
         "2393"
        ],
        [
         "Orange Tabby",
         "1820"
        ],
        [
         "Blue",
         "1742"
        ],
        [
         "Tricolor",
         "1131"
        ],
        [
         "Red",
         "1107"
        ],
        [
         "Brown Brindle",
         "1035"
        ],
        [
         "Blue Tabby",
         "958"
        ],
        [
         "Tortie",
         "829"
        ],
        [
         "Calico",
         "760"
        ],
        [
         "Chocolate",
         "646"
        ],
        [
         "Torbie",
         "567"
        ],
        [
         "Sable",
         "459"
        ],
        [
         "Cream Tabby",
         "438"
        ],
        [
         "Buff",
         "358"
        ],
        [
         "Yellow",
         "350"
        ],
        [
         "Cream",
         "316"
        ],
        [
         "Gray",
         "314"
        ],
        [
         "Fawn",
         "295"
        ],
        [
         "Lynx Point",
         "276"
        ],
        [
         "Blue Merle",
         "240"
        ],
        [
         "Seal Point",
         "234"
        ],
        [
         "Black Brindle",
         "144"
        ],
        [
         "Flame Point",
         "121"
        ],
        [
         "Gold",
         "103"
        ],
        [
         "Black Smoke",
         "102"
        ],
        [
         "Black Tabby",
         "95"
        ],
        [
         "Brown Merle",
         "93"
        ],
        [
         "Silver",
         "74"
        ],
        [
         "Red Merle",
         "66"
        ],
        [
         "Orange",
         "61"
        ],
        [
         "Gray Tabby",
         "60"
        ],
        [
         "Blue Tick",
         "58"
        ],
        [
         "Red Tick",
         "56"
        ],
        [
         "Lilac Point",
         "56"
        ],
        [
         "Silver Tabby",
         "54"
        ],
        [
         "Yellow Brindle",
         "45"
        ],
        [
         "Blue Point",
         "44"
        ],
        [
         "Tortie Point",
         "42"
        ],
        [
         "Apricot",
         "41"
        ],
        [
         "Calico Point",
         "35"
        ],
        [
         "Chocolate Point",
         "29"
        ],
        [
         "Blue Cream",
         "28"
        ],
        [
         "Liver",
         "26"
        ],
        [
         "Blue Tiger",
         "13"
        ],
        [
         "Blue Smoke",
         "9"
        ],
        [
         "Brown Tiger",
         "4"
        ]
       ],
       "shape": {
        "columns": 1,
        "rows": 57
       }
      },
      "text/plain": [
       "Color1\n",
       "Black                9201\n",
       "White                4731\n",
       "Brown Tabby          3715\n",
       "Brown                2794\n",
       "Tan                  2393\n",
       "Orange Tabby         1820\n",
       "Blue                 1742\n",
       "Tricolor             1131\n",
       "Red                  1107\n",
       "Brown Brindle        1035\n",
       "Blue Tabby            958\n",
       "Tortie                829\n",
       "Calico                760\n",
       "Chocolate             646\n",
       "Torbie                567\n",
       "Sable                 459\n",
       "Cream Tabby           438\n",
       "Buff                  358\n",
       "Yellow                350\n",
       "Cream                 316\n",
       "Gray                  314\n",
       "Fawn                  295\n",
       "Lynx Point            276\n",
       "Blue Merle            240\n",
       "Seal Point            234\n",
       "Black Brindle         144\n",
       "Flame Point           121\n",
       "Gold                  103\n",
       "Black Smoke           102\n",
       "Black Tabby            95\n",
       "Brown Merle            93\n",
       "Silver                 74\n",
       "Red Merle              66\n",
       "Orange                 61\n",
       "Gray Tabby             60\n",
       "Blue Tick              58\n",
       "Red Tick               56\n",
       "Lilac Point            56\n",
       "Silver Tabby           54\n",
       "Yellow Brindle         45\n",
       "Blue Point             44\n",
       "Tortie Point           42\n",
       "Apricot                41\n",
       "Calico Point           35\n",
       "Chocolate Point        29\n",
       "Blue Cream             28\n",
       "Liver                  26\n",
       "Blue Tiger             13\n",
       "Blue Smoke              9\n",
       "Brown Tiger             4\n",
       "Liver Tick              4\n",
       "Silver Lynx Point       4\n",
       "Agouti                  3\n",
       "Pink                    2\n",
       "Black Tiger             2\n",
       "Ruddy                   1\n",
       "Orange Tiger            1\n",
       "Name: count, dtype: int64"
      ]
     },
     "execution_count": 47,
     "metadata": {},
     "output_type": "execute_result"
    }
   ],
   "source": [
    "df['Color1'].value_counts()"
   ]
  },
  {
   "cell_type": "code",
   "execution_count": 48,
   "id": "5efe011f",
   "metadata": {},
   "outputs": [
    {
     "data": {
      "application/vnd.microsoft.datawrangler.viewer.v0+json": {
       "columns": [
        {
         "name": "Color2",
         "rawType": "object",
         "type": "string"
        },
        {
         "name": "count",
         "rawType": "int64",
         "type": "integer"
        }
       ],
       "ref": "a6b22d2b-6412-4053-b80c-de79e1b44311",
       "rows": [
        [
         "White",
         "12631"
        ],
        [
         "Black",
         "1985"
        ],
        [
         "Tan",
         "1981"
        ],
        [
         "Brown",
         "1512"
        ],
        [
         "Brown Brindle",
         "231"
        ],
        [
         "Blue",
         "205"
        ],
        [
         "Gray",
         "175"
        ],
        [
         "Tricolor",
         "154"
        ],
        [
         "Brown Tabby",
         "149"
        ],
        [
         "Red",
         "134"
        ],
        [
         "Cream",
         "111"
        ],
        [
         "Buff",
         "82"
        ],
        [
         "Orange Tabby",
         "71"
        ],
        [
         "Chocolate",
         "63"
        ],
        [
         "Orange",
         "62"
        ],
        [
         "Silver",
         "43"
        ],
        [
         "Blue Merle",
         "33"
        ],
        [
         "Blue Tabby",
         "27"
        ],
        [
         "Red Tick",
         "24"
        ],
        [
         "Black Brindle",
         "22"
        ],
        [
         "Blue Cream",
         "18"
        ],
        [
         "Brown Merle",
         "16"
        ],
        [
         "Blue Tick",
         "14"
        ],
        [
         "Liver",
         "14"
        ],
        [
         "Yellow Brindle",
         "12"
        ],
        [
         "Red Merle",
         "10"
        ],
        [
         "Gold",
         "10"
        ],
        [
         "Yellow",
         "9"
        ],
        [
         "Black Smoke",
         "9"
        ],
        [
         "Black Tabby",
         "7"
        ],
        [
         "Calico",
         "7"
        ],
        [
         "Tortie",
         "6"
        ],
        [
         "Apricot",
         "6"
        ],
        [
         "Cream Tabby",
         "6"
        ],
        [
         "Gray Tabby",
         "4"
        ],
        [
         "Lynx Point",
         "4"
        ],
        [
         "Pink",
         "3"
        ],
        [
         "Chocolate Point",
         "3"
        ],
        [
         "Seal Point",
         "2"
        ],
        [
         "Blue Tiger",
         "1"
        ],
        [
         "Blue Smoke",
         "1"
        ],
        [
         "Brown Tiger",
         "1"
        ],
        [
         "Silver Tabby",
         "1"
        ],
        [
         "Flame Point",
         "1"
        ],
        [
         "Tortie Point",
         "1"
        ],
        [
         "Gray Tiger",
         "1"
        ]
       ],
       "shape": {
        "columns": 1,
        "rows": 46
       }
      },
      "text/plain": [
       "Color2\n",
       "White              12631\n",
       "Black               1985\n",
       "Tan                 1981\n",
       "Brown               1512\n",
       "Brown Brindle        231\n",
       "Blue                 205\n",
       "Gray                 175\n",
       "Tricolor             154\n",
       "Brown Tabby          149\n",
       "Red                  134\n",
       "Cream                111\n",
       "Buff                  82\n",
       "Orange Tabby          71\n",
       "Chocolate             63\n",
       "Orange                62\n",
       "Silver                43\n",
       "Blue Merle            33\n",
       "Blue Tabby            27\n",
       "Red Tick              24\n",
       "Black Brindle         22\n",
       "Blue Cream            18\n",
       "Brown Merle           16\n",
       "Blue Tick             14\n",
       "Liver                 14\n",
       "Yellow Brindle        12\n",
       "Red Merle             10\n",
       "Gold                  10\n",
       "Yellow                 9\n",
       "Black Smoke            9\n",
       "Black Tabby            7\n",
       "Calico                 7\n",
       "Tortie                 6\n",
       "Apricot                6\n",
       "Cream Tabby            6\n",
       "Gray Tabby             4\n",
       "Lynx Point             4\n",
       "Pink                   3\n",
       "Chocolate Point        3\n",
       "Seal Point             2\n",
       "Blue Tiger             1\n",
       "Blue Smoke             1\n",
       "Brown Tiger            1\n",
       "Silver Tabby           1\n",
       "Flame Point            1\n",
       "Tortie Point           1\n",
       "Gray Tiger             1\n",
       "Name: count, dtype: int64"
      ]
     },
     "execution_count": 48,
     "metadata": {},
     "output_type": "execute_result"
    }
   ],
   "source": [
    "df['Color2'].value_counts()"
   ]
  },
  {
   "cell_type": "markdown",
   "id": "4f71d0ba",
   "metadata": {},
   "source": [
    "- For practicity, we will only use the first Breed and Color columns"
   ]
  },
  {
   "cell_type": "markdown",
   "id": "0a9f97df",
   "metadata": {},
   "source": [
    "### Get datetime columns"
   ]
  },
  {
   "cell_type": "code",
   "execution_count": 58,
   "id": "9ba6b791",
   "metadata": {},
   "outputs": [],
   "source": [
    "df['hour'] = df['DateTime'].dt.hour\n",
    "df['weekday'] = df['DateTime'].dt.weekday\n",
    "df['month'] = df['DateTime'].dt.month"
   ]
  },
  {
   "cell_type": "markdown",
   "id": "452d0bf4",
   "metadata": {},
   "source": [
    "* Get TimeOfDay (morning/midday/evening/night)"
   ]
  },
  {
   "cell_type": "code",
   "execution_count": 61,
   "id": "1bf5e177",
   "metadata": {},
   "outputs": [],
   "source": [
    "# we'll use the cut() method\n",
    "bins = [0, 5, 11, 13, 17, 21, 23]\n",
    "labels = ['night', 'morning', 'midday', 'afternoon', 'evening', 'late night']\n",
    "\n",
    "df['time_of_day'] = pd.cut(df['hour'], bins=bins, labels=labels, include_lowest=True)"
   ]
  },
  {
   "cell_type": "markdown",
   "id": "b793a9f3",
   "metadata": {},
   "source": [
    "* Get more derived variables"
   ]
  },
  {
   "cell_type": "code",
   "execution_count": 63,
   "id": "c2722017",
   "metadata": {},
   "outputs": [
    {
     "data": {
      "text/plain": [
       "Index(['AnimalID', 'Name', 'DateTime', 'AnimalType', 'SexuponOutcome',\n",
       "       'AgeuponOutcome', 'Breed', 'Color', 'isMix', 'Breed1', 'Breed2',\n",
       "       'Breed3', 'Color1', 'Color2', 'hour', 'weekday', 'month',\n",
       "       'time_of_day'],\n",
       "      dtype='object')"
      ]
     },
     "execution_count": 63,
     "metadata": {},
     "output_type": "execute_result"
    }
   ],
   "source": [
    "df.columns"
   ]
  },
  {
   "cell_type": "code",
   "execution_count": 73,
   "id": "07e69229",
   "metadata": {},
   "outputs": [],
   "source": [
    "# 2 ways\n",
    "# df['has_name'] = np.where(df['Name'].isna(), 'yes', 'no')\n",
    "df['has_name'] = df['Name'].notna().map({True: 'yes', False: 'no'})"
   ]
  },
  {
   "cell_type": "code",
   "execution_count": 75,
   "id": "25c0708b",
   "metadata": {},
   "outputs": [
    {
     "data": {
      "application/vnd.microsoft.datawrangler.viewer.v0+json": {
       "columns": [
        {
         "name": "SexuponOutcome",
         "rawType": "object",
         "type": "string"
        },
        {
         "name": "count",
         "rawType": "int64",
         "type": "integer"
        }
       ],
       "ref": "bbbe116f-12c2-4bd6-9643-a1a832a9338b",
       "rows": [
        [
         "Neutered Male",
         "14014"
        ],
        [
         "Spayed Female",
         "12633"
        ],
        [
         "Intact Female",
         "5004"
        ],
        [
         "Intact Male",
         "4985"
        ],
        [
         "Unknown",
         "1548"
        ]
       ],
       "shape": {
        "columns": 1,
        "rows": 5
       }
      },
      "text/plain": [
       "SexuponOutcome\n",
       "Neutered Male    14014\n",
       "Spayed Female    12633\n",
       "Intact Female     5004\n",
       "Intact Male       4985\n",
       "Unknown           1548\n",
       "Name: count, dtype: int64"
      ]
     },
     "execution_count": 75,
     "metadata": {},
     "output_type": "execute_result"
    }
   ],
   "source": [
    "df['SexuponOutcome'].value_counts()"
   ]
  },
  {
   "cell_type": "markdown",
   "id": "2ee42d03",
   "metadata": {},
   "source": [
    "* Separate Sex & Intact status"
   ]
  },
  {
   "cell_type": "code",
   "execution_count": 80,
   "id": "ab0fd6bc",
   "metadata": {},
   "outputs": [],
   "source": [
    "df[['status', 'sex']] = df['SexuponOutcome'].str.split(' ', expand=True)"
   ]
  },
  {
   "cell_type": "markdown",
   "id": "35425436",
   "metadata": {},
   "source": [
    "* Fill na values with the default 'Unknown' value"
   ]
  },
  {
   "cell_type": "code",
   "execution_count": null,
   "id": "f34fabee",
   "metadata": {},
   "outputs": [],
   "source": [
    "df[['status', 'sex']] = df[['status', 'sex']].fillna('Unknown')\n"
   ]
  },
  {
   "cell_type": "markdown",
   "id": "d93b2eb5",
   "metadata": {},
   "source": [
    "* LifeStage Variable (>365 days threshold)"
   ]
  },
  {
   "cell_type": "code",
   "execution_count": 97,
   "id": "1651859f",
   "metadata": {},
   "outputs": [],
   "source": [
    "df['life_stage'] = np.where(df['AgeuponOutcome'] > 365, 'adult', 'baby')"
   ]
  },
  {
   "cell_type": "code",
   "execution_count": 95,
   "id": "98bad87b",
   "metadata": {},
   "outputs": [
    {
     "data": {
      "text/plain": [
       "Index(['AnimalID', 'Name', 'DateTime', 'AnimalType', 'SexuponOutcome',\n",
       "       'AgeuponOutcome', 'Breed', 'Color', 'isMix', 'Breed1', 'Breed2',\n",
       "       'Breed3', 'Color1', 'Color2', 'hour', 'weekday', 'month', 'time_of_day',\n",
       "       'has_name', 'sex', 'status'],\n",
       "      dtype='object')"
      ]
     },
     "execution_count": 95,
     "metadata": {},
     "output_type": "execute_result"
    }
   ],
   "source": [
    "df.columns"
   ]
  },
  {
   "cell_type": "code",
   "execution_count": null,
   "id": "7f1d26b1",
   "metadata": {},
   "outputs": [
    {
     "data": {
      "application/vnd.microsoft.datawrangler.viewer.v0+json": {
       "columns": [
        {
         "name": "index",
         "rawType": "int64",
         "type": "integer"
        },
        {
         "name": "AgeuponOutcome",
         "rawType": "float64",
         "type": "float"
        }
       ],
       "ref": "7ae8b93b-c583-4d26-a5f3-da9a4a9bfad7",
       "rows": [
        [
         "0",
         "365.0"
        ],
        [
         "1",
         "365.0"
        ],
        [
         "2",
         "730.0"
        ],
        [
         "3",
         "21.0"
        ],
        [
         "4",
         "730.0"
        ],
        [
         "5",
         "30.0"
        ],
        [
         "6",
         "21.0"
        ],
        [
         "7",
         "21.0"
        ],
        [
         "8",
         "150.0"
        ],
        [
         "9",
         "365.0"
        ],
        [
         "10",
         "730.0"
        ],
        [
         "11",
         "730.0"
        ],
        [
         "12",
         "1460.0"
        ],
        [
         "13",
         "730.0"
        ],
        [
         "14",
         "365.0"
        ],
        [
         "15",
         "90.0"
        ],
        [
         "16",
         "21.0"
        ],
        [
         "17",
         "14.0"
        ],
        [
         "18",
         "730.0"
        ],
        [
         "19",
         "365.0"
        ],
        [
         "20",
         "60.0"
        ],
        [
         "21",
         "365.0"
        ],
        [
         "22",
         "730.0"
        ],
        [
         "23",
         "300.0"
        ],
        [
         "24",
         "60.0"
        ],
        [
         "25",
         "30.0"
        ],
        [
         "26",
         "180.0"
        ],
        [
         "27",
         "1825.0"
        ],
        [
         "28",
         "60.0"
        ],
        [
         "29",
         "2555.0"
        ],
        [
         "30",
         "1095.0"
        ],
        [
         "31",
         "120.0"
        ],
        [
         "32",
         "60.0"
        ],
        [
         "33",
         "1825.0"
        ],
        [
         "34",
         "1095.0"
        ],
        [
         "35",
         "1095.0"
        ],
        [
         "36",
         "1095.0"
        ],
        [
         "37",
         "60.0"
        ],
        [
         "38",
         "120.0"
        ],
        [
         "39",
         "21.0"
        ],
        [
         "40",
         "2555.0"
        ],
        [
         "41",
         "60.0"
        ],
        [
         "42",
         "60.0"
        ],
        [
         "43",
         "1460.0"
        ],
        [
         "44",
         "730.0"
        ],
        [
         "45",
         "4380.0"
        ],
        [
         "46",
         "3285.0"
        ],
        [
         "47",
         "21.0"
        ],
        [
         "48",
         "150.0"
        ],
        [
         "49",
         "2190.0"
        ]
       ],
       "shape": {
        "columns": 1,
        "rows": 38185
       }
      },
      "text/plain": [
       "0         365.0\n",
       "1         365.0\n",
       "2         730.0\n",
       "3          21.0\n",
       "4         730.0\n",
       "          ...  \n",
       "11451      60.0\n",
       "11452      14.0\n",
       "11453     365.0\n",
       "11454    2190.0\n",
       "11455    1460.0\n",
       "Name: AgeuponOutcome, Length: 38185, dtype: float64"
      ]
     },
     "execution_count": 96,
     "metadata": {},
     "output_type": "execute_result"
    }
   ],
   "source": [
    "df['life_stage']"
   ]
  },
  {
   "cell_type": "code",
   "execution_count": 98,
   "id": "ecfc1f7d",
   "metadata": {},
   "outputs": [
    {
     "data": {
      "application/vnd.microsoft.datawrangler.viewer.v0+json": {
       "columns": [
        {
         "name": "index",
         "rawType": "int64",
         "type": "integer"
        },
        {
         "name": "life_stage",
         "rawType": "object",
         "type": "string"
        }
       ],
       "ref": "427059ff-d285-4613-92b0-f2bc4de9afe1",
       "rows": [
        [
         "0",
         "baby"
        ],
        [
         "1",
         "baby"
        ],
        [
         "2",
         "adult"
        ],
        [
         "3",
         "baby"
        ],
        [
         "4",
         "adult"
        ],
        [
         "5",
         "baby"
        ],
        [
         "6",
         "baby"
        ],
        [
         "7",
         "baby"
        ],
        [
         "8",
         "baby"
        ],
        [
         "9",
         "baby"
        ]
       ],
       "shape": {
        "columns": 1,
        "rows": 10
       }
      },
      "text/plain": [
       "0     baby\n",
       "1     baby\n",
       "2    adult\n",
       "3     baby\n",
       "4    adult\n",
       "5     baby\n",
       "6     baby\n",
       "7     baby\n",
       "8     baby\n",
       "9     baby\n",
       "Name: life_stage, dtype: object"
      ]
     },
     "execution_count": 98,
     "metadata": {},
     "output_type": "execute_result"
    }
   ],
   "source": [
    "df['life_stage'].head(10)"
   ]
  },
  {
   "cell_type": "code",
   "execution_count": null,
   "id": "9601ee35",
   "metadata": {},
   "outputs": [],
   "source": []
  }
 ],
 "metadata": {
  "kernelspec": {
   "display_name": "animal_shelter_env",
   "language": "python",
   "name": "python3"
  },
  "language_info": {
   "codemirror_mode": {
    "name": "ipython",
    "version": 3
   },
   "file_extension": ".py",
   "mimetype": "text/x-python",
   "name": "python",
   "nbconvert_exporter": "python",
   "pygments_lexer": "ipython3",
   "version": "3.13.5"
  }
 },
 "nbformat": 4,
 "nbformat_minor": 5
}
