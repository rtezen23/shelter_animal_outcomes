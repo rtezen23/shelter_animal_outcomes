{
 "cells": [
  {
   "cell_type": "code",
   "execution_count": 113,
   "id": "72ca4ec5",
   "metadata": {},
   "outputs": [],
   "source": [
    "import pandas as pd\n",
    "import numpy as np"
   ]
  },
  {
   "cell_type": "code",
   "execution_count": 119,
   "id": "bcb9a27d",
   "metadata": {},
   "outputs": [
    {
     "name": "stdout",
     "output_type": "stream",
     "text": [
      "Train shape: (26729, 10)\n",
      "Test shape: (11456, 8)\n"
     ]
    }
   ],
   "source": [
    "# 1. LOAD DATA - KEEP SEPARATE\n",
    "\n",
    "df_train = pd.read_csv('./data/train.csv')\n",
    "df_test = pd.read_csv('./data/test.csv')\n",
    "\n",
    "print(f\"Train shape: {df_train.shape}\")\n",
    "print(f\"Test shape: {df_test.shape}\")"
   ]
  },
  {
   "cell_type": "code",
   "execution_count": 115,
   "id": "e0783996",
   "metadata": {},
   "outputs": [],
   "source": [
    "def preprocess_data(df, is_train=True):\n",
    "    \"\"\"\n",
    "    Apply all preprocessing steps to dataset\n",
    "    \"\"\"\n",
    "    df = df.copy()\n",
    "    \n",
    "    # Convert datetime\n",
    "    df['DateTime'] = pd.to_datetime(df['DateTime'], errors='raise')\n",
    "    \n",
    "    # Standardize age to days\n",
    "    def standardize_age(age):\n",
    "        if pd.isna(age):\n",
    "            return None\n",
    "        \n",
    "        value, period = age.strip().split()\n",
    "        value = int(value)\n",
    "        \n",
    "        if 'week' in period:\n",
    "            return value * 7\n",
    "        elif 'month' in period:\n",
    "            return value * 30\n",
    "        elif 'year' in period:\n",
    "            return value * 365\n",
    "        else:\n",
    "            return None\n",
    "    \n",
    "    df['AgeuponOutcome'] = df['AgeuponOutcome'].apply(standardize_age)\n",
    "    \n",
    "    # Is Mix flag\n",
    "    df['isMix'] = df['Breed'].str.contains('Mix', na=False)\n",
    "    \n",
    "    # Clean breed (remove Mix)\n",
    "    df['Breed'] = df['Breed'].str.replace('Mix', '').str.strip()\n",
    "    \n",
    "    # Split breed and color\n",
    "    df[['Breed1', 'Breed2', 'Breed3']] = df['Breed'].str.split('/', expand=True)\n",
    "    df[['Color1', 'Color2']] = df['Color'].str.split('/', expand=True)\n",
    "    \n",
    "    # Temporal features\n",
    "    df['hour'] = df['DateTime'].dt.hour\n",
    "    df['weekday'] = df['DateTime'].dt.weekday\n",
    "    df['month'] = df['DateTime'].dt.month\n",
    "    \n",
    "    # Time of day\n",
    "    bins = [0, 5, 11, 13, 17, 21, 23]\n",
    "    labels = ['night', 'morning', 'midday', 'afternoon', 'evening', 'late night']\n",
    "    df['time_of_day'] = pd.cut(df['hour'], bins=bins, labels=labels, include_lowest=True)\n",
    "    \n",
    "    # Has name\n",
    "    df['has_name'] = df['Name'].notna().map({True: 'yes', False: 'no'})\n",
    "    \n",
    "    # Separate sex and status\n",
    "    df[['status', 'sex']] = df['SexuponOutcome'].str.split(' ', expand=True)\n",
    "    df[['status', 'sex']] = df[['status', 'sex']].fillna('Unknown')\n",
    "    \n",
    "    # Life stage\n",
    "    df['life_stage'] = np.where(df['AgeuponOutcome'] > 365, 'adult', 'baby')\n",
    "    \n",
    "    # Select final columns\n",
    "    if is_train:\n",
    "        columns_to_keep = ['AnimalType', 'AgeuponOutcome', 'isMix', 'Breed1', 'Color1', \n",
    "                          'hour', 'weekday', 'month', 'time_of_day', 'has_name', \n",
    "                          'status', 'sex', 'life_stage', 'OutcomeType']\n",
    "    else:\n",
    "        columns_to_keep = ['ID', 'AnimalType', 'AgeuponOutcome', 'isMix', 'Breed1', 'Color1', \n",
    "                          'hour', 'weekday', 'month', 'time_of_day', 'has_name', \n",
    "                          'status', 'sex', 'life_stage']\n",
    "    \n",
    "    df = df[columns_to_keep]\n",
    "    \n",
    "    # Drop missing values in age\n",
    "    if is_train:\n",
    "        df = df.dropna(subset=['AgeuponOutcome'])\n",
    "    else:\n",
    "        # For test, fill missing ages with median from training\n",
    "        df['AgeuponOutcome'].fillna(df['AgeuponOutcome'].median(), inplace=True)\n",
    "    \n",
    "    return df"
   ]
  },
  {
   "cell_type": "code",
   "execution_count": 116,
   "id": "6e965ab9",
   "metadata": {},
   "outputs": [
    {
     "name": "stdout",
     "output_type": "stream",
     "text": [
      "Train processed shape: (26313, 14)\n",
      "Missing values: 0\n"
     ]
    }
   ],
   "source": [
    "# 3. PREPROCESS TRAIN DATA\n",
    "train_processed = preprocess_data(df_train, is_train=True)\n",
    "print(f\"Train processed shape: {train_processed.shape}\")\n",
    "print(f\"Missing values: {train_processed.isna().sum().sum()}\")"
   ]
  },
  {
   "cell_type": "code",
   "execution_count": 117,
   "id": "ead14917",
   "metadata": {},
   "outputs": [
    {
     "name": "stdout",
     "output_type": "stream",
     "text": [
      "Features shape: (26313, 13)\n",
      "Target distribution:\n",
      "OutcomeType\n",
      "Adoption           10769\n",
      "Transfer            9043\n",
      "Return_to_owner     4780\n",
      "Euthanasia          1546\n",
      "Died                 175\n",
      "Name: count, dtype: int64\n"
     ]
    }
   ],
   "source": [
    "# 4. PREPARE FEATURES AND TARGET\n",
    "# Separate features and target\n",
    "X = train_processed.drop('OutcomeType', axis=1)\n",
    "y = train_processed['OutcomeType']\n",
    "\n",
    "print(f\"Features shape: {X.shape}\")\n",
    "print(f\"Target distribution:\\n{y.value_counts()}\")"
   ]
  },
  {
   "cell_type": "code",
   "execution_count": 120,
   "id": "c8174a39",
   "metadata": {},
   "outputs": [
    {
     "name": "stdout",
     "output_type": "stream",
     "text": [
      "Encoding completed!\n",
      "Feature dtypes:\n",
      "AnimalType          int64\n",
      "AgeuponOutcome    float64\n",
      "isMix               int64\n",
      "Breed1              int64\n",
      "Color1              int64\n",
      "hour                int32\n",
      "weekday             int32\n",
      "month               int32\n",
      "time_of_day         int64\n",
      "has_name            int64\n",
      "status              int64\n",
      "sex                 int64\n",
      "life_stage          int64\n",
      "dtype: object\n"
     ]
    }
   ],
   "source": [
    "# 5. ENCODE CATEGORICAL VARIABLES\n",
    "from sklearn.preprocessing import LabelEncoder\n",
    "\n",
    "# Store encoders for later use on test set\n",
    "encoders = {}\n",
    "categorical_cols = ['AnimalType', 'isMix', 'Breed1', 'Color1', 'time_of_day', \n",
    "                   'has_name', 'status', 'sex', 'life_stage']\n",
    "\n",
    "\n",
    "# Encode categorical variables\n",
    "for col in categorical_cols:\n",
    "    le = LabelEncoder()\n",
    "    X[col] = le.fit_transform(X[col].astype(str))\n",
    "    encoders[col] = le\n",
    "\n",
    "# Encode target\n",
    "target_encoder = LabelEncoder()\n",
    "y_encoded = target_encoder.fit_transform(y)\n",
    "\n",
    "print(\"Encoding completed!\")\n",
    "print(f\"Feature dtypes:\\n{X.dtypes}\")"
   ]
  }
 ],
 "metadata": {
  "kernelspec": {
   "display_name": "animal_shelter_env",
   "language": "python",
   "name": "python3"
  },
  "language_info": {
   "codemirror_mode": {
    "name": "ipython",
    "version": 3
   },
   "file_extension": ".py",
   "mimetype": "text/x-python",
   "name": "python",
   "nbconvert_exporter": "python",
   "pygments_lexer": "ipython3",
   "version": "3.13.5"
  }
 },
 "nbformat": 4,
 "nbformat_minor": 5
}
